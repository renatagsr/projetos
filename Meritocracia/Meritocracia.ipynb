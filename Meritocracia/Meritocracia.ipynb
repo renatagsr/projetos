{
 "metadata": {
  "language_info": {
   "codemirror_mode": {
    "name": "ipython",
    "version": 3
   },
   "file_extension": ".py",
   "mimetype": "text/x-python",
   "name": "python",
   "nbconvert_exporter": "python",
   "pygments_lexer": "ipython3",
   "version": "3.8.5-final"
  },
  "orig_nbformat": 2,
  "kernelspec": {
   "name": "python3",
   "display_name": "Python 3",
   "language": "python"
  }
 },
 "nbformat": 4,
 "nbformat_minor": 2,
 "cells": [
  {
   "source": [
    "# Merito e Sorte\n"
   ],
   "cell_type": "markdown",
   "metadata": {}
  },
  {
   "cell_type": "code",
   "execution_count": 2,
   "metadata": {},
   "outputs": [],
   "source": [
    "import tabula\n",
    "import pandas as pd"
   ]
  },
  {
   "cell_type": "code",
   "execution_count": 7,
   "metadata": {},
   "outputs": [
    {
     "output_type": "execute_result",
     "data": {
      "text/plain": [
       "2"
      ]
     },
     "metadata": {},
     "execution_count": 7
    }
   ],
   "source": [
    "dados = tabula.read_pdf(\"/home/renata/Desktop/Cursos/projetos/Meritocracia/inscritos_2020.pdf\",\n",
    "                        pages = \"all\")\n",
    "len(dados)"
   ]
  },
  {
   "cell_type": "code",
   "execution_count": 9,
   "metadata": {},
   "outputs": [
    {
     "output_type": "execute_result",
     "data": {
      "text/plain": [
       "   CODIGO                                               NOME  VAGAS  \\\n",
       "0     100  Administração, Ciências Contábeis, Economia, E...    187   \n",
       "1     101                         Administração - Piracicaba     40   \n",
       "2     105                                  Arquitetura - FAU    105   \n",
       "3     110                           Arquitetura - São Carlos     31   \n",
       "4     115                                      Artes Cênicas     30   \n",
       "\n",
       "   INSCRITOS    C/V  VAGAS AC  INSCRITOS AC C/V AC  VAGAS EP  INSCRITOS EP  \\\n",
       "0       1562   8,35        93          1165  12,53        59           312   \n",
       "1        283   7,08        22           196   8,91        11            70   \n",
       "2       2724  25,94        67          1924  28,72        27           599   \n",
       "3        622  20,06        15           408   27,2        10           178   \n",
       "4        667  22,23        16           411  25,69         8           185   \n",
       "\n",
       "  C/V EP  VAGAS PPI  INSCRITOS PPI C/V PPI  \n",
       "0   5,29         35             85    2,43  \n",
       "1   6,36          7             17    2,43  \n",
       "2  22,19         11            201   18,27  \n",
       "3   17,8          6             36       6  \n",
       "4  23,13          6             71   11,83  "
      ],
      "text/html": "<div>\n<style scoped>\n    .dataframe tbody tr th:only-of-type {\n        vertical-align: middle;\n    }\n\n    .dataframe tbody tr th {\n        vertical-align: top;\n    }\n\n    .dataframe thead th {\n        text-align: right;\n    }\n</style>\n<table border=\"1\" class=\"dataframe\">\n  <thead>\n    <tr style=\"text-align: right;\">\n      <th></th>\n      <th>CODIGO</th>\n      <th>NOME</th>\n      <th>VAGAS</th>\n      <th>INSCRITOS</th>\n      <th>C/V</th>\n      <th>VAGAS AC</th>\n      <th>INSCRITOS AC</th>\n      <th>C/V AC</th>\n      <th>VAGAS EP</th>\n      <th>INSCRITOS EP</th>\n      <th>C/V EP</th>\n      <th>VAGAS PPI</th>\n      <th>INSCRITOS PPI</th>\n      <th>C/V PPI</th>\n    </tr>\n  </thead>\n  <tbody>\n    <tr>\n      <th>0</th>\n      <td>100</td>\n      <td>Administração, Ciências Contábeis, Economia, E...</td>\n      <td>187</td>\n      <td>1562</td>\n      <td>8,35</td>\n      <td>93</td>\n      <td>1165</td>\n      <td>12,53</td>\n      <td>59</td>\n      <td>312</td>\n      <td>5,29</td>\n      <td>35</td>\n      <td>85</td>\n      <td>2,43</td>\n    </tr>\n    <tr>\n      <th>1</th>\n      <td>101</td>\n      <td>Administração - Piracicaba</td>\n      <td>40</td>\n      <td>283</td>\n      <td>7,08</td>\n      <td>22</td>\n      <td>196</td>\n      <td>8,91</td>\n      <td>11</td>\n      <td>70</td>\n      <td>6,36</td>\n      <td>7</td>\n      <td>17</td>\n      <td>2,43</td>\n    </tr>\n    <tr>\n      <th>2</th>\n      <td>105</td>\n      <td>Arquitetura - FAU</td>\n      <td>105</td>\n      <td>2724</td>\n      <td>25,94</td>\n      <td>67</td>\n      <td>1924</td>\n      <td>28,72</td>\n      <td>27</td>\n      <td>599</td>\n      <td>22,19</td>\n      <td>11</td>\n      <td>201</td>\n      <td>18,27</td>\n    </tr>\n    <tr>\n      <th>3</th>\n      <td>110</td>\n      <td>Arquitetura - São Carlos</td>\n      <td>31</td>\n      <td>622</td>\n      <td>20,06</td>\n      <td>15</td>\n      <td>408</td>\n      <td>27,2</td>\n      <td>10</td>\n      <td>178</td>\n      <td>17,8</td>\n      <td>6</td>\n      <td>36</td>\n      <td>6</td>\n    </tr>\n    <tr>\n      <th>4</th>\n      <td>115</td>\n      <td>Artes Cênicas</td>\n      <td>30</td>\n      <td>667</td>\n      <td>22,23</td>\n      <td>16</td>\n      <td>411</td>\n      <td>25,69</td>\n      <td>8</td>\n      <td>185</td>\n      <td>23,13</td>\n      <td>6</td>\n      <td>71</td>\n      <td>11,83</td>\n    </tr>\n  </tbody>\n</table>\n</div>"
     },
     "metadata": {},
     "execution_count": 9
    }
   ],
   "source": [
    "dados[0].head()"
   ]
  },
  {
   "cell_type": "code",
   "execution_count": 11,
   "metadata": {},
   "outputs": [
    {
     "output_type": "execute_result",
     "data": {
      "text/plain": [
       "     500                             Medicina 122 15794  129,46  67 11031  \\\n",
       "0  501.0                     Medicina - Bauru  42  5217  124,21  26  3952   \n",
       "1  505.0            Medicina - Ribeirão Preto  77  6856   89,04  55  5183   \n",
       "2  510.0                 Medicina Veterinária  56  2403   42,91  38  1607   \n",
       "3  515.0  Medicina Veterinária - Pirassununga  42   906   21,57  24   624   \n",
       "4  520.0                             Nutrição  56   854   15,25  40   600   \n",
       "\n",
       "  164,64  33  3484  105,58  22  1279  58,14  \n",
       "0    152   8   887  110,88   8   378  47,25  \n",
       "1  94,24  18  1418   78,78   4   255  63,75  \n",
       "2  42,29  11   615   55,91   7   181  25,86  \n",
       "3     26  10   224    22,4   8    58   7,25  \n",
       "4     15  12   203   16,92   4    51  12,75  "
      ],
      "text/html": "<div>\n<style scoped>\n    .dataframe tbody tr th:only-of-type {\n        vertical-align: middle;\n    }\n\n    .dataframe tbody tr th {\n        vertical-align: top;\n    }\n\n    .dataframe thead th {\n        text-align: right;\n    }\n</style>\n<table border=\"1\" class=\"dataframe\">\n  <thead>\n    <tr style=\"text-align: right;\">\n      <th></th>\n      <th>500</th>\n      <th>Medicina</th>\n      <th>122</th>\n      <th>15794</th>\n      <th>129,46</th>\n      <th>67</th>\n      <th>11031</th>\n      <th>164,64</th>\n      <th>33</th>\n      <th>3484</th>\n      <th>105,58</th>\n      <th>22</th>\n      <th>1279</th>\n      <th>58,14</th>\n    </tr>\n  </thead>\n  <tbody>\n    <tr>\n      <th>0</th>\n      <td>501.0</td>\n      <td>Medicina - Bauru</td>\n      <td>42</td>\n      <td>5217</td>\n      <td>124,21</td>\n      <td>26</td>\n      <td>3952</td>\n      <td>152</td>\n      <td>8</td>\n      <td>887</td>\n      <td>110,88</td>\n      <td>8</td>\n      <td>378</td>\n      <td>47,25</td>\n    </tr>\n    <tr>\n      <th>1</th>\n      <td>505.0</td>\n      <td>Medicina - Ribeirão Preto</td>\n      <td>77</td>\n      <td>6856</td>\n      <td>89,04</td>\n      <td>55</td>\n      <td>5183</td>\n      <td>94,24</td>\n      <td>18</td>\n      <td>1418</td>\n      <td>78,78</td>\n      <td>4</td>\n      <td>255</td>\n      <td>63,75</td>\n    </tr>\n    <tr>\n      <th>2</th>\n      <td>510.0</td>\n      <td>Medicina Veterinária</td>\n      <td>56</td>\n      <td>2403</td>\n      <td>42,91</td>\n      <td>38</td>\n      <td>1607</td>\n      <td>42,29</td>\n      <td>11</td>\n      <td>615</td>\n      <td>55,91</td>\n      <td>7</td>\n      <td>181</td>\n      <td>25,86</td>\n    </tr>\n    <tr>\n      <th>3</th>\n      <td>515.0</td>\n      <td>Medicina Veterinária - Pirassununga</td>\n      <td>42</td>\n      <td>906</td>\n      <td>21,57</td>\n      <td>24</td>\n      <td>624</td>\n      <td>26</td>\n      <td>10</td>\n      <td>224</td>\n      <td>22,4</td>\n      <td>8</td>\n      <td>58</td>\n      <td>7,25</td>\n    </tr>\n    <tr>\n      <th>4</th>\n      <td>520.0</td>\n      <td>Nutrição</td>\n      <td>56</td>\n      <td>854</td>\n      <td>15,25</td>\n      <td>40</td>\n      <td>600</td>\n      <td>15</td>\n      <td>12</td>\n      <td>203</td>\n      <td>16,92</td>\n      <td>4</td>\n      <td>51</td>\n      <td>12,75</td>\n    </tr>\n  </tbody>\n</table>\n</div>"
     },
     "metadata": {},
     "execution_count": 11
    }
   ],
   "source": [
    "dados[1].head()"
   ]
  },
  {
   "source": [
    "Os dados são duas páginas de uma mesma tabela, quando faz a leitura da segunda página (conforme feito acima) o tabula entende que a primeira linha é o cabeçalho e isso precisa ser modificado, pois caso não seja irá perder dados. O mesmo acontece, nesse caso, para as últimas linhas, já que elas possuem os totais."
   ],
   "cell_type": "markdown",
   "metadata": {}
  },
  {
   "cell_type": "code",
   "execution_count": 13,
   "metadata": {},
   "outputs": [
    {
     "output_type": "execute_result",
     "data": {
      "text/plain": [
       "      500                                           Medicina         122  \\\n",
       "47  870.0  Química (Bacharelado e Bacharelado com Atribui...  e Qua4li2d   \n",
       "48  875.0                Sistemas de Informação - São Carlos          35   \n",
       "49  999.0                             Treinamento E (Exatas)         300   \n",
       "50    NaN                                Total das Carreiras        9217   \n",
       "51    NaN                 Total das Carreiras sem Treineiros        8317   \n",
       "\n",
       "             15794         129,46        67  11031 164,64    33   3484 105,58  \\\n",
       "47  de e Ma1te7r3i  is) -4 S,1ã2o  Carlos23    112   4,87    11     52   4,73   \n",
       "48             342           9,77        19    217  11,42    10    104   10,4   \n",
       "49            3530          11,77       180   3177  17,65    75    308   4,11   \n",
       "50          129148          14,01      5964  94888  15,91  2082  26368  12,66   \n",
       "51          117019          14,07      5424  83841  15,46  1857  25450   13,7   \n",
       "\n",
       "      22  1279 58,14  \n",
       "47     8     9  1,13  \n",
       "48     6    21   3,5  \n",
       "49    45    45     1  \n",
       "50  1171  7892  6,74  \n",
       "51  1036  7728  7,46  "
      ],
      "text/html": "<div>\n<style scoped>\n    .dataframe tbody tr th:only-of-type {\n        vertical-align: middle;\n    }\n\n    .dataframe tbody tr th {\n        vertical-align: top;\n    }\n\n    .dataframe thead th {\n        text-align: right;\n    }\n</style>\n<table border=\"1\" class=\"dataframe\">\n  <thead>\n    <tr style=\"text-align: right;\">\n      <th></th>\n      <th>500</th>\n      <th>Medicina</th>\n      <th>122</th>\n      <th>15794</th>\n      <th>129,46</th>\n      <th>67</th>\n      <th>11031</th>\n      <th>164,64</th>\n      <th>33</th>\n      <th>3484</th>\n      <th>105,58</th>\n      <th>22</th>\n      <th>1279</th>\n      <th>58,14</th>\n    </tr>\n  </thead>\n  <tbody>\n    <tr>\n      <th>47</th>\n      <td>870.0</td>\n      <td>Química (Bacharelado e Bacharelado com Atribui...</td>\n      <td>e Qua4li2d</td>\n      <td>de e Ma1te7r3i</td>\n      <td>is) -4 S,1ã2o</td>\n      <td>Carlos23</td>\n      <td>112</td>\n      <td>4,87</td>\n      <td>11</td>\n      <td>52</td>\n      <td>4,73</td>\n      <td>8</td>\n      <td>9</td>\n      <td>1,13</td>\n    </tr>\n    <tr>\n      <th>48</th>\n      <td>875.0</td>\n      <td>Sistemas de Informação - São Carlos</td>\n      <td>35</td>\n      <td>342</td>\n      <td>9,77</td>\n      <td>19</td>\n      <td>217</td>\n      <td>11,42</td>\n      <td>10</td>\n      <td>104</td>\n      <td>10,4</td>\n      <td>6</td>\n      <td>21</td>\n      <td>3,5</td>\n    </tr>\n    <tr>\n      <th>49</th>\n      <td>999.0</td>\n      <td>Treinamento E (Exatas)</td>\n      <td>300</td>\n      <td>3530</td>\n      <td>11,77</td>\n      <td>180</td>\n      <td>3177</td>\n      <td>17,65</td>\n      <td>75</td>\n      <td>308</td>\n      <td>4,11</td>\n      <td>45</td>\n      <td>45</td>\n      <td>1</td>\n    </tr>\n    <tr>\n      <th>50</th>\n      <td>NaN</td>\n      <td>Total das Carreiras</td>\n      <td>9217</td>\n      <td>129148</td>\n      <td>14,01</td>\n      <td>5964</td>\n      <td>94888</td>\n      <td>15,91</td>\n      <td>2082</td>\n      <td>26368</td>\n      <td>12,66</td>\n      <td>1171</td>\n      <td>7892</td>\n      <td>6,74</td>\n    </tr>\n    <tr>\n      <th>51</th>\n      <td>NaN</td>\n      <td>Total das Carreiras sem Treineiros</td>\n      <td>8317</td>\n      <td>117019</td>\n      <td>14,07</td>\n      <td>5424</td>\n      <td>83841</td>\n      <td>15,46</td>\n      <td>1857</td>\n      <td>25450</td>\n      <td>13,7</td>\n      <td>1036</td>\n      <td>7728</td>\n      <td>7,46</td>\n    </tr>\n  </tbody>\n</table>\n</div>"
     },
     "metadata": {},
     "execution_count": 13
    }
   ],
   "source": [
    "#Ver últimas linhas\n",
    "dados[1].tail()"
   ]
  },
  {
   "cell_type": "code",
   "execution_count": 14,
   "metadata": {},
   "outputs": [
    {
     "output_type": "execute_result",
     "data": {
      "text/plain": [
       "      500                                           Medicina         122  \\\n",
       "45  855.0               Química - Bacharelado e Licenciatura          84   \n",
       "46  865.0            Química - Licenciatura - Ribeirão Preto          28   \n",
       "47  870.0  Química (Bacharelado e Bacharelado com Atribui...  e Qua4li2d   \n",
       "48  875.0                Sistemas de Informação - São Carlos          35   \n",
       "49  999.0                             Treinamento E (Exatas)         300   \n",
       "\n",
       "             15794         129,46        67 11031 164,64  33  3484 105,58  22  \\\n",
       "45             752           8,95        50   462   9,24  20   220     11  14   \n",
       "46              61           2,18        15    46   3,07   8    10   1,25   5   \n",
       "47  de e Ma1te7r3i  is) -4 S,1ã2o  Carlos23   112   4,87  11    52   4,73   8   \n",
       "48             342           9,77        19   217  11,42  10   104   10,4   6   \n",
       "49            3530          11,77       180  3177  17,65  75   308   4,11  45   \n",
       "\n",
       "    1279 58,14  \n",
       "45    70     5  \n",
       "46     5     1  \n",
       "47     9  1,13  \n",
       "48    21   3,5  \n",
       "49    45     1  "
      ],
      "text/html": "<div>\n<style scoped>\n    .dataframe tbody tr th:only-of-type {\n        vertical-align: middle;\n    }\n\n    .dataframe tbody tr th {\n        vertical-align: top;\n    }\n\n    .dataframe thead th {\n        text-align: right;\n    }\n</style>\n<table border=\"1\" class=\"dataframe\">\n  <thead>\n    <tr style=\"text-align: right;\">\n      <th></th>\n      <th>500</th>\n      <th>Medicina</th>\n      <th>122</th>\n      <th>15794</th>\n      <th>129,46</th>\n      <th>67</th>\n      <th>11031</th>\n      <th>164,64</th>\n      <th>33</th>\n      <th>3484</th>\n      <th>105,58</th>\n      <th>22</th>\n      <th>1279</th>\n      <th>58,14</th>\n    </tr>\n  </thead>\n  <tbody>\n    <tr>\n      <th>45</th>\n      <td>855.0</td>\n      <td>Química - Bacharelado e Licenciatura</td>\n      <td>84</td>\n      <td>752</td>\n      <td>8,95</td>\n      <td>50</td>\n      <td>462</td>\n      <td>9,24</td>\n      <td>20</td>\n      <td>220</td>\n      <td>11</td>\n      <td>14</td>\n      <td>70</td>\n      <td>5</td>\n    </tr>\n    <tr>\n      <th>46</th>\n      <td>865.0</td>\n      <td>Química - Licenciatura - Ribeirão Preto</td>\n      <td>28</td>\n      <td>61</td>\n      <td>2,18</td>\n      <td>15</td>\n      <td>46</td>\n      <td>3,07</td>\n      <td>8</td>\n      <td>10</td>\n      <td>1,25</td>\n      <td>5</td>\n      <td>5</td>\n      <td>1</td>\n    </tr>\n    <tr>\n      <th>47</th>\n      <td>870.0</td>\n      <td>Química (Bacharelado e Bacharelado com Atribui...</td>\n      <td>e Qua4li2d</td>\n      <td>de e Ma1te7r3i</td>\n      <td>is) -4 S,1ã2o</td>\n      <td>Carlos23</td>\n      <td>112</td>\n      <td>4,87</td>\n      <td>11</td>\n      <td>52</td>\n      <td>4,73</td>\n      <td>8</td>\n      <td>9</td>\n      <td>1,13</td>\n    </tr>\n    <tr>\n      <th>48</th>\n      <td>875.0</td>\n      <td>Sistemas de Informação - São Carlos</td>\n      <td>35</td>\n      <td>342</td>\n      <td>9,77</td>\n      <td>19</td>\n      <td>217</td>\n      <td>11,42</td>\n      <td>10</td>\n      <td>104</td>\n      <td>10,4</td>\n      <td>6</td>\n      <td>21</td>\n      <td>3,5</td>\n    </tr>\n    <tr>\n      <th>49</th>\n      <td>999.0</td>\n      <td>Treinamento E (Exatas)</td>\n      <td>300</td>\n      <td>3530</td>\n      <td>11,77</td>\n      <td>180</td>\n      <td>3177</td>\n      <td>17,65</td>\n      <td>75</td>\n      <td>308</td>\n      <td>4,11</td>\n      <td>45</td>\n      <td>45</td>\n      <td>1</td>\n    </tr>\n  </tbody>\n</table>\n</div>"
     },
     "metadata": {},
     "execution_count": 14
    }
   ],
   "source": [
    "#Retirando as duas últimas linhas\n",
    "dados[1] = dados[1].iloc[:-2]\n",
    "dados[1].tail()"
   ]
  },
  {
   "cell_type": "code",
   "execution_count": 15,
   "metadata": {},
   "outputs": [
    {
     "output_type": "execute_result",
     "data": {
      "text/plain": [
       "   CODIGO                                 NOME VAGAS INSCRITOS     C/V  \\\n",
       "0   501.0                     Medicina - Bauru    42      5217  124,21   \n",
       "1   505.0            Medicina - Ribeirão Preto    77      6856   89,04   \n",
       "2   510.0                 Medicina Veterinária    56      2403   42,91   \n",
       "3   515.0  Medicina Veterinária - Pirassununga    42       906   21,57   \n",
       "4   520.0                             Nutrição    56       854   15,25   \n",
       "\n",
       "  VAGAS AC INSCRITOS AC C/V AC  VAGAS EP  INSCRITOS EP  C/V EP  VAGAS PPI  \\\n",
       "0       26         3952    152         8           887  110,88          8   \n",
       "1       55         5183  94,24        18          1418   78,78          4   \n",
       "2       38         1607  42,29        11           615   55,91          7   \n",
       "3       24          624     26        10           224    22,4          8   \n",
       "4       40          600     15        12           203   16,92          4   \n",
       "\n",
       "   INSCRITOS PPI C/V PPI  \n",
       "0            378   47,25  \n",
       "1            255   63,75  \n",
       "2            181   25,86  \n",
       "3             58    7,25  \n",
       "4             51   12,75  "
      ],
      "text/html": "<div>\n<style scoped>\n    .dataframe tbody tr th:only-of-type {\n        vertical-align: middle;\n    }\n\n    .dataframe tbody tr th {\n        vertical-align: top;\n    }\n\n    .dataframe thead th {\n        text-align: right;\n    }\n</style>\n<table border=\"1\" class=\"dataframe\">\n  <thead>\n    <tr style=\"text-align: right;\">\n      <th></th>\n      <th>CODIGO</th>\n      <th>NOME</th>\n      <th>VAGAS</th>\n      <th>INSCRITOS</th>\n      <th>C/V</th>\n      <th>VAGAS AC</th>\n      <th>INSCRITOS AC</th>\n      <th>C/V AC</th>\n      <th>VAGAS EP</th>\n      <th>INSCRITOS EP</th>\n      <th>C/V EP</th>\n      <th>VAGAS PPI</th>\n      <th>INSCRITOS PPI</th>\n      <th>C/V PPI</th>\n    </tr>\n  </thead>\n  <tbody>\n    <tr>\n      <th>0</th>\n      <td>501.0</td>\n      <td>Medicina - Bauru</td>\n      <td>42</td>\n      <td>5217</td>\n      <td>124,21</td>\n      <td>26</td>\n      <td>3952</td>\n      <td>152</td>\n      <td>8</td>\n      <td>887</td>\n      <td>110,88</td>\n      <td>8</td>\n      <td>378</td>\n      <td>47,25</td>\n    </tr>\n    <tr>\n      <th>1</th>\n      <td>505.0</td>\n      <td>Medicina - Ribeirão Preto</td>\n      <td>77</td>\n      <td>6856</td>\n      <td>89,04</td>\n      <td>55</td>\n      <td>5183</td>\n      <td>94,24</td>\n      <td>18</td>\n      <td>1418</td>\n      <td>78,78</td>\n      <td>4</td>\n      <td>255</td>\n      <td>63,75</td>\n    </tr>\n    <tr>\n      <th>2</th>\n      <td>510.0</td>\n      <td>Medicina Veterinária</td>\n      <td>56</td>\n      <td>2403</td>\n      <td>42,91</td>\n      <td>38</td>\n      <td>1607</td>\n      <td>42,29</td>\n      <td>11</td>\n      <td>615</td>\n      <td>55,91</td>\n      <td>7</td>\n      <td>181</td>\n      <td>25,86</td>\n    </tr>\n    <tr>\n      <th>3</th>\n      <td>515.0</td>\n      <td>Medicina Veterinária - Pirassununga</td>\n      <td>42</td>\n      <td>906</td>\n      <td>21,57</td>\n      <td>24</td>\n      <td>624</td>\n      <td>26</td>\n      <td>10</td>\n      <td>224</td>\n      <td>22,4</td>\n      <td>8</td>\n      <td>58</td>\n      <td>7,25</td>\n    </tr>\n    <tr>\n      <th>4</th>\n      <td>520.0</td>\n      <td>Nutrição</td>\n      <td>56</td>\n      <td>854</td>\n      <td>15,25</td>\n      <td>40</td>\n      <td>600</td>\n      <td>15</td>\n      <td>12</td>\n      <td>203</td>\n      <td>16,92</td>\n      <td>4</td>\n      <td>51</td>\n      <td>12,75</td>\n    </tr>\n  </tbody>\n</table>\n</div>"
     },
     "metadata": {},
     "execution_count": 15
    }
   ],
   "source": [
    "#Colocando o cabeçalho correto\n",
    "dados_columns = dados[0].columns\n",
    "linha_extra = dados[1].columns\n",
    "dados[1].columns = dados_columns\n",
    "dados[1].head()"
   ]
  },
  {
   "source": [
    "Percebe-se que a leitura dos dados da segunda página agora contém o cabeçalho correto, porém foi perdido uma linha, a linha do apêndice. Tem que colocar ela também, para que não haja nenhuma perda de informação."
   ],
   "cell_type": "markdown",
   "metadata": {}
  },
  {
   "cell_type": "code",
   "execution_count": 16,
   "metadata": {},
   "outputs": [
    {
     "output_type": "execute_result",
     "data": {
      "text/plain": [
       "  CODIGO      NOME VAGAS INSCRITOS     C/V VAGAS AC INSCRITOS AC  C/V AC  \\\n",
       "0    500  Medicina   122     15794  129,46       67        11031  164,64   \n",
       "\n",
       "  VAGAS EP INSCRITOS EP  C/V EP VAGAS PPI INSCRITOS PPI C/V PPI  \n",
       "0       33         3484  105,58        22          1279   58,14  "
      ],
      "text/html": "<div>\n<style scoped>\n    .dataframe tbody tr th:only-of-type {\n        vertical-align: middle;\n    }\n\n    .dataframe tbody tr th {\n        vertical-align: top;\n    }\n\n    .dataframe thead th {\n        text-align: right;\n    }\n</style>\n<table border=\"1\" class=\"dataframe\">\n  <thead>\n    <tr style=\"text-align: right;\">\n      <th></th>\n      <th>CODIGO</th>\n      <th>NOME</th>\n      <th>VAGAS</th>\n      <th>INSCRITOS</th>\n      <th>C/V</th>\n      <th>VAGAS AC</th>\n      <th>INSCRITOS AC</th>\n      <th>C/V AC</th>\n      <th>VAGAS EP</th>\n      <th>INSCRITOS EP</th>\n      <th>C/V EP</th>\n      <th>VAGAS PPI</th>\n      <th>INSCRITOS PPI</th>\n      <th>C/V PPI</th>\n    </tr>\n  </thead>\n  <tbody>\n    <tr>\n      <th>0</th>\n      <td>500</td>\n      <td>Medicina</td>\n      <td>122</td>\n      <td>15794</td>\n      <td>129,46</td>\n      <td>67</td>\n      <td>11031</td>\n      <td>164,64</td>\n      <td>33</td>\n      <td>3484</td>\n      <td>105,58</td>\n      <td>22</td>\n      <td>1279</td>\n      <td>58,14</td>\n    </tr>\n  </tbody>\n</table>\n</div>"
     },
     "metadata": {},
     "execution_count": 16
    }
   ],
   "source": [
    "dados.append(pd.DataFrame([linha_extra], columns=dados_columns))\n",
    "dados[2].head()"
   ]
  },
  {
   "source": [
    "Agora foi adicionado uma \"terceira página\" para resolver o problema da retirada da linha de medicina."
   ],
   "cell_type": "markdown",
   "metadata": {}
  },
  {
   "cell_type": "code",
   "execution_count": 17,
   "metadata": {},
   "outputs": [
    {
     "output_type": "execute_result",
     "data": {
      "text/plain": [
       "  CODIGO                                               NOME VAGAS INSCRITOS  \\\n",
       "0    100  Administração, Ciências Contábeis, Economia, E...   187      1562   \n",
       "1    101                         Administração - Piracicaba    40       283   \n",
       "2    105                                  Arquitetura - FAU   105      2724   \n",
       "3    110                           Arquitetura - São Carlos    31       622   \n",
       "4    115                                      Artes Cênicas    30       667   \n",
       "\n",
       "     C/V VAGAS AC INSCRITOS AC C/V AC VAGAS EP INSCRITOS EP C/V EP VAGAS PPI  \\\n",
       "0   8,35       93         1165  12,53       59          312   5,29        35   \n",
       "1   7,08       22          196   8,91       11           70   6,36         7   \n",
       "2  25,94       67         1924  28,72       27          599  22,19        11   \n",
       "3  20,06       15          408   27,2       10          178   17,8         6   \n",
       "4  22,23       16          411  25,69        8          185  23,13         6   \n",
       "\n",
       "  INSCRITOS PPI C/V PPI  \n",
       "0            85    2,43  \n",
       "1            17    2,43  \n",
       "2           201   18,27  \n",
       "3            36       6  \n",
       "4            71   11,83  "
      ],
      "text/html": "<div>\n<style scoped>\n    .dataframe tbody tr th:only-of-type {\n        vertical-align: middle;\n    }\n\n    .dataframe tbody tr th {\n        vertical-align: top;\n    }\n\n    .dataframe thead th {\n        text-align: right;\n    }\n</style>\n<table border=\"1\" class=\"dataframe\">\n  <thead>\n    <tr style=\"text-align: right;\">\n      <th></th>\n      <th>CODIGO</th>\n      <th>NOME</th>\n      <th>VAGAS</th>\n      <th>INSCRITOS</th>\n      <th>C/V</th>\n      <th>VAGAS AC</th>\n      <th>INSCRITOS AC</th>\n      <th>C/V AC</th>\n      <th>VAGAS EP</th>\n      <th>INSCRITOS EP</th>\n      <th>C/V EP</th>\n      <th>VAGAS PPI</th>\n      <th>INSCRITOS PPI</th>\n      <th>C/V PPI</th>\n    </tr>\n  </thead>\n  <tbody>\n    <tr>\n      <th>0</th>\n      <td>100</td>\n      <td>Administração, Ciências Contábeis, Economia, E...</td>\n      <td>187</td>\n      <td>1562</td>\n      <td>8,35</td>\n      <td>93</td>\n      <td>1165</td>\n      <td>12,53</td>\n      <td>59</td>\n      <td>312</td>\n      <td>5,29</td>\n      <td>35</td>\n      <td>85</td>\n      <td>2,43</td>\n    </tr>\n    <tr>\n      <th>1</th>\n      <td>101</td>\n      <td>Administração - Piracicaba</td>\n      <td>40</td>\n      <td>283</td>\n      <td>7,08</td>\n      <td>22</td>\n      <td>196</td>\n      <td>8,91</td>\n      <td>11</td>\n      <td>70</td>\n      <td>6,36</td>\n      <td>7</td>\n      <td>17</td>\n      <td>2,43</td>\n    </tr>\n    <tr>\n      <th>2</th>\n      <td>105</td>\n      <td>Arquitetura - FAU</td>\n      <td>105</td>\n      <td>2724</td>\n      <td>25,94</td>\n      <td>67</td>\n      <td>1924</td>\n      <td>28,72</td>\n      <td>27</td>\n      <td>599</td>\n      <td>22,19</td>\n      <td>11</td>\n      <td>201</td>\n      <td>18,27</td>\n    </tr>\n    <tr>\n      <th>3</th>\n      <td>110</td>\n      <td>Arquitetura - São Carlos</td>\n      <td>31</td>\n      <td>622</td>\n      <td>20,06</td>\n      <td>15</td>\n      <td>408</td>\n      <td>27,2</td>\n      <td>10</td>\n      <td>178</td>\n      <td>17,8</td>\n      <td>6</td>\n      <td>36</td>\n      <td>6</td>\n    </tr>\n    <tr>\n      <th>4</th>\n      <td>115</td>\n      <td>Artes Cênicas</td>\n      <td>30</td>\n      <td>667</td>\n      <td>22,23</td>\n      <td>16</td>\n      <td>411</td>\n      <td>25,69</td>\n      <td>8</td>\n      <td>185</td>\n      <td>23,13</td>\n      <td>6</td>\n      <td>71</td>\n      <td>11,83</td>\n    </tr>\n  </tbody>\n</table>\n</div>"
     },
     "metadata": {},
     "execution_count": 17
    }
   ],
   "source": [
    "dados = pd.concat(dados)\n",
    "dados.head()"
   ]
  },
  {
   "source": [
    "Utilizando a função \"concat\" da biblioteca pandas todas as partes das tabelas do arquivo em PDF foi colocado em apenas uma tabela."
   ],
   "cell_type": "markdown",
   "metadata": {}
  },
  {
   "cell_type": "code",
   "execution_count": 18,
   "metadata": {},
   "outputs": [
    {
     "output_type": "execute_result",
     "data": {
      "text/plain": [
       "109"
      ]
     },
     "metadata": {},
     "execution_count": 18
    }
   ],
   "source": [
    "len(dados)"
   ]
  },
  {
   "source": [
    "Antes o tamanho do conjunto \"dados\" era mostrado apenas o tamanho 2, que era o número de páginas. Após adicionar todas as partes da tabela em uma só o tamanho mostrado é de quantos cursos possui, que nesse caso são 109 cursos. "
   ],
   "cell_type": "markdown",
   "metadata": {}
  },
  {
   "cell_type": "code",
   "execution_count": 19,
   "metadata": {},
   "outputs": [
    {
     "output_type": "execute_result",
     "data": {
      "text/plain": [
       "                                                NOME VAGAS INSCRITOS    C/V\n",
       "0  Administração, Ciências Contábeis, Economia, E...   187      1562   8,35\n",
       "1                         Administração - Piracicaba    40       283   7,08\n",
       "2                                  Arquitetura - FAU   105      2724  25,94\n",
       "3                           Arquitetura - São Carlos    31       622  20,06\n",
       "4                                      Artes Cênicas    30       667  22,23"
      ],
      "text/html": "<div>\n<style scoped>\n    .dataframe tbody tr th:only-of-type {\n        vertical-align: middle;\n    }\n\n    .dataframe tbody tr th {\n        vertical-align: top;\n    }\n\n    .dataframe thead th {\n        text-align: right;\n    }\n</style>\n<table border=\"1\" class=\"dataframe\">\n  <thead>\n    <tr style=\"text-align: right;\">\n      <th></th>\n      <th>NOME</th>\n      <th>VAGAS</th>\n      <th>INSCRITOS</th>\n      <th>C/V</th>\n    </tr>\n  </thead>\n  <tbody>\n    <tr>\n      <th>0</th>\n      <td>Administração, Ciências Contábeis, Economia, E...</td>\n      <td>187</td>\n      <td>1562</td>\n      <td>8,35</td>\n    </tr>\n    <tr>\n      <th>1</th>\n      <td>Administração - Piracicaba</td>\n      <td>40</td>\n      <td>283</td>\n      <td>7,08</td>\n    </tr>\n    <tr>\n      <th>2</th>\n      <td>Arquitetura - FAU</td>\n      <td>105</td>\n      <td>2724</td>\n      <td>25,94</td>\n    </tr>\n    <tr>\n      <th>3</th>\n      <td>Arquitetura - São Carlos</td>\n      <td>31</td>\n      <td>622</td>\n      <td>20,06</td>\n    </tr>\n    <tr>\n      <th>4</th>\n      <td>Artes Cênicas</td>\n      <td>30</td>\n      <td>667</td>\n      <td>22,23</td>\n    </tr>\n  </tbody>\n</table>\n</div>"
     },
     "metadata": {},
     "execution_count": 19
    }
   ],
   "source": [
    "dados = dados[[\"NOME\", \"VAGAS\", \"INSCRITOS\", \"C/V\"]]\n",
    "dados.head()"
   ]
  },
  {
   "source": [
    "Extrai apenas as colunas que são necessárias para avaliar se o fator sorte faz diferença ou não no vestibular da USP.\n",
    "\n",
    "A colunca \"C/V\" é a coluna de candidatos por vaga."
   ],
   "cell_type": "markdown",
   "metadata": {}
  },
  {
   "cell_type": "code",
   "execution_count": 20,
   "metadata": {},
   "outputs": [
    {
     "output_type": "execute_result",
     "data": {
      "text/plain": [
       "                              NOME  VAGAS  INSCRITOS   C/V\n",
       "count                          109    109        109   109\n",
       "unique                         109     60        106   104\n",
       "top     Treinamento B (Biológicas)     28        730  5,27\n",
       "freq                             1      9          2     2"
      ],
      "text/html": "<div>\n<style scoped>\n    .dataframe tbody tr th:only-of-type {\n        vertical-align: middle;\n    }\n\n    .dataframe tbody tr th {\n        vertical-align: top;\n    }\n\n    .dataframe thead th {\n        text-align: right;\n    }\n</style>\n<table border=\"1\" class=\"dataframe\">\n  <thead>\n    <tr style=\"text-align: right;\">\n      <th></th>\n      <th>NOME</th>\n      <th>VAGAS</th>\n      <th>INSCRITOS</th>\n      <th>C/V</th>\n    </tr>\n  </thead>\n  <tbody>\n    <tr>\n      <th>count</th>\n      <td>109</td>\n      <td>109</td>\n      <td>109</td>\n      <td>109</td>\n    </tr>\n    <tr>\n      <th>unique</th>\n      <td>109</td>\n      <td>60</td>\n      <td>106</td>\n      <td>104</td>\n    </tr>\n    <tr>\n      <th>top</th>\n      <td>Treinamento B (Biológicas)</td>\n      <td>28</td>\n      <td>730</td>\n      <td>5,27</td>\n    </tr>\n    <tr>\n      <th>freq</th>\n      <td>1</td>\n      <td>9</td>\n      <td>2</td>\n      <td>2</td>\n    </tr>\n  </tbody>\n</table>\n</div>"
     },
     "metadata": {},
     "execution_count": 20
    }
   ],
   "source": [
    "dados.describe()"
   ]
  },
  {
   "cell_type": "code",
   "execution_count": 21,
   "metadata": {},
   "outputs": [
    {
     "output_type": "stream",
     "name": "stdout",
     "text": [
      "<class 'pandas.core.frame.DataFrame'>\nInt64Index: 109 entries, 0 to 0\nData columns (total 4 columns):\n #   Column     Non-Null Count  Dtype \n---  ------     --------------  ----- \n 0   NOME       109 non-null    object\n 1   VAGAS      109 non-null    object\n 2   INSCRITOS  109 non-null    object\n 3   C/V        109 non-null    object\ndtypes: object(4)\nmemory usage: 6.3+ KB\n"
     ]
    }
   ],
   "source": [
    "dados.info()"
   ]
  },
  {
   "source": [
    "Ao analisar a saída das duas funções utilizadas percebe-se que tem algo errado porque as colunas vagas, inscritos e candidatos/vaga deveria ser numérica e está aparecendo como se ela fosse uma coluna de textos. \n",
    "\n",
    "Ao perceber essa estranheza e voltar nos dados percebe-se que alguma coluna teve erro ao fazer a leitura, os dados foram muito para frente em determinada linha."
   ],
   "cell_type": "markdown",
   "metadata": {}
  },
  {
   "cell_type": "code",
   "execution_count": 22,
   "metadata": {},
   "outputs": [
    {
     "output_type": "execute_result",
     "data": {
      "text/plain": [
       "                                                 NOME       VAGAS  \\\n",
       "46            Química - Licenciatura - Ribeirão Preto          28   \n",
       "47  Química (Bacharelado e Bacharelado com Atribui...  e Qua4li2d   \n",
       "48                Sistemas de Informação - São Carlos          35   \n",
       "49                             Treinamento E (Exatas)         300   \n",
       "0                                            Medicina         122   \n",
       "\n",
       "         INSCRITOS            C/V  \n",
       "46              61           2,18  \n",
       "47  de e Ma1te7r3i  is) -4 S,1ã2o  \n",
       "48             342           9,77  \n",
       "49            3530          11,77  \n",
       "0            15794         129,46  "
      ],
      "text/html": "<div>\n<style scoped>\n    .dataframe tbody tr th:only-of-type {\n        vertical-align: middle;\n    }\n\n    .dataframe tbody tr th {\n        vertical-align: top;\n    }\n\n    .dataframe thead th {\n        text-align: right;\n    }\n</style>\n<table border=\"1\" class=\"dataframe\">\n  <thead>\n    <tr style=\"text-align: right;\">\n      <th></th>\n      <th>NOME</th>\n      <th>VAGAS</th>\n      <th>INSCRITOS</th>\n      <th>C/V</th>\n    </tr>\n  </thead>\n  <tbody>\n    <tr>\n      <th>46</th>\n      <td>Química - Licenciatura - Ribeirão Preto</td>\n      <td>28</td>\n      <td>61</td>\n      <td>2,18</td>\n    </tr>\n    <tr>\n      <th>47</th>\n      <td>Química (Bacharelado e Bacharelado com Atribui...</td>\n      <td>e Qua4li2d</td>\n      <td>de e Ma1te7r3i</td>\n      <td>is) -4 S,1ã2o</td>\n    </tr>\n    <tr>\n      <th>48</th>\n      <td>Sistemas de Informação - São Carlos</td>\n      <td>35</td>\n      <td>342</td>\n      <td>9,77</td>\n    </tr>\n    <tr>\n      <th>49</th>\n      <td>Treinamento E (Exatas)</td>\n      <td>300</td>\n      <td>3530</td>\n      <td>11,77</td>\n    </tr>\n    <tr>\n      <th>0</th>\n      <td>Medicina</td>\n      <td>122</td>\n      <td>15794</td>\n      <td>129,46</td>\n    </tr>\n  </tbody>\n</table>\n</div>"
     },
     "metadata": {},
     "execution_count": 22
    }
   ],
   "source": [
    "dados.tail()"
   ]
  },
  {
   "source": [
    "A linha 47 está fazendo com que os dados sejam lidos como texto, já que houve erro. Como o interesse não é ler linha por linha, ela será retirada."
   ],
   "cell_type": "markdown",
   "metadata": {}
  },
  {
   "cell_type": "code",
   "execution_count": 24,
   "metadata": {},
   "outputs": [],
   "source": [
    "dados = dados.drop(47)"
   ]
  },
  {
   "cell_type": "code",
   "execution_count": 25,
   "metadata": {},
   "outputs": [
    {
     "output_type": "execute_result",
     "data": {
      "text/plain": [
       "                              NOME  VAGAS INSCRITOS   C/V\n",
       "count                          107    107       107   107\n",
       "unique                         107     58       104   102\n",
       "top     Treinamento B (Biológicas)     28       163  5,27\n",
       "freq                             1      9         2     2"
      ],
      "text/html": "<div>\n<style scoped>\n    .dataframe tbody tr th:only-of-type {\n        vertical-align: middle;\n    }\n\n    .dataframe tbody tr th {\n        vertical-align: top;\n    }\n\n    .dataframe thead th {\n        text-align: right;\n    }\n</style>\n<table border=\"1\" class=\"dataframe\">\n  <thead>\n    <tr style=\"text-align: right;\">\n      <th></th>\n      <th>NOME</th>\n      <th>VAGAS</th>\n      <th>INSCRITOS</th>\n      <th>C/V</th>\n    </tr>\n  </thead>\n  <tbody>\n    <tr>\n      <th>count</th>\n      <td>107</td>\n      <td>107</td>\n      <td>107</td>\n      <td>107</td>\n    </tr>\n    <tr>\n      <th>unique</th>\n      <td>107</td>\n      <td>58</td>\n      <td>104</td>\n      <td>102</td>\n    </tr>\n    <tr>\n      <th>top</th>\n      <td>Treinamento B (Biológicas)</td>\n      <td>28</td>\n      <td>163</td>\n      <td>5,27</td>\n    </tr>\n    <tr>\n      <th>freq</th>\n      <td>1</td>\n      <td>9</td>\n      <td>2</td>\n      <td>2</td>\n    </tr>\n  </tbody>\n</table>\n</div>"
     },
     "metadata": {},
     "execution_count": 25
    }
   ],
   "source": [
    "dados.describe()"
   ]
  },
  {
   "source": [
    "Percebe-se que ainda não está lendo como se fosse número, então tem que fazer a conversão deles da dados numéricos."
   ],
   "cell_type": "markdown",
   "metadata": {}
  },
  {
   "cell_type": "code",
   "execution_count": 27,
   "metadata": {},
   "outputs": [
    {
     "output_type": "error",
     "ename": "ValueError",
     "evalue": "Unable to parse string \"nológica3,5 B2i\" at position 101",
     "traceback": [
      "\u001b[0;31m---------------------------------------------------------------------------\u001b[0m",
      "\u001b[0;31mValueError\u001b[0m                                Traceback (most recent call last)",
      "\u001b[0;32mpandas/_libs/lib.pyx\u001b[0m in \u001b[0;36mpandas._libs.lib.maybe_convert_numeric\u001b[0;34m()\u001b[0m\n",
      "\u001b[0;31mValueError\u001b[0m: Unable to parse string \"nológica3,5 B2i\"",
      "\nDuring handling of the above exception, another exception occurred:\n",
      "\u001b[0;31mValueError\u001b[0m                                Traceback (most recent call last)",
      "\u001b[0;32m<ipython-input-27-bfe3058159ec>\u001b[0m in \u001b[0;36m<module>\u001b[0;34m\u001b[0m\n\u001b[0;32m----> 1\u001b[0;31m \u001b[0mpd\u001b[0m\u001b[0;34m.\u001b[0m\u001b[0mto_numeric\u001b[0m\u001b[0;34m(\u001b[0m\u001b[0mdados\u001b[0m\u001b[0;34m[\u001b[0m\u001b[0;34m'INSCRITOS'\u001b[0m\u001b[0;34m]\u001b[0m\u001b[0;34m)\u001b[0m\u001b[0;34m\u001b[0m\u001b[0;34m\u001b[0m\u001b[0m\n\u001b[0m",
      "\u001b[0;32m~/.local/lib/python3.8/site-packages/pandas/core/tools/numeric.py\u001b[0m in \u001b[0;36mto_numeric\u001b[0;34m(arg, errors, downcast)\u001b[0m\n\u001b[1;32m    152\u001b[0m         \u001b[0mcoerce_numeric\u001b[0m \u001b[0;34m=\u001b[0m \u001b[0merrors\u001b[0m \u001b[0;32mnot\u001b[0m \u001b[0;32min\u001b[0m \u001b[0;34m(\u001b[0m\u001b[0;34m\"ignore\"\u001b[0m\u001b[0;34m,\u001b[0m \u001b[0;34m\"raise\"\u001b[0m\u001b[0;34m)\u001b[0m\u001b[0;34m\u001b[0m\u001b[0;34m\u001b[0m\u001b[0m\n\u001b[1;32m    153\u001b[0m         \u001b[0;32mtry\u001b[0m\u001b[0;34m:\u001b[0m\u001b[0;34m\u001b[0m\u001b[0;34m\u001b[0m\u001b[0m\n\u001b[0;32m--> 154\u001b[0;31m             values = lib.maybe_convert_numeric(\n\u001b[0m\u001b[1;32m    155\u001b[0m                 \u001b[0mvalues\u001b[0m\u001b[0;34m,\u001b[0m \u001b[0mset\u001b[0m\u001b[0;34m(\u001b[0m\u001b[0;34m)\u001b[0m\u001b[0;34m,\u001b[0m \u001b[0mcoerce_numeric\u001b[0m\u001b[0;34m=\u001b[0m\u001b[0mcoerce_numeric\u001b[0m\u001b[0;34m\u001b[0m\u001b[0;34m\u001b[0m\u001b[0m\n\u001b[1;32m    156\u001b[0m             )\n",
      "\u001b[0;32mpandas/_libs/lib.pyx\u001b[0m in \u001b[0;36mpandas._libs.lib.maybe_convert_numeric\u001b[0;34m()\u001b[0m\n",
      "\u001b[0;31mValueError\u001b[0m: Unable to parse string \"nológica3,5 B2i\" at position 101"
     ]
    }
   ],
   "source": [
    "pd.to_numeric(dados['INSCRITOS'])"
   ]
  },
  {
   "source": [
    "Devido ao erro gerado descobre-se que ainda há \"lixos\" que são dados que foram lido de forma errada, para consertar isso basta acrescentar outro parâmetro na função \"to_numeric\". \n",
    "\n",
    "O \"coerce\" vai converter tudo que não for númerico em NaN (not a number)."
   ],
   "cell_type": "markdown",
   "metadata": {}
  },
  {
   "cell_type": "code",
   "execution_count": 32,
   "metadata": {},
   "outputs": [
    {
     "output_type": "execute_result",
     "data": {
      "text/plain": [
       "         candidatos       vagas  candidatos_por_vaga\n",
       "count    105.000000  105.000000           105.000000\n",
       "mean    1193.066667   81.771429            15.273537\n",
       "std     2181.669426  115.123534            21.092466\n",
       "min       45.000000   12.000000             1.607143\n",
       "25%      163.000000   28.000000             5.000000\n",
       "50%      483.000000   42.000000             8.352941\n",
       "75%     1092.000000   84.000000            15.116667\n",
       "max    15794.000000  783.000000           129.459016"
      ],
      "text/html": "<div>\n<style scoped>\n    .dataframe tbody tr th:only-of-type {\n        vertical-align: middle;\n    }\n\n    .dataframe tbody tr th {\n        vertical-align: top;\n    }\n\n    .dataframe thead th {\n        text-align: right;\n    }\n</style>\n<table border=\"1\" class=\"dataframe\">\n  <thead>\n    <tr style=\"text-align: right;\">\n      <th></th>\n      <th>candidatos</th>\n      <th>vagas</th>\n      <th>candidatos_por_vaga</th>\n    </tr>\n  </thead>\n  <tbody>\n    <tr>\n      <th>count</th>\n      <td>105.000000</td>\n      <td>105.000000</td>\n      <td>105.000000</td>\n    </tr>\n    <tr>\n      <th>mean</th>\n      <td>1193.066667</td>\n      <td>81.771429</td>\n      <td>15.273537</td>\n    </tr>\n    <tr>\n      <th>std</th>\n      <td>2181.669426</td>\n      <td>115.123534</td>\n      <td>21.092466</td>\n    </tr>\n    <tr>\n      <th>min</th>\n      <td>45.000000</td>\n      <td>12.000000</td>\n      <td>1.607143</td>\n    </tr>\n    <tr>\n      <th>25%</th>\n      <td>163.000000</td>\n      <td>28.000000</td>\n      <td>5.000000</td>\n    </tr>\n    <tr>\n      <th>50%</th>\n      <td>483.000000</td>\n      <td>42.000000</td>\n      <td>8.352941</td>\n    </tr>\n    <tr>\n      <th>75%</th>\n      <td>1092.000000</td>\n      <td>84.000000</td>\n      <td>15.116667</td>\n    </tr>\n    <tr>\n      <th>max</th>\n      <td>15794.000000</td>\n      <td>783.000000</td>\n      <td>129.459016</td>\n    </tr>\n  </tbody>\n</table>\n</div>"
     },
     "metadata": {},
     "execution_count": 32
    }
   ],
   "source": [
    "dados['candidatos'] = pd.to_numeric(dados['INSCRITOS'], errors = 'coerce').astype(int)\n",
    "dados['vagas'] = pd.to_numeric(dados['VAGAS'], errors = 'coerce').astype(int)\n",
    "dados['candidatos_por_vaga'] = dados['candidatos'] / dados['vagas']\n",
    "dados['nome'] = dados['NOME']\n",
    "dados = dados.dropna()\n",
    "dados.describe()"
   ]
  },
  {
   "source": [
    "dados.info()"
   ],
   "cell_type": "code",
   "metadata": {},
   "execution_count": 33,
   "outputs": [
    {
     "output_type": "stream",
     "name": "stdout",
     "text": [
      "<class 'pandas.core.frame.DataFrame'>\nInt64Index: 105 entries, 0 to 0\nData columns (total 8 columns):\n #   Column               Non-Null Count  Dtype  \n---  ------               --------------  -----  \n 0   NOME                 105 non-null    object \n 1   VAGAS                105 non-null    object \n 2   INSCRITOS            105 non-null    object \n 3   C/V                  105 non-null    object \n 4   candidatos           105 non-null    int64  \n 5   vagas                105 non-null    int64  \n 6   candidatos_por_vaga  105 non-null    float64\n 7   nome                 105 non-null    object \ndtypes: float64(1), int64(2), object(5)\nmemory usage: 7.4+ KB\n"
     ]
    }
   ]
  },
  {
   "cell_type": "code",
   "execution_count": 38,
   "metadata": {},
   "outputs": [
    {
     "output_type": "execute_result",
     "data": {
      "text/plain": [
       "                                                 nome  vagas  candidatos  \\\n",
       "0   Administração, Ciências Contábeis, Economia, E...    187        1562   \n",
       "1                          Administração - Piracicaba     40         283   \n",
       "2                                   Arquitetura - FAU    105        2724   \n",
       "3                            Arquitetura - São Carlos     31         622   \n",
       "4                                       Artes Cênicas     30         667   \n",
       "5                                       Artes Visuais     30         797   \n",
       "6                                     Biblioteconomia     28         104   \n",
       "7   Biblioteconomia e Ciência da Informação - Ribe...     28          52   \n",
       "8                                    Ciências Sociais    147        1136   \n",
       "9                       Curso Superior do Audiovisual     24        1126   \n",
       "10                                             Design     28         906   \n",
       "11                                            Direito    393        9461   \n",
       "12  Economia, Administração, Ciências Contábeis e ...    413        5794   \n",
       "13                              Economia - Piracicaba     40         316   \n",
       "14                                         Editoração     12         118   \n",
       "15                                          Filosofia    119         800   \n",
       "16                                          Geografia    119         588   \n",
       "17                   Gestão Ambiental - USP Leste, SP     84         288   \n",
       "18                      Gestão Ambiental - Piracicaba     28          94   \n",
       "19       Gestão de Políticas Públicas - USP Leste, SP     84         509   \n",
       "20                                           História    189        1663   \n",
       "21                                         Jornalismo     48        1397   \n",
       "22                    Lazer e Turismo - USP Leste, SP     84         222   \n",
       "23                                             Letras    597        2897   \n",
       "24                     Licenciatura em Educomunicação     21         100   \n",
       "25                          Marketing - USP Leste, SP     84         730   \n",
       "26                                       Música - ECA     50         379   \n",
       "27                            Música - Ribeirão Preto     30          99   \n",
       "28                                          Pedagogia    141         806   \n",
       "29                         Pedagogia - Ribeirão Preto     35         160   \n",
       "\n",
       "    candidatos_por_vaga  \n",
       "0              8.352941  \n",
       "1              7.075000  \n",
       "2             25.942857  \n",
       "3             20.064516  \n",
       "4             22.233333  \n",
       "5             26.566667  \n",
       "6              3.714286  \n",
       "7              1.857143  \n",
       "8              7.727891  \n",
       "9             46.916667  \n",
       "10            32.357143  \n",
       "11            24.073791  \n",
       "12            14.029056  \n",
       "13             7.900000  \n",
       "14             9.833333  \n",
       "15             6.722689  \n",
       "16             4.941176  \n",
       "17             3.428571  \n",
       "18             3.357143  \n",
       "19             6.059524  \n",
       "20             8.798942  \n",
       "21            29.104167  \n",
       "22             2.642857  \n",
       "23             4.852596  \n",
       "24             4.761905  \n",
       "25             8.690476  \n",
       "26             7.580000  \n",
       "27             3.300000  \n",
       "28             5.716312  \n",
       "29             4.571429  "
      ],
      "text/html": "<div>\n<style scoped>\n    .dataframe tbody tr th:only-of-type {\n        vertical-align: middle;\n    }\n\n    .dataframe tbody tr th {\n        vertical-align: top;\n    }\n\n    .dataframe thead th {\n        text-align: right;\n    }\n</style>\n<table border=\"1\" class=\"dataframe\">\n  <thead>\n    <tr style=\"text-align: right;\">\n      <th></th>\n      <th>nome</th>\n      <th>vagas</th>\n      <th>candidatos</th>\n      <th>candidatos_por_vaga</th>\n    </tr>\n  </thead>\n  <tbody>\n    <tr>\n      <th>0</th>\n      <td>Administração, Ciências Contábeis, Economia, E...</td>\n      <td>187</td>\n      <td>1562</td>\n      <td>8.352941</td>\n    </tr>\n    <tr>\n      <th>1</th>\n      <td>Administração - Piracicaba</td>\n      <td>40</td>\n      <td>283</td>\n      <td>7.075000</td>\n    </tr>\n    <tr>\n      <th>2</th>\n      <td>Arquitetura - FAU</td>\n      <td>105</td>\n      <td>2724</td>\n      <td>25.942857</td>\n    </tr>\n    <tr>\n      <th>3</th>\n      <td>Arquitetura - São Carlos</td>\n      <td>31</td>\n      <td>622</td>\n      <td>20.064516</td>\n    </tr>\n    <tr>\n      <th>4</th>\n      <td>Artes Cênicas</td>\n      <td>30</td>\n      <td>667</td>\n      <td>22.233333</td>\n    </tr>\n    <tr>\n      <th>5</th>\n      <td>Artes Visuais</td>\n      <td>30</td>\n      <td>797</td>\n      <td>26.566667</td>\n    </tr>\n    <tr>\n      <th>6</th>\n      <td>Biblioteconomia</td>\n      <td>28</td>\n      <td>104</td>\n      <td>3.714286</td>\n    </tr>\n    <tr>\n      <th>7</th>\n      <td>Biblioteconomia e Ciência da Informação - Ribe...</td>\n      <td>28</td>\n      <td>52</td>\n      <td>1.857143</td>\n    </tr>\n    <tr>\n      <th>8</th>\n      <td>Ciências Sociais</td>\n      <td>147</td>\n      <td>1136</td>\n      <td>7.727891</td>\n    </tr>\n    <tr>\n      <th>9</th>\n      <td>Curso Superior do Audiovisual</td>\n      <td>24</td>\n      <td>1126</td>\n      <td>46.916667</td>\n    </tr>\n    <tr>\n      <th>10</th>\n      <td>Design</td>\n      <td>28</td>\n      <td>906</td>\n      <td>32.357143</td>\n    </tr>\n    <tr>\n      <th>11</th>\n      <td>Direito</td>\n      <td>393</td>\n      <td>9461</td>\n      <td>24.073791</td>\n    </tr>\n    <tr>\n      <th>12</th>\n      <td>Economia, Administração, Ciências Contábeis e ...</td>\n      <td>413</td>\n      <td>5794</td>\n      <td>14.029056</td>\n    </tr>\n    <tr>\n      <th>13</th>\n      <td>Economia - Piracicaba</td>\n      <td>40</td>\n      <td>316</td>\n      <td>7.900000</td>\n    </tr>\n    <tr>\n      <th>14</th>\n      <td>Editoração</td>\n      <td>12</td>\n      <td>118</td>\n      <td>9.833333</td>\n    </tr>\n    <tr>\n      <th>15</th>\n      <td>Filosofia</td>\n      <td>119</td>\n      <td>800</td>\n      <td>6.722689</td>\n    </tr>\n    <tr>\n      <th>16</th>\n      <td>Geografia</td>\n      <td>119</td>\n      <td>588</td>\n      <td>4.941176</td>\n    </tr>\n    <tr>\n      <th>17</th>\n      <td>Gestão Ambiental - USP Leste, SP</td>\n      <td>84</td>\n      <td>288</td>\n      <td>3.428571</td>\n    </tr>\n    <tr>\n      <th>18</th>\n      <td>Gestão Ambiental - Piracicaba</td>\n      <td>28</td>\n      <td>94</td>\n      <td>3.357143</td>\n    </tr>\n    <tr>\n      <th>19</th>\n      <td>Gestão de Políticas Públicas - USP Leste, SP</td>\n      <td>84</td>\n      <td>509</td>\n      <td>6.059524</td>\n    </tr>\n    <tr>\n      <th>20</th>\n      <td>História</td>\n      <td>189</td>\n      <td>1663</td>\n      <td>8.798942</td>\n    </tr>\n    <tr>\n      <th>21</th>\n      <td>Jornalismo</td>\n      <td>48</td>\n      <td>1397</td>\n      <td>29.104167</td>\n    </tr>\n    <tr>\n      <th>22</th>\n      <td>Lazer e Turismo - USP Leste, SP</td>\n      <td>84</td>\n      <td>222</td>\n      <td>2.642857</td>\n    </tr>\n    <tr>\n      <th>23</th>\n      <td>Letras</td>\n      <td>597</td>\n      <td>2897</td>\n      <td>4.852596</td>\n    </tr>\n    <tr>\n      <th>24</th>\n      <td>Licenciatura em Educomunicação</td>\n      <td>21</td>\n      <td>100</td>\n      <td>4.761905</td>\n    </tr>\n    <tr>\n      <th>25</th>\n      <td>Marketing - USP Leste, SP</td>\n      <td>84</td>\n      <td>730</td>\n      <td>8.690476</td>\n    </tr>\n    <tr>\n      <th>26</th>\n      <td>Música - ECA</td>\n      <td>50</td>\n      <td>379</td>\n      <td>7.580000</td>\n    </tr>\n    <tr>\n      <th>27</th>\n      <td>Música - Ribeirão Preto</td>\n      <td>30</td>\n      <td>99</td>\n      <td>3.300000</td>\n    </tr>\n    <tr>\n      <th>28</th>\n      <td>Pedagogia</td>\n      <td>141</td>\n      <td>806</td>\n      <td>5.716312</td>\n    </tr>\n    <tr>\n      <th>29</th>\n      <td>Pedagogia - Ribeirão Preto</td>\n      <td>35</td>\n      <td>160</td>\n      <td>4.571429</td>\n    </tr>\n  </tbody>\n</table>\n</div>"
     },
     "metadata": {},
     "execution_count": 38
    }
   ],
   "source": [
    "dados = dados[['nome', 'vagas', 'candidatos', 'candidatos_por_vaga']]\n",
    "dados.sort_values(\"candidatos_por_vaga\", ascending = False)\n",
    "dados.head(30)"
   ]
  },
  {
   "cell_type": "code",
   "execution_count": 41,
   "metadata": {},
   "outputs": [
    {
     "output_type": "execute_result",
     "data": {
      "text/plain": [
       "(122, 15794)"
      ]
     },
     "metadata": {},
     "execution_count": 41
    }
   ],
   "source": [
    "curso = 'Medicina'\n",
    "linha_medicina = dados.query(\"nome == @curso\").iloc[0]\n",
    "vagas = linha_medicina['vagas']\n",
    "candidatos = linha_medicina['candidatos']\n",
    "vagas, candidatos"
   ]
  },
  {
   "source": [
    "Agora que foi pego a quantidade de vagas e de candidatos do curso de medicina é desejado que se pegue mais candidatos e que essa quantidade de candidatos seja igual a que já tem."
   ],
   "cell_type": "markdown",
   "metadata": {}
  },
  {
   "cell_type": "code",
   "execution_count": 44,
   "metadata": {},
   "outputs": [
    {
     "output_type": "execute_result",
     "data": {
      "text/plain": [
       "array([77.65460122, 73.4228602 , 71.3465955 , ..., 72.15289537,\n",
       "       66.13818928, 71.07412653])"
      ]
     },
     "metadata": {},
     "execution_count": 44
    }
   ],
   "source": [
    "import numpy as np\n",
    "\n",
    "def gera(media, desvio_padrao, candidatos):\n",
    "    return np.random.normal(media, desvio_padrao, candidatos)\n",
    "\n",
    "proprio_esforco = gera(70, 10, candidatos)\n",
    "proprio_esforco"
   ]
  },
  {
   "source": [
    "import seaborn as sns\n",
    "import matplotlib.pyplot as plt\n",
    "\n",
    "plt.figure(figsize=(12,6))\n",
    "sns.distplot(proprio_esforco)\n",
    "plt.show()"
   ],
   "cell_type": "code",
   "metadata": {},
   "execution_count": 45,
   "outputs": [
    {
     "output_type": "display_data",
     "data": {
      "text/plain": "<Figure size 864x432 with 1 Axes>",
      "image/svg+xml": "<?xml version=\"1.0\" encoding=\"utf-8\" standalone=\"no\"?>\n<!DOCTYPE svg PUBLIC \"-//W3C//DTD SVG 1.1//EN\"\n  \"http://www.w3.org/Graphics/SVG/1.1/DTD/svg11.dtd\">\n<!-- Created with matplotlib (https://matplotlib.org/) -->\n<svg height=\"357.238125pt\" version=\"1.1\" viewBox=\"0 0 733.30625 357.238125\" width=\"733.30625pt\" xmlns=\"http://www.w3.org/2000/svg\" xmlns:xlink=\"http://www.w3.org/1999/xlink\">\n <metadata>\n  <rdf:RDF xmlns:cc=\"http://creativecommons.org/ns#\" xmlns:dc=\"http://purl.org/dc/elements/1.1/\" xmlns:rdf=\"http://www.w3.org/1999/02/22-rdf-syntax-ns#\">\n   <cc:Work>\n    <dc:type rdf:resource=\"http://purl.org/dc/dcmitype/StillImage\"/>\n    <dc:date>2021-01-08T16:57:54.057043</dc:date>\n    <dc:format>image/svg+xml</dc:format>\n    <dc:creator>\n     <cc:Agent>\n      <dc:title>Matplotlib v3.3.2, https://matplotlib.org/</dc:title>\n     </cc:Agent>\n    </dc:creator>\n   </cc:Work>\n  </rdf:RDF>\n </metadata>\n <defs>\n  <style type=\"text/css\">*{stroke-linecap:butt;stroke-linejoin:round;}</style>\n </defs>\n <g id=\"figure_1\">\n  <g id=\"patch_1\">\n   <path d=\"M 0 357.238125 \nL 733.30625 357.238125 \nL 733.30625 0 \nL 0 0 \nz\n\" style=\"fill:none;\"/>\n  </g>\n  <g id=\"axes_1\">\n   <g id=\"patch_2\">\n    <path d=\"M 56.50625 333.36 \nL 726.10625 333.36 \nL 726.10625 7.2 \nL 56.50625 7.2 \nz\n\" style=\"fill:#ffffff;\"/>\n   </g>\n   <g id=\"patch_3\">\n    <path clip-path=\"url(#p81c93fe924)\" d=\"M 119.661634 333.36 \nL 130.527419 333.36 \nL 130.527419 332.340431 \nL 119.661634 332.340431 \nz\n\" style=\"fill:#1f77b4;opacity:0.4;\"/>\n   </g>\n   <g id=\"patch_4\">\n    <path clip-path=\"url(#p81c93fe924)\" d=\"M 130.527419 333.36 \nL 141.393204 333.36 \nL 141.393204 332.000575 \nL 130.527419 332.000575 \nz\n\" style=\"fill:#1f77b4;opacity:0.4;\"/>\n   </g>\n   <g id=\"patch_5\">\n    <path clip-path=\"url(#p81c93fe924)\" d=\"M 141.393204 333.36 \nL 152.258988 333.36 \nL 152.258988 330.981007 \nL 141.393204 330.981007 \nz\n\" style=\"fill:#1f77b4;opacity:0.4;\"/>\n   </g>\n   <g id=\"patch_6\">\n    <path clip-path=\"url(#p81c93fe924)\" d=\"M 152.258988 333.36 \nL 163.124773 333.36 \nL 163.124773 332.000575 \nL 152.258988 332.000575 \nz\n\" style=\"fill:#1f77b4;opacity:0.4;\"/>\n   </g>\n   <g id=\"patch_7\">\n    <path clip-path=\"url(#p81c93fe924)\" d=\"M 163.124773 333.36 \nL 173.990558 333.36 \nL 173.990558 330.301294 \nL 163.124773 330.301294 \nz\n\" style=\"fill:#1f77b4;opacity:0.4;\"/>\n   </g>\n   <g id=\"patch_8\">\n    <path clip-path=\"url(#p81c93fe924)\" d=\"M 173.990558 333.36 \nL 184.856342 333.36 \nL 184.856342 326.902732 \nL 173.990558 326.902732 \nz\n\" style=\"fill:#1f77b4;opacity:0.4;\"/>\n   </g>\n   <g id=\"patch_9\">\n    <path clip-path=\"url(#p81c93fe924)\" d=\"M 184.856342 333.36 \nL 195.722127 333.36 \nL 195.722127 325.543307 \nL 184.856342 325.543307 \nz\n\" style=\"fill:#1f77b4;opacity:0.4;\"/>\n   </g>\n   <g id=\"patch_10\">\n    <path clip-path=\"url(#p81c93fe924)\" d=\"M 195.722127 333.36 \nL 206.587911 333.36 \nL 206.587911 325.543307 \nL 195.722127 325.543307 \nz\n\" style=\"fill:#1f77b4;opacity:0.4;\"/>\n   </g>\n   <g id=\"patch_11\">\n    <path clip-path=\"url(#p81c93fe924)\" d=\"M 206.587911 333.36 \nL 217.453696 333.36 \nL 217.453696 318.066471 \nL 206.587911 318.066471 \nz\n\" style=\"fill:#1f77b4;opacity:0.4;\"/>\n   </g>\n   <g id=\"patch_12\">\n    <path clip-path=\"url(#p81c93fe924)\" d=\"M 217.453696 333.36 \nL 228.319481 333.36 \nL 228.319481 312.628771 \nL 217.453696 312.628771 \nz\n\" style=\"fill:#1f77b4;opacity:0.4;\"/>\n   </g>\n   <g id=\"patch_13\">\n    <path clip-path=\"url(#p81c93fe924)\" d=\"M 228.319481 333.36 \nL 239.185265 333.36 \nL 239.185265 301.073661 \nL 228.319481 301.073661 \nz\n\" style=\"fill:#1f77b4;opacity:0.4;\"/>\n   </g>\n   <g id=\"patch_14\">\n    <path clip-path=\"url(#p81c93fe924)\" d=\"M 239.185265 333.36 \nL 250.05105 333.36 \nL 250.05105 294.276536 \nL 239.185265 294.276536 \nz\n\" style=\"fill:#1f77b4;opacity:0.4;\"/>\n   </g>\n   <g id=\"patch_15\">\n    <path clip-path=\"url(#p81c93fe924)\" d=\"M 250.05105 333.36 \nL 260.916835 333.36 \nL 260.916835 281.362001 \nL 250.05105 281.362001 \nz\n\" style=\"fill:#1f77b4;opacity:0.4;\"/>\n   </g>\n   <g id=\"patch_16\">\n    <path clip-path=\"url(#p81c93fe924)\" d=\"M 260.916835 333.36 \nL 271.782619 333.36 \nL 271.782619 266.748184 \nL 260.916835 266.748184 \nz\n\" style=\"fill:#1f77b4;opacity:0.4;\"/>\n   </g>\n   <g id=\"patch_17\">\n    <path clip-path=\"url(#p81c93fe924)\" d=\"M 271.782619 333.36 \nL 282.648404 333.36 \nL 282.648404 244.317674 \nL 271.782619 244.317674 \nz\n\" style=\"fill:#1f77b4;opacity:0.4;\"/>\n   </g>\n   <g id=\"patch_18\">\n    <path clip-path=\"url(#p81c93fe924)\" d=\"M 282.648404 333.36 \nL 293.514188 333.36 \nL 293.514188 226.985008 \nL 282.648404 226.985008 \nz\n\" style=\"fill:#1f77b4;opacity:0.4;\"/>\n   </g>\n   <g id=\"patch_19\">\n    <path clip-path=\"url(#p81c93fe924)\" d=\"M 293.514188 333.36 \nL 304.379973 333.36 \nL 304.379973 206.593636 \nL 293.514188 206.593636 \nz\n\" style=\"fill:#1f77b4;opacity:0.4;\"/>\n   </g>\n   <g id=\"patch_20\">\n    <path clip-path=\"url(#p81c93fe924)\" d=\"M 304.379973 333.36 \nL 315.245758 333.36 \nL 315.245758 180.424708 \nL 304.379973 180.424708 \nz\n\" style=\"fill:#1f77b4;opacity:0.4;\"/>\n   </g>\n   <g id=\"patch_21\">\n    <path clip-path=\"url(#p81c93fe924)\" d=\"M 315.245758 333.36 \nL 326.111542 333.36 \nL 326.111542 159.353623 \nL 315.245758 159.353623 \nz\n\" style=\"fill:#1f77b4;opacity:0.4;\"/>\n   </g>\n   <g id=\"patch_22\">\n    <path clip-path=\"url(#p81c93fe924)\" d=\"M 326.111542 333.36 \nL 336.977327 333.36 \nL 336.977327 110.414329 \nL 326.111542 110.414329 \nz\n\" style=\"fill:#1f77b4;opacity:0.4;\"/>\n   </g>\n   <g id=\"patch_23\">\n    <path clip-path=\"url(#p81c93fe924)\" d=\"M 336.977327 333.36 \nL 347.843112 333.36 \nL 347.843112 98.519362 \nL 336.977327 98.519362 \nz\n\" style=\"fill:#1f77b4;opacity:0.4;\"/>\n   </g>\n   <g id=\"patch_24\">\n    <path clip-path=\"url(#p81c93fe924)\" d=\"M 347.843112 333.36 \nL 358.708896 333.36 \nL 358.708896 76.768565 \nL 347.843112 76.768565 \nz\n\" style=\"fill:#1f77b4;opacity:0.4;\"/>\n   </g>\n   <g id=\"patch_25\">\n    <path clip-path=\"url(#p81c93fe924)\" d=\"M 358.708896 333.36 \nL 369.574681 333.36 \nL 369.574681 38.364814 \nL 358.708896 38.364814 \nz\n\" style=\"fill:#1f77b4;opacity:0.4;\"/>\n   </g>\n   <g id=\"patch_26\">\n    <path clip-path=\"url(#p81c93fe924)\" d=\"M 369.574681 333.36 \nL 380.440465 333.36 \nL 380.440465 34.966252 \nL 369.574681 34.966252 \nz\n\" style=\"fill:#1f77b4;opacity:0.4;\"/>\n   </g>\n   <g id=\"patch_27\">\n    <path clip-path=\"url(#p81c93fe924)\" d=\"M 380.440465 333.36 \nL 391.30625 333.36 \nL 391.30625 33.606827 \nL 380.440465 33.606827 \nz\n\" style=\"fill:#1f77b4;opacity:0.4;\"/>\n   </g>\n   <g id=\"patch_28\">\n    <path clip-path=\"url(#p81c93fe924)\" d=\"M 391.30625 333.36 \nL 402.172035 333.36 \nL 402.172035 26.129991 \nL 391.30625 26.129991 \nz\n\" style=\"fill:#1f77b4;opacity:0.4;\"/>\n   </g>\n   <g id=\"patch_29\">\n    <path clip-path=\"url(#p81c93fe924)\" d=\"M 402.172035 333.36 \nL 413.037819 333.36 \nL 413.037819 37.685102 \nL 402.172035 37.685102 \nz\n\" style=\"fill:#1f77b4;opacity:0.4;\"/>\n   </g>\n   <g id=\"patch_30\">\n    <path clip-path=\"url(#p81c93fe924)\" d=\"M 413.037819 333.36 \nL 423.903604 333.36 \nL 423.903604 22.731429 \nL 413.037819 22.731429 \nz\n\" style=\"fill:#1f77b4;opacity:0.4;\"/>\n   </g>\n   <g id=\"patch_31\">\n    <path clip-path=\"url(#p81c93fe924)\" d=\"M 423.903604 333.36 \nL 434.769388 333.36 \nL 434.769388 54.677912 \nL 423.903604 54.677912 \nz\n\" style=\"fill:#1f77b4;opacity:0.4;\"/>\n   </g>\n   <g id=\"patch_32\">\n    <path clip-path=\"url(#p81c93fe924)\" d=\"M 434.769388 333.36 \nL 445.635173 333.36 \nL 445.635173 74.389572 \nL 434.769388 74.389572 \nz\n\" style=\"fill:#1f77b4;opacity:0.4;\"/>\n   </g>\n   <g id=\"patch_33\">\n    <path clip-path=\"url(#p81c93fe924)\" d=\"M 445.635173 333.36 \nL 456.500958 333.36 \nL 456.500958 81.866408 \nL 445.635173 81.866408 \nz\n\" style=\"fill:#1f77b4;opacity:0.4;\"/>\n   </g>\n   <g id=\"patch_34\">\n    <path clip-path=\"url(#p81c93fe924)\" d=\"M 456.500958 333.36 \nL 467.366742 333.36 \nL 467.366742 120.270159 \nL 456.500958 120.270159 \nz\n\" style=\"fill:#1f77b4;opacity:0.4;\"/>\n   </g>\n   <g id=\"patch_35\">\n    <path clip-path=\"url(#p81c93fe924)\" d=\"M 467.366742 333.36 \nL 478.232527 333.36 \nL 478.232527 144.060094 \nL 467.366742 144.060094 \nz\n\" style=\"fill:#1f77b4;opacity:0.4;\"/>\n   </g>\n   <g id=\"patch_36\">\n    <path clip-path=\"url(#p81c93fe924)\" d=\"M 478.232527 333.36 \nL 489.098312 333.36 \nL 489.098312 163.771754 \nL 478.232527 163.771754 \nz\n\" style=\"fill:#1f77b4;opacity:0.4;\"/>\n   </g>\n   <g id=\"patch_37\">\n    <path clip-path=\"url(#p81c93fe924)\" d=\"M 489.098312 333.36 \nL 499.964096 333.36 \nL 499.964096 212.371191 \nL 489.098312 212.371191 \nz\n\" style=\"fill:#1f77b4;opacity:0.4;\"/>\n   </g>\n   <g id=\"patch_38\">\n    <path clip-path=\"url(#p81c93fe924)\" d=\"M 499.964096 333.36 \nL 510.829881 333.36 \nL 510.829881 230.38357 \nL 499.964096 230.38357 \nz\n\" style=\"fill:#1f77b4;opacity:0.4;\"/>\n   </g>\n   <g id=\"patch_39\">\n    <path clip-path=\"url(#p81c93fe924)\" d=\"M 510.829881 333.36 \nL 521.695665 333.36 \nL 521.695665 244.997387 \nL 510.829881 244.997387 \nz\n\" style=\"fill:#1f77b4;opacity:0.4;\"/>\n   </g>\n   <g id=\"patch_40\">\n    <path clip-path=\"url(#p81c93fe924)\" d=\"M 521.695665 333.36 \nL 532.56145 333.36 \nL 532.56145 262.330053 \nL 521.695665 262.330053 \nz\n\" style=\"fill:#1f77b4;opacity:0.4;\"/>\n   </g>\n   <g id=\"patch_41\">\n    <path clip-path=\"url(#p81c93fe924)\" d=\"M 532.56145 333.36 \nL 543.427235 333.36 \nL 543.427235 288.159125 \nL 532.56145 288.159125 \nz\n\" style=\"fill:#1f77b4;opacity:0.4;\"/>\n   </g>\n   <g id=\"patch_42\">\n    <path clip-path=\"url(#p81c93fe924)\" d=\"M 543.427235 333.36 \nL 554.293019 333.36 \nL 554.293019 295.296105 \nL 543.427235 295.296105 \nz\n\" style=\"fill:#1f77b4;opacity:0.4;\"/>\n   </g>\n   <g id=\"patch_43\">\n    <path clip-path=\"url(#p81c93fe924)\" d=\"M 554.293019 333.36 \nL 565.158804 333.36 \nL 565.158804 306.171504 \nL 554.293019 306.171504 \nz\n\" style=\"fill:#1f77b4;opacity:0.4;\"/>\n   </g>\n   <g id=\"patch_44\">\n    <path clip-path=\"url(#p81c93fe924)\" d=\"M 565.158804 333.36 \nL 576.024589 333.36 \nL 576.024589 305.491791 \nL 565.158804 305.491791 \nz\n\" style=\"fill:#1f77b4;opacity:0.4;\"/>\n   </g>\n   <g id=\"patch_45\">\n    <path clip-path=\"url(#p81c93fe924)\" d=\"M 576.024589 333.36 \nL 586.890373 333.36 \nL 586.890373 315.007765 \nL 576.024589 315.007765 \nz\n\" style=\"fill:#1f77b4;opacity:0.4;\"/>\n   </g>\n   <g id=\"patch_46\">\n    <path clip-path=\"url(#p81c93fe924)\" d=\"M 586.890373 333.36 \nL 597.756158 333.36 \nL 597.756158 317.046902 \nL 586.890373 317.046902 \nz\n\" style=\"fill:#1f77b4;opacity:0.4;\"/>\n   </g>\n   <g id=\"patch_47\">\n    <path clip-path=\"url(#p81c93fe924)\" d=\"M 597.756158 333.36 \nL 608.621942 333.36 \nL 608.621942 322.484601 \nL 597.756158 322.484601 \nz\n\" style=\"fill:#1f77b4;opacity:0.4;\"/>\n   </g>\n   <g id=\"patch_48\">\n    <path clip-path=\"url(#p81c93fe924)\" d=\"M 608.621942 333.36 \nL 619.487727 333.36 \nL 619.487727 328.602013 \nL 608.621942 328.602013 \nz\n\" style=\"fill:#1f77b4;opacity:0.4;\"/>\n   </g>\n   <g id=\"patch_49\">\n    <path clip-path=\"url(#p81c93fe924)\" d=\"M 619.487727 333.36 \nL 630.353512 333.36 \nL 630.353512 330.64115 \nL 619.487727 330.64115 \nz\n\" style=\"fill:#1f77b4;opacity:0.4;\"/>\n   </g>\n   <g id=\"patch_50\">\n    <path clip-path=\"url(#p81c93fe924)\" d=\"M 630.353512 333.36 \nL 641.219296 333.36 \nL 641.219296 329.621582 \nL 630.353512 329.621582 \nz\n\" style=\"fill:#1f77b4;opacity:0.4;\"/>\n   </g>\n   <g id=\"patch_51\">\n    <path clip-path=\"url(#p81c93fe924)\" d=\"M 641.219296 333.36 \nL 652.085081 333.36 \nL 652.085081 333.36 \nL 641.219296 333.36 \nz\n\" style=\"fill:#1f77b4;opacity:0.4;\"/>\n   </g>\n   <g id=\"patch_52\">\n    <path clip-path=\"url(#p81c93fe924)\" d=\"M 652.085081 333.36 \nL 662.950866 333.36 \nL 662.950866 332.680288 \nL 652.085081 332.680288 \nz\n\" style=\"fill:#1f77b4;opacity:0.4;\"/>\n   </g>\n   <g id=\"matplotlib.axis_1\">\n    <g id=\"xtick_1\">\n     <g id=\"line2d_1\">\n      <defs>\n       <path d=\"M 0 0 \nL 0 3.5 \n\" id=\"m004cf2c277\" style=\"stroke:#000000;stroke-width:0.8;\"/>\n      </defs>\n      <g>\n       <use style=\"stroke:#000000;stroke-width:0.8;\" x=\"95.815077\" xlink:href=\"#m004cf2c277\" y=\"333.36\"/>\n      </g>\n     </g>\n     <g id=\"text_1\">\n      <!-- 30 -->\n      <g transform=\"translate(89.452577 347.958438)scale(0.1 -0.1)\">\n       <defs>\n        <path d=\"M 40.578125 39.3125 \nQ 47.65625 37.796875 51.625 33 \nQ 55.609375 28.21875 55.609375 21.1875 \nQ 55.609375 10.40625 48.1875 4.484375 \nQ 40.765625 -1.421875 27.09375 -1.421875 \nQ 22.515625 -1.421875 17.65625 -0.515625 \nQ 12.796875 0.390625 7.625 2.203125 \nL 7.625 11.71875 \nQ 11.71875 9.328125 16.59375 8.109375 \nQ 21.484375 6.890625 26.8125 6.890625 \nQ 36.078125 6.890625 40.9375 10.546875 \nQ 45.796875 14.203125 45.796875 21.1875 \nQ 45.796875 27.640625 41.28125 31.265625 \nQ 36.765625 34.90625 28.71875 34.90625 \nL 20.21875 34.90625 \nL 20.21875 43.015625 \nL 29.109375 43.015625 \nQ 36.375 43.015625 40.234375 45.921875 \nQ 44.09375 48.828125 44.09375 54.296875 \nQ 44.09375 59.90625 40.109375 62.90625 \nQ 36.140625 65.921875 28.71875 65.921875 \nQ 24.65625 65.921875 20.015625 65.03125 \nQ 15.375 64.15625 9.8125 62.3125 \nL 9.8125 71.09375 \nQ 15.4375 72.65625 20.34375 73.4375 \nQ 25.25 74.21875 29.59375 74.21875 \nQ 40.828125 74.21875 47.359375 69.109375 \nQ 53.90625 64.015625 53.90625 55.328125 \nQ 53.90625 49.265625 50.4375 45.09375 \nQ 46.96875 40.921875 40.578125 39.3125 \nz\n\" id=\"DejaVuSans-51\"/>\n        <path d=\"M 31.78125 66.40625 \nQ 24.171875 66.40625 20.328125 58.90625 \nQ 16.5 51.421875 16.5 36.375 \nQ 16.5 21.390625 20.328125 13.890625 \nQ 24.171875 6.390625 31.78125 6.390625 \nQ 39.453125 6.390625 43.28125 13.890625 \nQ 47.125 21.390625 47.125 36.375 \nQ 47.125 51.421875 43.28125 58.90625 \nQ 39.453125 66.40625 31.78125 66.40625 \nz\nM 31.78125 74.21875 \nQ 44.046875 74.21875 50.515625 64.515625 \nQ 56.984375 54.828125 56.984375 36.375 \nQ 56.984375 17.96875 50.515625 8.265625 \nQ 44.046875 -1.421875 31.78125 -1.421875 \nQ 19.53125 -1.421875 13.0625 8.265625 \nQ 6.59375 17.96875 6.59375 36.375 \nQ 6.59375 54.828125 13.0625 64.515625 \nQ 19.53125 74.21875 31.78125 74.21875 \nz\n\" id=\"DejaVuSans-48\"/>\n       </defs>\n       <use xlink:href=\"#DejaVuSans-51\"/>\n       <use x=\"63.623047\" xlink:href=\"#DejaVuSans-48\"/>\n      </g>\n     </g>\n    </g>\n    <g id=\"xtick_2\">\n     <g id=\"line2d_2\">\n      <g>\n       <use style=\"stroke:#000000;stroke-width:0.8;\" x=\"171.278805\" xlink:href=\"#m004cf2c277\" y=\"333.36\"/>\n      </g>\n     </g>\n     <g id=\"text_2\">\n      <!-- 40 -->\n      <g transform=\"translate(164.916305 347.958438)scale(0.1 -0.1)\">\n       <defs>\n        <path d=\"M 37.796875 64.3125 \nL 12.890625 25.390625 \nL 37.796875 25.390625 \nz\nM 35.203125 72.90625 \nL 47.609375 72.90625 \nL 47.609375 25.390625 \nL 58.015625 25.390625 \nL 58.015625 17.1875 \nL 47.609375 17.1875 \nL 47.609375 0 \nL 37.796875 0 \nL 37.796875 17.1875 \nL 4.890625 17.1875 \nL 4.890625 26.703125 \nz\n\" id=\"DejaVuSans-52\"/>\n       </defs>\n       <use xlink:href=\"#DejaVuSans-52\"/>\n       <use x=\"63.623047\" xlink:href=\"#DejaVuSans-48\"/>\n      </g>\n     </g>\n    </g>\n    <g id=\"xtick_3\">\n     <g id=\"line2d_3\">\n      <g>\n       <use style=\"stroke:#000000;stroke-width:0.8;\" x=\"246.742533\" xlink:href=\"#m004cf2c277\" y=\"333.36\"/>\n      </g>\n     </g>\n     <g id=\"text_3\">\n      <!-- 50 -->\n      <g transform=\"translate(240.380033 347.958438)scale(0.1 -0.1)\">\n       <defs>\n        <path d=\"M 10.796875 72.90625 \nL 49.515625 72.90625 \nL 49.515625 64.59375 \nL 19.828125 64.59375 \nL 19.828125 46.734375 \nQ 21.96875 47.46875 24.109375 47.828125 \nQ 26.265625 48.1875 28.421875 48.1875 \nQ 40.625 48.1875 47.75 41.5 \nQ 54.890625 34.8125 54.890625 23.390625 \nQ 54.890625 11.625 47.5625 5.09375 \nQ 40.234375 -1.421875 26.90625 -1.421875 \nQ 22.3125 -1.421875 17.546875 -0.640625 \nQ 12.796875 0.140625 7.71875 1.703125 \nL 7.71875 11.625 \nQ 12.109375 9.234375 16.796875 8.0625 \nQ 21.484375 6.890625 26.703125 6.890625 \nQ 35.15625 6.890625 40.078125 11.328125 \nQ 45.015625 15.765625 45.015625 23.390625 \nQ 45.015625 31 40.078125 35.4375 \nQ 35.15625 39.890625 26.703125 39.890625 \nQ 22.75 39.890625 18.8125 39.015625 \nQ 14.890625 38.140625 10.796875 36.28125 \nz\n\" id=\"DejaVuSans-53\"/>\n       </defs>\n       <use xlink:href=\"#DejaVuSans-53\"/>\n       <use x=\"63.623047\" xlink:href=\"#DejaVuSans-48\"/>\n      </g>\n     </g>\n    </g>\n    <g id=\"xtick_4\">\n     <g id=\"line2d_4\">\n      <g>\n       <use style=\"stroke:#000000;stroke-width:0.8;\" x=\"322.206261\" xlink:href=\"#m004cf2c277\" y=\"333.36\"/>\n      </g>\n     </g>\n     <g id=\"text_4\">\n      <!-- 60 -->\n      <g transform=\"translate(315.843761 347.958438)scale(0.1 -0.1)\">\n       <defs>\n        <path d=\"M 33.015625 40.375 \nQ 26.375 40.375 22.484375 35.828125 \nQ 18.609375 31.296875 18.609375 23.390625 \nQ 18.609375 15.53125 22.484375 10.953125 \nQ 26.375 6.390625 33.015625 6.390625 \nQ 39.65625 6.390625 43.53125 10.953125 \nQ 47.40625 15.53125 47.40625 23.390625 \nQ 47.40625 31.296875 43.53125 35.828125 \nQ 39.65625 40.375 33.015625 40.375 \nz\nM 52.59375 71.296875 \nL 52.59375 62.3125 \nQ 48.875 64.0625 45.09375 64.984375 \nQ 41.3125 65.921875 37.59375 65.921875 \nQ 27.828125 65.921875 22.671875 59.328125 \nQ 17.53125 52.734375 16.796875 39.40625 \nQ 19.671875 43.65625 24.015625 45.921875 \nQ 28.375 48.1875 33.59375 48.1875 \nQ 44.578125 48.1875 50.953125 41.515625 \nQ 57.328125 34.859375 57.328125 23.390625 \nQ 57.328125 12.15625 50.6875 5.359375 \nQ 44.046875 -1.421875 33.015625 -1.421875 \nQ 20.359375 -1.421875 13.671875 8.265625 \nQ 6.984375 17.96875 6.984375 36.375 \nQ 6.984375 53.65625 15.1875 63.9375 \nQ 23.390625 74.21875 37.203125 74.21875 \nQ 40.921875 74.21875 44.703125 73.484375 \nQ 48.484375 72.75 52.59375 71.296875 \nz\n\" id=\"DejaVuSans-54\"/>\n       </defs>\n       <use xlink:href=\"#DejaVuSans-54\"/>\n       <use x=\"63.623047\" xlink:href=\"#DejaVuSans-48\"/>\n      </g>\n     </g>\n    </g>\n    <g id=\"xtick_5\">\n     <g id=\"line2d_5\">\n      <g>\n       <use style=\"stroke:#000000;stroke-width:0.8;\" x=\"397.669988\" xlink:href=\"#m004cf2c277\" y=\"333.36\"/>\n      </g>\n     </g>\n     <g id=\"text_5\">\n      <!-- 70 -->\n      <g transform=\"translate(391.307488 347.958438)scale(0.1 -0.1)\">\n       <defs>\n        <path d=\"M 8.203125 72.90625 \nL 55.078125 72.90625 \nL 55.078125 68.703125 \nL 28.609375 0 \nL 18.3125 0 \nL 43.21875 64.59375 \nL 8.203125 64.59375 \nz\n\" id=\"DejaVuSans-55\"/>\n       </defs>\n       <use xlink:href=\"#DejaVuSans-55\"/>\n       <use x=\"63.623047\" xlink:href=\"#DejaVuSans-48\"/>\n      </g>\n     </g>\n    </g>\n    <g id=\"xtick_6\">\n     <g id=\"line2d_6\">\n      <g>\n       <use style=\"stroke:#000000;stroke-width:0.8;\" x=\"473.133716\" xlink:href=\"#m004cf2c277\" y=\"333.36\"/>\n      </g>\n     </g>\n     <g id=\"text_6\">\n      <!-- 80 -->\n      <g transform=\"translate(466.771216 347.958438)scale(0.1 -0.1)\">\n       <defs>\n        <path d=\"M 31.78125 34.625 \nQ 24.75 34.625 20.71875 30.859375 \nQ 16.703125 27.09375 16.703125 20.515625 \nQ 16.703125 13.921875 20.71875 10.15625 \nQ 24.75 6.390625 31.78125 6.390625 \nQ 38.8125 6.390625 42.859375 10.171875 \nQ 46.921875 13.96875 46.921875 20.515625 \nQ 46.921875 27.09375 42.890625 30.859375 \nQ 38.875 34.625 31.78125 34.625 \nz\nM 21.921875 38.8125 \nQ 15.578125 40.375 12.03125 44.71875 \nQ 8.5 49.078125 8.5 55.328125 \nQ 8.5 64.0625 14.71875 69.140625 \nQ 20.953125 74.21875 31.78125 74.21875 \nQ 42.671875 74.21875 48.875 69.140625 \nQ 55.078125 64.0625 55.078125 55.328125 \nQ 55.078125 49.078125 51.53125 44.71875 \nQ 48 40.375 41.703125 38.8125 \nQ 48.828125 37.15625 52.796875 32.3125 \nQ 56.78125 27.484375 56.78125 20.515625 \nQ 56.78125 9.90625 50.3125 4.234375 \nQ 43.84375 -1.421875 31.78125 -1.421875 \nQ 19.734375 -1.421875 13.25 4.234375 \nQ 6.78125 9.90625 6.78125 20.515625 \nQ 6.78125 27.484375 10.78125 32.3125 \nQ 14.796875 37.15625 21.921875 38.8125 \nz\nM 18.3125 54.390625 \nQ 18.3125 48.734375 21.84375 45.5625 \nQ 25.390625 42.390625 31.78125 42.390625 \nQ 38.140625 42.390625 41.71875 45.5625 \nQ 45.3125 48.734375 45.3125 54.390625 \nQ 45.3125 60.0625 41.71875 63.234375 \nQ 38.140625 66.40625 31.78125 66.40625 \nQ 25.390625 66.40625 21.84375 63.234375 \nQ 18.3125 60.0625 18.3125 54.390625 \nz\n\" id=\"DejaVuSans-56\"/>\n       </defs>\n       <use xlink:href=\"#DejaVuSans-56\"/>\n       <use x=\"63.623047\" xlink:href=\"#DejaVuSans-48\"/>\n      </g>\n     </g>\n    </g>\n    <g id=\"xtick_7\">\n     <g id=\"line2d_7\">\n      <g>\n       <use style=\"stroke:#000000;stroke-width:0.8;\" x=\"548.597444\" xlink:href=\"#m004cf2c277\" y=\"333.36\"/>\n      </g>\n     </g>\n     <g id=\"text_7\">\n      <!-- 90 -->\n      <g transform=\"translate(542.234944 347.958438)scale(0.1 -0.1)\">\n       <defs>\n        <path d=\"M 10.984375 1.515625 \nL 10.984375 10.5 \nQ 14.703125 8.734375 18.5 7.8125 \nQ 22.3125 6.890625 25.984375 6.890625 \nQ 35.75 6.890625 40.890625 13.453125 \nQ 46.046875 20.015625 46.78125 33.40625 \nQ 43.953125 29.203125 39.59375 26.953125 \nQ 35.25 24.703125 29.984375 24.703125 \nQ 19.046875 24.703125 12.671875 31.3125 \nQ 6.296875 37.9375 6.296875 49.421875 \nQ 6.296875 60.640625 12.9375 67.421875 \nQ 19.578125 74.21875 30.609375 74.21875 \nQ 43.265625 74.21875 49.921875 64.515625 \nQ 56.59375 54.828125 56.59375 36.375 \nQ 56.59375 19.140625 48.40625 8.859375 \nQ 40.234375 -1.421875 26.421875 -1.421875 \nQ 22.703125 -1.421875 18.890625 -0.6875 \nQ 15.09375 0.046875 10.984375 1.515625 \nz\nM 30.609375 32.421875 \nQ 37.25 32.421875 41.125 36.953125 \nQ 45.015625 41.5 45.015625 49.421875 \nQ 45.015625 57.28125 41.125 61.84375 \nQ 37.25 66.40625 30.609375 66.40625 \nQ 23.96875 66.40625 20.09375 61.84375 \nQ 16.21875 57.28125 16.21875 49.421875 \nQ 16.21875 41.5 20.09375 36.953125 \nQ 23.96875 32.421875 30.609375 32.421875 \nz\n\" id=\"DejaVuSans-57\"/>\n       </defs>\n       <use xlink:href=\"#DejaVuSans-57\"/>\n       <use x=\"63.623047\" xlink:href=\"#DejaVuSans-48\"/>\n      </g>\n     </g>\n    </g>\n    <g id=\"xtick_8\">\n     <g id=\"line2d_8\">\n      <g>\n       <use style=\"stroke:#000000;stroke-width:0.8;\" x=\"624.061172\" xlink:href=\"#m004cf2c277\" y=\"333.36\"/>\n      </g>\n     </g>\n     <g id=\"text_8\">\n      <!-- 100 -->\n      <g transform=\"translate(614.517422 347.958438)scale(0.1 -0.1)\">\n       <defs>\n        <path d=\"M 12.40625 8.296875 \nL 28.515625 8.296875 \nL 28.515625 63.921875 \nL 10.984375 60.40625 \nL 10.984375 69.390625 \nL 28.421875 72.90625 \nL 38.28125 72.90625 \nL 38.28125 8.296875 \nL 54.390625 8.296875 \nL 54.390625 0 \nL 12.40625 0 \nz\n\" id=\"DejaVuSans-49\"/>\n       </defs>\n       <use xlink:href=\"#DejaVuSans-49\"/>\n       <use x=\"63.623047\" xlink:href=\"#DejaVuSans-48\"/>\n       <use x=\"127.246094\" xlink:href=\"#DejaVuSans-48\"/>\n      </g>\n     </g>\n    </g>\n    <g id=\"xtick_9\">\n     <g id=\"line2d_9\">\n      <g>\n       <use style=\"stroke:#000000;stroke-width:0.8;\" x=\"699.524899\" xlink:href=\"#m004cf2c277\" y=\"333.36\"/>\n      </g>\n     </g>\n     <g id=\"text_9\">\n      <!-- 110 -->\n      <g transform=\"translate(689.981149 347.958438)scale(0.1 -0.1)\">\n       <use xlink:href=\"#DejaVuSans-49\"/>\n       <use x=\"63.623047\" xlink:href=\"#DejaVuSans-49\"/>\n       <use x=\"127.246094\" xlink:href=\"#DejaVuSans-48\"/>\n      </g>\n     </g>\n    </g>\n   </g>\n   <g id=\"matplotlib.axis_2\">\n    <g id=\"ytick_1\">\n     <g id=\"line2d_10\">\n      <defs>\n       <path d=\"M 0 0 \nL -3.5 0 \n\" id=\"m27a5d3393b\" style=\"stroke:#000000;stroke-width:0.8;\"/>\n      </defs>\n      <g>\n       <use style=\"stroke:#000000;stroke-width:0.8;\" x=\"56.50625\" xlink:href=\"#m27a5d3393b\" y=\"333.36\"/>\n      </g>\n     </g>\n     <g id=\"text_10\">\n      <!-- 0.000 -->\n      <g transform=\"translate(20.878125 337.159219)scale(0.1 -0.1)\">\n       <defs>\n        <path d=\"M 10.6875 12.40625 \nL 21 12.40625 \nL 21 0 \nL 10.6875 0 \nz\n\" id=\"DejaVuSans-46\"/>\n       </defs>\n       <use xlink:href=\"#DejaVuSans-48\"/>\n       <use x=\"63.623047\" xlink:href=\"#DejaVuSans-46\"/>\n       <use x=\"95.410156\" xlink:href=\"#DejaVuSans-48\"/>\n       <use x=\"159.033203\" xlink:href=\"#DejaVuSans-48\"/>\n       <use x=\"222.65625\" xlink:href=\"#DejaVuSans-48\"/>\n      </g>\n     </g>\n    </g>\n    <g id=\"ytick_2\">\n     <g id=\"line2d_11\">\n      <g>\n       <use style=\"stroke:#000000;stroke-width:0.8;\" x=\"56.50625\" xlink:href=\"#m27a5d3393b\" y=\"294.716169\"/>\n      </g>\n     </g>\n     <g id=\"text_11\">\n      <!-- 0.005 -->\n      <g transform=\"translate(20.878125 298.515387)scale(0.1 -0.1)\">\n       <use xlink:href=\"#DejaVuSans-48\"/>\n       <use x=\"63.623047\" xlink:href=\"#DejaVuSans-46\"/>\n       <use x=\"95.410156\" xlink:href=\"#DejaVuSans-48\"/>\n       <use x=\"159.033203\" xlink:href=\"#DejaVuSans-48\"/>\n       <use x=\"222.65625\" xlink:href=\"#DejaVuSans-53\"/>\n      </g>\n     </g>\n    </g>\n    <g id=\"ytick_3\">\n     <g id=\"line2d_12\">\n      <g>\n       <use style=\"stroke:#000000;stroke-width:0.8;\" x=\"56.50625\" xlink:href=\"#m27a5d3393b\" y=\"256.072337\"/>\n      </g>\n     </g>\n     <g id=\"text_12\">\n      <!-- 0.010 -->\n      <g transform=\"translate(20.878125 259.871556)scale(0.1 -0.1)\">\n       <use xlink:href=\"#DejaVuSans-48\"/>\n       <use x=\"63.623047\" xlink:href=\"#DejaVuSans-46\"/>\n       <use x=\"95.410156\" xlink:href=\"#DejaVuSans-48\"/>\n       <use x=\"159.033203\" xlink:href=\"#DejaVuSans-49\"/>\n       <use x=\"222.65625\" xlink:href=\"#DejaVuSans-48\"/>\n      </g>\n     </g>\n    </g>\n    <g id=\"ytick_4\">\n     <g id=\"line2d_13\">\n      <g>\n       <use style=\"stroke:#000000;stroke-width:0.8;\" x=\"56.50625\" xlink:href=\"#m27a5d3393b\" y=\"217.428506\"/>\n      </g>\n     </g>\n     <g id=\"text_13\">\n      <!-- 0.015 -->\n      <g transform=\"translate(20.878125 221.227724)scale(0.1 -0.1)\">\n       <use xlink:href=\"#DejaVuSans-48\"/>\n       <use x=\"63.623047\" xlink:href=\"#DejaVuSans-46\"/>\n       <use x=\"95.410156\" xlink:href=\"#DejaVuSans-48\"/>\n       <use x=\"159.033203\" xlink:href=\"#DejaVuSans-49\"/>\n       <use x=\"222.65625\" xlink:href=\"#DejaVuSans-53\"/>\n      </g>\n     </g>\n    </g>\n    <g id=\"ytick_5\">\n     <g id=\"line2d_14\">\n      <g>\n       <use style=\"stroke:#000000;stroke-width:0.8;\" x=\"56.50625\" xlink:href=\"#m27a5d3393b\" y=\"178.784674\"/>\n      </g>\n     </g>\n     <g id=\"text_14\">\n      <!-- 0.020 -->\n      <g transform=\"translate(20.878125 182.583893)scale(0.1 -0.1)\">\n       <defs>\n        <path d=\"M 19.1875 8.296875 \nL 53.609375 8.296875 \nL 53.609375 0 \nL 7.328125 0 \nL 7.328125 8.296875 \nQ 12.9375 14.109375 22.625 23.890625 \nQ 32.328125 33.6875 34.8125 36.53125 \nQ 39.546875 41.84375 41.421875 45.53125 \nQ 43.3125 49.21875 43.3125 52.78125 \nQ 43.3125 58.59375 39.234375 62.25 \nQ 35.15625 65.921875 28.609375 65.921875 \nQ 23.96875 65.921875 18.8125 64.3125 \nQ 13.671875 62.703125 7.8125 59.421875 \nL 7.8125 69.390625 \nQ 13.765625 71.78125 18.9375 73 \nQ 24.125 74.21875 28.421875 74.21875 \nQ 39.75 74.21875 46.484375 68.546875 \nQ 53.21875 62.890625 53.21875 53.421875 \nQ 53.21875 48.921875 51.53125 44.890625 \nQ 49.859375 40.875 45.40625 35.40625 \nQ 44.1875 33.984375 37.640625 27.21875 \nQ 31.109375 20.453125 19.1875 8.296875 \nz\n\" id=\"DejaVuSans-50\"/>\n       </defs>\n       <use xlink:href=\"#DejaVuSans-48\"/>\n       <use x=\"63.623047\" xlink:href=\"#DejaVuSans-46\"/>\n       <use x=\"95.410156\" xlink:href=\"#DejaVuSans-48\"/>\n       <use x=\"159.033203\" xlink:href=\"#DejaVuSans-50\"/>\n       <use x=\"222.65625\" xlink:href=\"#DejaVuSans-48\"/>\n      </g>\n     </g>\n    </g>\n    <g id=\"ytick_6\">\n     <g id=\"line2d_15\">\n      <g>\n       <use style=\"stroke:#000000;stroke-width:0.8;\" x=\"56.50625\" xlink:href=\"#m27a5d3393b\" y=\"140.140843\"/>\n      </g>\n     </g>\n     <g id=\"text_15\">\n      <!-- 0.025 -->\n      <g transform=\"translate(20.878125 143.940061)scale(0.1 -0.1)\">\n       <use xlink:href=\"#DejaVuSans-48\"/>\n       <use x=\"63.623047\" xlink:href=\"#DejaVuSans-46\"/>\n       <use x=\"95.410156\" xlink:href=\"#DejaVuSans-48\"/>\n       <use x=\"159.033203\" xlink:href=\"#DejaVuSans-50\"/>\n       <use x=\"222.65625\" xlink:href=\"#DejaVuSans-53\"/>\n      </g>\n     </g>\n    </g>\n    <g id=\"ytick_7\">\n     <g id=\"line2d_16\">\n      <g>\n       <use style=\"stroke:#000000;stroke-width:0.8;\" x=\"56.50625\" xlink:href=\"#m27a5d3393b\" y=\"101.497011\"/>\n      </g>\n     </g>\n     <g id=\"text_16\">\n      <!-- 0.030 -->\n      <g transform=\"translate(20.878125 105.29623)scale(0.1 -0.1)\">\n       <use xlink:href=\"#DejaVuSans-48\"/>\n       <use x=\"63.623047\" xlink:href=\"#DejaVuSans-46\"/>\n       <use x=\"95.410156\" xlink:href=\"#DejaVuSans-48\"/>\n       <use x=\"159.033203\" xlink:href=\"#DejaVuSans-51\"/>\n       <use x=\"222.65625\" xlink:href=\"#DejaVuSans-48\"/>\n      </g>\n     </g>\n    </g>\n    <g id=\"ytick_8\">\n     <g id=\"line2d_17\">\n      <g>\n       <use style=\"stroke:#000000;stroke-width:0.8;\" x=\"56.50625\" xlink:href=\"#m27a5d3393b\" y=\"62.85318\"/>\n      </g>\n     </g>\n     <g id=\"text_17\">\n      <!-- 0.035 -->\n      <g transform=\"translate(20.878125 66.652398)scale(0.1 -0.1)\">\n       <use xlink:href=\"#DejaVuSans-48\"/>\n       <use x=\"63.623047\" xlink:href=\"#DejaVuSans-46\"/>\n       <use x=\"95.410156\" xlink:href=\"#DejaVuSans-48\"/>\n       <use x=\"159.033203\" xlink:href=\"#DejaVuSans-51\"/>\n       <use x=\"222.65625\" xlink:href=\"#DejaVuSans-53\"/>\n      </g>\n     </g>\n    </g>\n    <g id=\"ytick_9\">\n     <g id=\"line2d_18\">\n      <g>\n       <use style=\"stroke:#000000;stroke-width:0.8;\" x=\"56.50625\" xlink:href=\"#m27a5d3393b\" y=\"24.209348\"/>\n      </g>\n     </g>\n     <g id=\"text_18\">\n      <!-- 0.040 -->\n      <g transform=\"translate(20.878125 28.008567)scale(0.1 -0.1)\">\n       <use xlink:href=\"#DejaVuSans-48\"/>\n       <use x=\"63.623047\" xlink:href=\"#DejaVuSans-46\"/>\n       <use x=\"95.410156\" xlink:href=\"#DejaVuSans-48\"/>\n       <use x=\"159.033203\" xlink:href=\"#DejaVuSans-52\"/>\n       <use x=\"222.65625\" xlink:href=\"#DejaVuSans-48\"/>\n      </g>\n     </g>\n    </g>\n    <g id=\"text_19\">\n     <!-- Density -->\n     <g transform=\"translate(14.798437 189.288594)rotate(-90)scale(0.1 -0.1)\">\n      <defs>\n       <path d=\"M 19.671875 64.796875 \nL 19.671875 8.109375 \nL 31.59375 8.109375 \nQ 46.6875 8.109375 53.6875 14.9375 \nQ 60.6875 21.78125 60.6875 36.53125 \nQ 60.6875 51.171875 53.6875 57.984375 \nQ 46.6875 64.796875 31.59375 64.796875 \nz\nM 9.8125 72.90625 \nL 30.078125 72.90625 \nQ 51.265625 72.90625 61.171875 64.09375 \nQ 71.09375 55.28125 71.09375 36.53125 \nQ 71.09375 17.671875 61.125 8.828125 \nQ 51.171875 0 30.078125 0 \nL 9.8125 0 \nz\n\" id=\"DejaVuSans-68\"/>\n       <path d=\"M 56.203125 29.59375 \nL 56.203125 25.203125 \nL 14.890625 25.203125 \nQ 15.484375 15.921875 20.484375 11.0625 \nQ 25.484375 6.203125 34.421875 6.203125 \nQ 39.59375 6.203125 44.453125 7.46875 \nQ 49.3125 8.734375 54.109375 11.28125 \nL 54.109375 2.78125 \nQ 49.265625 0.734375 44.1875 -0.34375 \nQ 39.109375 -1.421875 33.890625 -1.421875 \nQ 20.796875 -1.421875 13.15625 6.1875 \nQ 5.515625 13.8125 5.515625 26.8125 \nQ 5.515625 40.234375 12.765625 48.109375 \nQ 20.015625 56 32.328125 56 \nQ 43.359375 56 49.78125 48.890625 \nQ 56.203125 41.796875 56.203125 29.59375 \nz\nM 47.21875 32.234375 \nQ 47.125 39.59375 43.09375 43.984375 \nQ 39.0625 48.390625 32.421875 48.390625 \nQ 24.90625 48.390625 20.390625 44.140625 \nQ 15.875 39.890625 15.1875 32.171875 \nz\n\" id=\"DejaVuSans-101\"/>\n       <path d=\"M 54.890625 33.015625 \nL 54.890625 0 \nL 45.90625 0 \nL 45.90625 32.71875 \nQ 45.90625 40.484375 42.875 44.328125 \nQ 39.84375 48.1875 33.796875 48.1875 \nQ 26.515625 48.1875 22.3125 43.546875 \nQ 18.109375 38.921875 18.109375 30.90625 \nL 18.109375 0 \nL 9.078125 0 \nL 9.078125 54.6875 \nL 18.109375 54.6875 \nL 18.109375 46.1875 \nQ 21.34375 51.125 25.703125 53.5625 \nQ 30.078125 56 35.796875 56 \nQ 45.21875 56 50.046875 50.171875 \nQ 54.890625 44.34375 54.890625 33.015625 \nz\n\" id=\"DejaVuSans-110\"/>\n       <path d=\"M 44.28125 53.078125 \nL 44.28125 44.578125 \nQ 40.484375 46.53125 36.375 47.5 \nQ 32.28125 48.484375 27.875 48.484375 \nQ 21.1875 48.484375 17.84375 46.4375 \nQ 14.5 44.390625 14.5 40.28125 \nQ 14.5 37.15625 16.890625 35.375 \nQ 19.28125 33.59375 26.515625 31.984375 \nL 29.59375 31.296875 \nQ 39.15625 29.25 43.1875 25.515625 \nQ 47.21875 21.78125 47.21875 15.09375 \nQ 47.21875 7.46875 41.1875 3.015625 \nQ 35.15625 -1.421875 24.609375 -1.421875 \nQ 20.21875 -1.421875 15.453125 -0.5625 \nQ 10.6875 0.296875 5.421875 2 \nL 5.421875 11.28125 \nQ 10.40625 8.6875 15.234375 7.390625 \nQ 20.0625 6.109375 24.8125 6.109375 \nQ 31.15625 6.109375 34.5625 8.28125 \nQ 37.984375 10.453125 37.984375 14.40625 \nQ 37.984375 18.0625 35.515625 20.015625 \nQ 33.0625 21.96875 24.703125 23.78125 \nL 21.578125 24.515625 \nQ 13.234375 26.265625 9.515625 29.90625 \nQ 5.8125 33.546875 5.8125 39.890625 \nQ 5.8125 47.609375 11.28125 51.796875 \nQ 16.75 56 26.8125 56 \nQ 31.78125 56 36.171875 55.265625 \nQ 40.578125 54.546875 44.28125 53.078125 \nz\n\" id=\"DejaVuSans-115\"/>\n       <path d=\"M 9.421875 54.6875 \nL 18.40625 54.6875 \nL 18.40625 0 \nL 9.421875 0 \nz\nM 9.421875 75.984375 \nL 18.40625 75.984375 \nL 18.40625 64.59375 \nL 9.421875 64.59375 \nz\n\" id=\"DejaVuSans-105\"/>\n       <path d=\"M 18.3125 70.21875 \nL 18.3125 54.6875 \nL 36.8125 54.6875 \nL 36.8125 47.703125 \nL 18.3125 47.703125 \nL 18.3125 18.015625 \nQ 18.3125 11.328125 20.140625 9.421875 \nQ 21.96875 7.515625 27.59375 7.515625 \nL 36.8125 7.515625 \nL 36.8125 0 \nL 27.59375 0 \nQ 17.1875 0 13.234375 3.875 \nQ 9.28125 7.765625 9.28125 18.015625 \nL 9.28125 47.703125 \nL 2.6875 47.703125 \nL 2.6875 54.6875 \nL 9.28125 54.6875 \nL 9.28125 70.21875 \nz\n\" id=\"DejaVuSans-116\"/>\n       <path d=\"M 32.171875 -5.078125 \nQ 28.375 -14.84375 24.75 -17.8125 \nQ 21.140625 -20.796875 15.09375 -20.796875 \nL 7.90625 -20.796875 \nL 7.90625 -13.28125 \nL 13.1875 -13.28125 \nQ 16.890625 -13.28125 18.9375 -11.515625 \nQ 21 -9.765625 23.484375 -3.21875 \nL 25.09375 0.875 \nL 2.984375 54.6875 \nL 12.5 54.6875 \nL 29.59375 11.921875 \nL 46.6875 54.6875 \nL 56.203125 54.6875 \nz\n\" id=\"DejaVuSans-121\"/>\n      </defs>\n      <use xlink:href=\"#DejaVuSans-68\"/>\n      <use x=\"77.001953\" xlink:href=\"#DejaVuSans-101\"/>\n      <use x=\"138.525391\" xlink:href=\"#DejaVuSans-110\"/>\n      <use x=\"201.904297\" xlink:href=\"#DejaVuSans-115\"/>\n      <use x=\"254.003906\" xlink:href=\"#DejaVuSans-105\"/>\n      <use x=\"281.787109\" xlink:href=\"#DejaVuSans-116\"/>\n      <use x=\"320.996094\" xlink:href=\"#DejaVuSans-121\"/>\n     </g>\n    </g>\n   </g>\n   <g id=\"line2d_19\">\n    <path clip-path=\"url(#p81c93fe924)\" d=\"M 86.942614 333.357903 \nL 105.2962 333.246907 \nL 117.531924 332.907271 \nL 126.708717 332.474397 \nL 142.003372 331.601242 \nL 157.298027 331.264978 \nL 160.356958 331.030212 \nL 166.47482 330.220392 \nL 172.592682 329.067638 \nL 184.828406 326.663883 \nL 194.005199 324.897982 \nL 197.06413 324.162486 \nL 200.123061 323.287171 \nL 203.181992 322.241347 \nL 206.240923 321.005461 \nL 209.299854 319.571843 \nL 212.358785 317.943525 \nL 215.417716 316.13219 \nL 218.476647 314.156101 \nL 224.594509 309.799652 \nL 230.712372 305.016311 \nL 236.830234 299.761696 \nL 239.889165 296.894952 \nL 242.948096 293.845672 \nL 249.065958 287.236525 \nL 255.18382 280.028155 \nL 258.242751 276.151995 \nL 261.301682 272.01875 \nL 264.360613 267.569009 \nL 267.419544 262.772202 \nL 270.478475 257.643674 \nL 276.596337 246.67373 \nL 298.008854 206.933009 \nL 301.067785 200.579092 \nL 304.126716 193.804962 \nL 307.185647 186.599578 \nL 310.244578 178.996466 \nL 316.36244 162.865357 \nL 328.598164 129.477306 \nL 331.657095 121.534707 \nL 334.716026 113.924464 \nL 340.833888 99.633567 \nL 353.069612 72.540168 \nL 356.128543 65.923431 \nL 359.187474 59.57204 \nL 362.246405 53.670758 \nL 365.305336 48.394681 \nL 368.364267 43.870906 \nL 371.423198 40.15475 \nL 374.482129 37.226065 \nL 377.54106 35.004997 \nL 380.599991 33.38088 \nL 383.658922 32.243264 \nL 386.717853 31.501977 \nL 389.776784 31.087185 \nL 392.835716 30.932185 \nL 398.953578 31.064135 \nL 405.07144 31.337487 \nL 408.130371 31.640048 \nL 411.189302 32.341335 \nL 414.248233 33.739388 \nL 417.307164 36.083265 \nL 420.366095 39.475992 \nL 423.425026 43.826453 \nL 426.483957 48.871852 \nL 435.66075 64.860259 \nL 447.896474 84.768709 \nL 450.955405 90.539611 \nL 454.014336 96.919463 \nL 457.073267 103.866933 \nL 463.191129 118.919022 \nL 472.367922 142.534795 \nL 478.485784 158.635873 \nL 493.780439 199.62348 \nL 496.83937 207.249957 \nL 499.898301 214.468912 \nL 502.957232 221.247442 \nL 506.016163 227.585788 \nL 509.075094 233.516969 \nL 515.192956 244.474274 \nL 533.546542 276.070583 \nL 536.605473 280.821985 \nL 539.664404 285.130152 \nL 542.723335 288.953658 \nL 545.782266 292.304507 \nL 548.841197 295.227589 \nL 551.900128 297.777741 \nL 554.95906 300.005637 \nL 558.017991 301.956458 \nL 561.076922 303.677138 \nL 567.194784 306.658443 \nL 606.960887 324.556113 \nL 610.019818 325.741773 \nL 613.078749 326.780739 \nL 616.13768 327.659225 \nL 619.196611 328.382365 \nL 625.314473 329.457931 \nL 640.609128 331.465621 \nL 646.72699 332.189331 \nL 652.844852 332.680642 \nL 658.962714 332.935141 \nL 674.257369 333.231224 \nL 689.552024 333.35085 \nL 695.669886 333.358115 \nL 695.669886 333.358115 \n\" style=\"fill:none;stroke:#1f77b4;stroke-linecap:square;stroke-width:1.5;\"/>\n   </g>\n   <g id=\"patch_53\">\n    <path d=\"M 56.50625 333.36 \nL 56.50625 7.2 \n\" style=\"fill:none;stroke:#000000;stroke-linecap:square;stroke-linejoin:miter;stroke-width:0.8;\"/>\n   </g>\n   <g id=\"patch_54\">\n    <path d=\"M 726.10625 333.36 \nL 726.10625 7.2 \n\" style=\"fill:none;stroke:#000000;stroke-linecap:square;stroke-linejoin:miter;stroke-width:0.8;\"/>\n   </g>\n   <g id=\"patch_55\">\n    <path d=\"M 56.50625 333.36 \nL 726.10625 333.36 \n\" style=\"fill:none;stroke:#000000;stroke-linecap:square;stroke-linejoin:miter;stroke-width:0.8;\"/>\n   </g>\n   <g id=\"patch_56\">\n    <path d=\"M 56.50625 7.2 \nL 726.10625 7.2 \n\" style=\"fill:none;stroke:#000000;stroke-linecap:square;stroke-linejoin:miter;stroke-width:0.8;\"/>\n   </g>\n  </g>\n </g>\n <defs>\n  <clipPath id=\"p81c93fe924\">\n   <rect height=\"326.16\" width=\"669.6\" x=\"56.50625\" y=\"7.2\"/>\n  </clipPath>\n </defs>\n</svg>\n",
      "image/png": "[encoded data removed]"
     },
     "metadata": {
      "needs_background": "light"
     }
    }
   ]
  },
  {
   "cell_type": "code",
   "execution_count": 46,
   "metadata": {},
   "outputs": [
    {
     "output_type": "execute_result",
     "data": {
      "text/plain": [
       "array([28.17262831, 52.7957292 , 49.1648963 , ..., 88.28792606,\n",
       "       63.35269823, 82.80769939])"
      ]
     },
     "metadata": {},
     "execution_count": 46
    }
   ],
   "source": [
    "def gera_sorte(candidatos):\n",
    "    return np.random.uniform(0, 100, candidatos)\n",
    "\n",
    "sorte = gera_sorte(candidatos)\n",
    "sorte"
   ]
  },
  {
   "source": [
    "Nesse caso está se considerando que a sorte afeta a todos de forma igual, o que sabemos que não é verdade já que a própria desigualdade influencia na sorte também."
   ],
   "cell_type": "markdown",
   "metadata": {}
  },
  {
   "cell_type": "code",
   "execution_count": 47,
   "metadata": {},
   "outputs": [
    {
     "output_type": "display_data",
     "data": {
      "text/plain": "<Figure size 864x432 with 1 Axes>",
      "image/svg+xml": "<?xml version=\"1.0\" encoding=\"utf-8\" standalone=\"no\"?>\n<!DOCTYPE svg PUBLIC \"-//W3C//DTD SVG 1.1//EN\"\n  \"http://www.w3.org/Graphics/SVG/1.1/DTD/svg11.dtd\">\n<!-- Created with matplotlib (https://matplotlib.org/) -->\n<svg height=\"357.238125pt\" version=\"1.1\" viewBox=\"0 0 733.30625 357.238125\" width=\"733.30625pt\" xmlns=\"http://www.w3.org/2000/svg\" xmlns:xlink=\"http://www.w3.org/1999/xlink\">\n <metadata>\n  <rdf:RDF xmlns:cc=\"http://creativecommons.org/ns#\" xmlns:dc=\"http://purl.org/dc/elements/1.1/\" xmlns:rdf=\"http://www.w3.org/1999/02/22-rdf-syntax-ns#\">\n   <cc:Work>\n    <dc:type rdf:resource=\"http://purl.org/dc/dcmitype/StillImage\"/>\n    <dc:date>2021-01-08T17:00:10.483033</dc:date>\n    <dc:format>image/svg+xml</dc:format>\n    <dc:creator>\n     <cc:Agent>\n      <dc:title>Matplotlib v3.3.2, https://matplotlib.org/</dc:title>\n     </cc:Agent>\n    </dc:creator>\n   </cc:Work>\n  </rdf:RDF>\n </metadata>\n <defs>\n  <style type=\"text/css\">*{stroke-linecap:butt;stroke-linejoin:round;}</style>\n </defs>\n <g id=\"figure_1\">\n  <g id=\"patch_1\">\n   <path d=\"M 0 357.238125 \nL 733.30625 357.238125 \nL 733.30625 0 \nL 0 0 \nz\n\" style=\"fill:none;\"/>\n  </g>\n  <g id=\"axes_1\">\n   <g id=\"patch_2\">\n    <path d=\"M 56.50625 333.36 \nL 726.10625 333.36 \nL 726.10625 7.2 \nL 56.50625 7.2 \nz\n\" style=\"fill:#ffffff;\"/>\n   </g>\n   <g id=\"patch_3\">\n    <path clip-path=\"url(#p0acaa62a1a)\" d=\"M 147.774486 333.36 \nL 166.507699 333.36 \nL 166.507699 42.72479 \nL 147.774486 42.72479 \nz\n\" style=\"fill:#1f77b4;opacity:0.4;\"/>\n   </g>\n   <g id=\"patch_4\">\n    <path clip-path=\"url(#p0acaa62a1a)\" d=\"M 166.507699 333.36 \nL 185.240911 333.36 \nL 185.240911 36.873075 \nL 166.507699 36.873075 \nz\n\" style=\"fill:#1f77b4;opacity:0.4;\"/>\n   </g>\n   <g id=\"patch_5\">\n    <path clip-path=\"url(#p0acaa62a1a)\" d=\"M 185.240911 333.36 \nL 203.974124 333.36 \nL 203.974124 29.55843 \nL 185.240911 29.55843 \nz\n\" style=\"fill:#1f77b4;opacity:0.4;\"/>\n   </g>\n   <g id=\"patch_6\">\n    <path clip-path=\"url(#p0acaa62a1a)\" d=\"M 203.974124 333.36 \nL 222.707336 333.36 \nL 222.707336 39.798932 \nL 203.974124 39.798932 \nz\n\" style=\"fill:#1f77b4;opacity:0.4;\"/>\n   </g>\n   <g id=\"patch_7\">\n    <path clip-path=\"url(#p0acaa62a1a)\" d=\"M 222.707336 333.36 \nL 241.440549 333.36 \nL 241.440549 40.774218 \nL 222.707336 40.774218 \nz\n\" style=\"fill:#1f77b4;opacity:0.4;\"/>\n   </g>\n   <g id=\"patch_8\">\n    <path clip-path=\"url(#p0acaa62a1a)\" d=\"M 241.440549 333.36 \nL 260.173762 333.36 \nL 260.173762 31.996645 \nL 241.440549 31.996645 \nz\n\" style=\"fill:#1f77b4;opacity:0.4;\"/>\n   </g>\n   <g id=\"patch_9\">\n    <path clip-path=\"url(#p0acaa62a1a)\" d=\"M 260.173762 333.36 \nL 278.906974 333.36 \nL 278.906974 38.823647 \nL 260.173762 38.823647 \nz\n\" style=\"fill:#1f77b4;opacity:0.4;\"/>\n   </g>\n   <g id=\"patch_10\">\n    <path clip-path=\"url(#p0acaa62a1a)\" d=\"M 278.906974 333.36 \nL 297.640187 333.36 \nL 297.640187 45.163005 \nL 278.906974 45.163005 \nz\n\" style=\"fill:#1f77b4;opacity:0.4;\"/>\n   </g>\n   <g id=\"patch_11\">\n    <path clip-path=\"url(#p0acaa62a1a)\" d=\"M 297.640187 333.36 \nL 316.3734 333.36 \nL 316.3734 29.55843 \nL 297.640187 29.55843 \nz\n\" style=\"fill:#1f77b4;opacity:0.4;\"/>\n   </g>\n   <g id=\"patch_12\">\n    <path clip-path=\"url(#p0acaa62a1a)\" d=\"M 316.3734 333.36 \nL 335.106612 333.36 \nL 335.106612 29.55843 \nL 316.3734 29.55843 \nz\n\" style=\"fill:#1f77b4;opacity:0.4;\"/>\n   </g>\n   <g id=\"patch_13\">\n    <path clip-path=\"url(#p0acaa62a1a)\" d=\"M 335.106612 333.36 \nL 353.839825 333.36 \nL 353.839825 22.731429 \nL 335.106612 22.731429 \nz\n\" style=\"fill:#1f77b4;opacity:0.4;\"/>\n   </g>\n   <g id=\"patch_14\">\n    <path clip-path=\"url(#p0acaa62a1a)\" d=\"M 353.839825 333.36 \nL 372.573037 333.36 \nL 372.573037 55.403508 \nL 353.839825 55.403508 \nz\n\" style=\"fill:#1f77b4;opacity:0.4;\"/>\n   </g>\n   <g id=\"patch_15\">\n    <path clip-path=\"url(#p0acaa62a1a)\" d=\"M 372.573037 333.36 \nL 391.30625 333.36 \nL 391.30625 30.533716 \nL 372.573037 30.533716 \nz\n\" style=\"fill:#1f77b4;opacity:0.4;\"/>\n   </g>\n   <g id=\"patch_16\">\n    <path clip-path=\"url(#p0acaa62a1a)\" d=\"M 391.30625 333.36 \nL 410.039463 333.36 \nL 410.039463 38.336004 \nL 391.30625 38.336004 \nz\n\" style=\"fill:#1f77b4;opacity:0.4;\"/>\n   </g>\n   <g id=\"patch_17\">\n    <path clip-path=\"url(#p0acaa62a1a)\" d=\"M 410.039463 333.36 \nL 428.772675 333.36 \nL 428.772675 52.965293 \nL 410.039463 52.965293 \nz\n\" style=\"fill:#1f77b4;opacity:0.4;\"/>\n   </g>\n   <g id=\"patch_18\">\n    <path clip-path=\"url(#p0acaa62a1a)\" d=\"M 428.772675 333.36 \nL 447.505888 333.36 \nL 447.505888 37.848361 \nL 428.772675 37.848361 \nz\n\" style=\"fill:#1f77b4;opacity:0.4;\"/>\n   </g>\n   <g id=\"patch_19\">\n    <path clip-path=\"url(#p0acaa62a1a)\" d=\"M 447.505888 333.36 \nL 466.2391 333.36 \nL 466.2391 34.43486 \nL 447.505888 34.43486 \nz\n\" style=\"fill:#1f77b4;opacity:0.4;\"/>\n   </g>\n   <g id=\"patch_20\">\n    <path clip-path=\"url(#p0acaa62a1a)\" d=\"M 466.2391 333.36 \nL 484.972313 333.36 \nL 484.972313 25.657286 \nL 466.2391 25.657286 \nz\n\" style=\"fill:#1f77b4;opacity:0.4;\"/>\n   </g>\n   <g id=\"patch_21\">\n    <path clip-path=\"url(#p0acaa62a1a)\" d=\"M 484.972313 333.36 \nL 503.705526 333.36 \nL 503.705526 36.385432 \nL 484.972313 36.385432 \nz\n\" style=\"fill:#1f77b4;opacity:0.4;\"/>\n   </g>\n   <g id=\"patch_22\">\n    <path clip-path=\"url(#p0acaa62a1a)\" d=\"M 503.705526 333.36 \nL 522.438738 333.36 \nL 522.438738 30.046073 \nL 503.705526 30.046073 \nz\n\" style=\"fill:#1f77b4;opacity:0.4;\"/>\n   </g>\n   <g id=\"patch_23\">\n    <path clip-path=\"url(#p0acaa62a1a)\" d=\"M 522.438738 333.36 \nL 541.171951 333.36 \nL 541.171951 32.484288 \nL 522.438738 32.484288 \nz\n\" style=\"fill:#1f77b4;opacity:0.4;\"/>\n   </g>\n   <g id=\"patch_24\">\n    <path clip-path=\"url(#p0acaa62a1a)\" d=\"M 541.171951 333.36 \nL 559.905164 333.36 \nL 559.905164 36.873075 \nL 541.171951 36.873075 \nz\n\" style=\"fill:#1f77b4;opacity:0.4;\"/>\n   </g>\n   <g id=\"patch_25\">\n    <path clip-path=\"url(#p0acaa62a1a)\" d=\"M 559.905164 333.36 \nL 578.638376 333.36 \nL 578.638376 31.509002 \nL 559.905164 31.509002 \nz\n\" style=\"fill:#1f77b4;opacity:0.4;\"/>\n   </g>\n   <g id=\"patch_26\">\n    <path clip-path=\"url(#p0acaa62a1a)\" d=\"M 578.638376 333.36 \nL 597.371589 333.36 \nL 597.371589 35.410146 \nL 578.638376 35.410146 \nz\n\" style=\"fill:#1f77b4;opacity:0.4;\"/>\n   </g>\n   <g id=\"patch_27\">\n    <path clip-path=\"url(#p0acaa62a1a)\" d=\"M 597.371589 333.36 \nL 616.104801 333.36 \nL 616.104801 37.848361 \nL 597.371589 37.848361 \nz\n\" style=\"fill:#1f77b4;opacity:0.4;\"/>\n   </g>\n   <g id=\"patch_28\">\n    <path clip-path=\"url(#p0acaa62a1a)\" d=\"M 616.104801 333.36 \nL 634.838014 333.36 \nL 634.838014 62.230509 \nL 616.104801 62.230509 \nz\n\" style=\"fill:#1f77b4;opacity:0.4;\"/>\n   </g>\n   <g id=\"matplotlib.axis_1\">\n    <g id=\"xtick_1\">\n     <g id=\"line2d_1\">\n      <defs>\n       <path d=\"M 0 0 \nL 0 3.5 \n\" id=\"mb3f46293a8\" style=\"stroke:#000000;stroke-width:0.8;\"/>\n      </defs>\n      <g>\n       <use style=\"stroke:#000000;stroke-width:0.8;\" x=\"147.688626\" xlink:href=\"#mb3f46293a8\" y=\"333.36\"/>\n      </g>\n     </g>\n     <g id=\"text_1\">\n      <!-- 0 -->\n      <g transform=\"translate(144.507376 347.958438)scale(0.1 -0.1)\">\n       <defs>\n        <path d=\"M 31.78125 66.40625 \nQ 24.171875 66.40625 20.328125 58.90625 \nQ 16.5 51.421875 16.5 36.375 \nQ 16.5 21.390625 20.328125 13.890625 \nQ 24.171875 6.390625 31.78125 6.390625 \nQ 39.453125 6.390625 43.28125 13.890625 \nQ 47.125 21.390625 47.125 36.375 \nQ 47.125 51.421875 43.28125 58.90625 \nQ 39.453125 66.40625 31.78125 66.40625 \nz\nM 31.78125 74.21875 \nQ 44.046875 74.21875 50.515625 64.515625 \nQ 56.984375 54.828125 56.984375 36.375 \nQ 56.984375 17.96875 50.515625 8.265625 \nQ 44.046875 -1.421875 31.78125 -1.421875 \nQ 19.53125 -1.421875 13.0625 8.265625 \nQ 6.59375 17.96875 6.59375 36.375 \nQ 6.59375 54.828125 13.0625 64.515625 \nQ 19.53125 74.21875 31.78125 74.21875 \nz\n\" id=\"DejaVuSans-48\"/>\n       </defs>\n       <use xlink:href=\"#DejaVuSans-48\"/>\n      </g>\n     </g>\n    </g>\n    <g id=\"xtick_2\">\n     <g id=\"line2d_2\">\n      <g>\n       <use style=\"stroke:#000000;stroke-width:0.8;\" x=\"245.126745\" xlink:href=\"#mb3f46293a8\" y=\"333.36\"/>\n      </g>\n     </g>\n     <g id=\"text_2\">\n      <!-- 20 -->\n      <g transform=\"translate(238.764245 347.958438)scale(0.1 -0.1)\">\n       <defs>\n        <path d=\"M 19.1875 8.296875 \nL 53.609375 8.296875 \nL 53.609375 0 \nL 7.328125 0 \nL 7.328125 8.296875 \nQ 12.9375 14.109375 22.625 23.890625 \nQ 32.328125 33.6875 34.8125 36.53125 \nQ 39.546875 41.84375 41.421875 45.53125 \nQ 43.3125 49.21875 43.3125 52.78125 \nQ 43.3125 58.59375 39.234375 62.25 \nQ 35.15625 65.921875 28.609375 65.921875 \nQ 23.96875 65.921875 18.8125 64.3125 \nQ 13.671875 62.703125 7.8125 59.421875 \nL 7.8125 69.390625 \nQ 13.765625 71.78125 18.9375 73 \nQ 24.125 74.21875 28.421875 74.21875 \nQ 39.75 74.21875 46.484375 68.546875 \nQ 53.21875 62.890625 53.21875 53.421875 \nQ 53.21875 48.921875 51.53125 44.890625 \nQ 49.859375 40.875 45.40625 35.40625 \nQ 44.1875 33.984375 37.640625 27.21875 \nQ 31.109375 20.453125 19.1875 8.296875 \nz\n\" id=\"DejaVuSans-50\"/>\n       </defs>\n       <use xlink:href=\"#DejaVuSans-50\"/>\n       <use x=\"63.623047\" xlink:href=\"#DejaVuSans-48\"/>\n      </g>\n     </g>\n    </g>\n    <g id=\"xtick_3\">\n     <g id=\"line2d_3\">\n      <g>\n       <use style=\"stroke:#000000;stroke-width:0.8;\" x=\"342.564865\" xlink:href=\"#mb3f46293a8\" y=\"333.36\"/>\n      </g>\n     </g>\n     <g id=\"text_3\">\n      <!-- 40 -->\n      <g transform=\"translate(336.202365 347.958438)scale(0.1 -0.1)\">\n       <defs>\n        <path d=\"M 37.796875 64.3125 \nL 12.890625 25.390625 \nL 37.796875 25.390625 \nz\nM 35.203125 72.90625 \nL 47.609375 72.90625 \nL 47.609375 25.390625 \nL 58.015625 25.390625 \nL 58.015625 17.1875 \nL 47.609375 17.1875 \nL 47.609375 0 \nL 37.796875 0 \nL 37.796875 17.1875 \nL 4.890625 17.1875 \nL 4.890625 26.703125 \nz\n\" id=\"DejaVuSans-52\"/>\n       </defs>\n       <use xlink:href=\"#DejaVuSans-52\"/>\n       <use x=\"63.623047\" xlink:href=\"#DejaVuSans-48\"/>\n      </g>\n     </g>\n    </g>\n    <g id=\"xtick_4\">\n     <g id=\"line2d_4\">\n      <g>\n       <use style=\"stroke:#000000;stroke-width:0.8;\" x=\"440.002985\" xlink:href=\"#mb3f46293a8\" y=\"333.36\"/>\n      </g>\n     </g>\n     <g id=\"text_4\">\n      <!-- 60 -->\n      <g transform=\"translate(433.640485 347.958438)scale(0.1 -0.1)\">\n       <defs>\n        <path d=\"M 33.015625 40.375 \nQ 26.375 40.375 22.484375 35.828125 \nQ 18.609375 31.296875 18.609375 23.390625 \nQ 18.609375 15.53125 22.484375 10.953125 \nQ 26.375 6.390625 33.015625 6.390625 \nQ 39.65625 6.390625 43.53125 10.953125 \nQ 47.40625 15.53125 47.40625 23.390625 \nQ 47.40625 31.296875 43.53125 35.828125 \nQ 39.65625 40.375 33.015625 40.375 \nz\nM 52.59375 71.296875 \nL 52.59375 62.3125 \nQ 48.875 64.0625 45.09375 64.984375 \nQ 41.3125 65.921875 37.59375 65.921875 \nQ 27.828125 65.921875 22.671875 59.328125 \nQ 17.53125 52.734375 16.796875 39.40625 \nQ 19.671875 43.65625 24.015625 45.921875 \nQ 28.375 48.1875 33.59375 48.1875 \nQ 44.578125 48.1875 50.953125 41.515625 \nQ 57.328125 34.859375 57.328125 23.390625 \nQ 57.328125 12.15625 50.6875 5.359375 \nQ 44.046875 -1.421875 33.015625 -1.421875 \nQ 20.359375 -1.421875 13.671875 8.265625 \nQ 6.984375 17.96875 6.984375 36.375 \nQ 6.984375 53.65625 15.1875 63.9375 \nQ 23.390625 74.21875 37.203125 74.21875 \nQ 40.921875 74.21875 44.703125 73.484375 \nQ 48.484375 72.75 52.59375 71.296875 \nz\n\" id=\"DejaVuSans-54\"/>\n       </defs>\n       <use xlink:href=\"#DejaVuSans-54\"/>\n       <use x=\"63.623047\" xlink:href=\"#DejaVuSans-48\"/>\n      </g>\n     </g>\n    </g>\n    <g id=\"xtick_5\">\n     <g id=\"line2d_5\">\n      <g>\n       <use style=\"stroke:#000000;stroke-width:0.8;\" x=\"537.441104\" xlink:href=\"#mb3f46293a8\" y=\"333.36\"/>\n      </g>\n     </g>\n     <g id=\"text_5\">\n      <!-- 80 -->\n      <g transform=\"translate(531.078604 347.958438)scale(0.1 -0.1)\">\n       <defs>\n        <path d=\"M 31.78125 34.625 \nQ 24.75 34.625 20.71875 30.859375 \nQ 16.703125 27.09375 16.703125 20.515625 \nQ 16.703125 13.921875 20.71875 10.15625 \nQ 24.75 6.390625 31.78125 6.390625 \nQ 38.8125 6.390625 42.859375 10.171875 \nQ 46.921875 13.96875 46.921875 20.515625 \nQ 46.921875 27.09375 42.890625 30.859375 \nQ 38.875 34.625 31.78125 34.625 \nz\nM 21.921875 38.8125 \nQ 15.578125 40.375 12.03125 44.71875 \nQ 8.5 49.078125 8.5 55.328125 \nQ 8.5 64.0625 14.71875 69.140625 \nQ 20.953125 74.21875 31.78125 74.21875 \nQ 42.671875 74.21875 48.875 69.140625 \nQ 55.078125 64.0625 55.078125 55.328125 \nQ 55.078125 49.078125 51.53125 44.71875 \nQ 48 40.375 41.703125 38.8125 \nQ 48.828125 37.15625 52.796875 32.3125 \nQ 56.78125 27.484375 56.78125 20.515625 \nQ 56.78125 9.90625 50.3125 4.234375 \nQ 43.84375 -1.421875 31.78125 -1.421875 \nQ 19.734375 -1.421875 13.25 4.234375 \nQ 6.78125 9.90625 6.78125 20.515625 \nQ 6.78125 27.484375 10.78125 32.3125 \nQ 14.796875 37.15625 21.921875 38.8125 \nz\nM 18.3125 54.390625 \nQ 18.3125 48.734375 21.84375 45.5625 \nQ 25.390625 42.390625 31.78125 42.390625 \nQ 38.140625 42.390625 41.71875 45.5625 \nQ 45.3125 48.734375 45.3125 54.390625 \nQ 45.3125 60.0625 41.71875 63.234375 \nQ 38.140625 66.40625 31.78125 66.40625 \nQ 25.390625 66.40625 21.84375 63.234375 \nQ 18.3125 60.0625 18.3125 54.390625 \nz\n\" id=\"DejaVuSans-56\"/>\n       </defs>\n       <use xlink:href=\"#DejaVuSans-56\"/>\n       <use x=\"63.623047\" xlink:href=\"#DejaVuSans-48\"/>\n      </g>\n     </g>\n    </g>\n    <g id=\"xtick_6\">\n     <g id=\"line2d_6\">\n      <g>\n       <use style=\"stroke:#000000;stroke-width:0.8;\" x=\"634.879224\" xlink:href=\"#mb3f46293a8\" y=\"333.36\"/>\n      </g>\n     </g>\n     <g id=\"text_6\">\n      <!-- 100 -->\n      <g transform=\"translate(625.335474 347.958438)scale(0.1 -0.1)\">\n       <defs>\n        <path d=\"M 12.40625 8.296875 \nL 28.515625 8.296875 \nL 28.515625 63.921875 \nL 10.984375 60.40625 \nL 10.984375 69.390625 \nL 28.421875 72.90625 \nL 38.28125 72.90625 \nL 38.28125 8.296875 \nL 54.390625 8.296875 \nL 54.390625 0 \nL 12.40625 0 \nz\n\" id=\"DejaVuSans-49\"/>\n       </defs>\n       <use xlink:href=\"#DejaVuSans-49\"/>\n       <use x=\"63.623047\" xlink:href=\"#DejaVuSans-48\"/>\n       <use x=\"127.246094\" xlink:href=\"#DejaVuSans-48\"/>\n      </g>\n     </g>\n    </g>\n   </g>\n   <g id=\"matplotlib.axis_2\">\n    <g id=\"ytick_1\">\n     <g id=\"line2d_7\">\n      <defs>\n       <path d=\"M 0 0 \nL -3.5 0 \n\" id=\"m5ef7ab3d67\" style=\"stroke:#000000;stroke-width:0.8;\"/>\n      </defs>\n      <g>\n       <use style=\"stroke:#000000;stroke-width:0.8;\" x=\"56.50625\" xlink:href=\"#m5ef7ab3d67\" y=\"333.36\"/>\n      </g>\n     </g>\n     <g id=\"text_7\">\n      <!-- 0.000 -->\n      <g transform=\"translate(20.878125 337.159219)scale(0.1 -0.1)\">\n       <defs>\n        <path d=\"M 10.6875 12.40625 \nL 21 12.40625 \nL 21 0 \nL 10.6875 0 \nz\n\" id=\"DejaVuSans-46\"/>\n       </defs>\n       <use xlink:href=\"#DejaVuSans-48\"/>\n       <use x=\"63.623047\" xlink:href=\"#DejaVuSans-46\"/>\n       <use x=\"95.410156\" xlink:href=\"#DejaVuSans-48\"/>\n       <use x=\"159.033203\" xlink:href=\"#DejaVuSans-48\"/>\n       <use x=\"222.65625\" xlink:href=\"#DejaVuSans-48\"/>\n      </g>\n     </g>\n    </g>\n    <g id=\"ytick_2\">\n     <g id=\"line2d_8\">\n      <g>\n       <use style=\"stroke:#000000;stroke-width:0.8;\" x=\"56.50625\" xlink:href=\"#m5ef7ab3d67\" y=\"274.130583\"/>\n      </g>\n     </g>\n     <g id=\"text_8\">\n      <!-- 0.002 -->\n      <g transform=\"translate(20.878125 277.929801)scale(0.1 -0.1)\">\n       <use xlink:href=\"#DejaVuSans-48\"/>\n       <use x=\"63.623047\" xlink:href=\"#DejaVuSans-46\"/>\n       <use x=\"95.410156\" xlink:href=\"#DejaVuSans-48\"/>\n       <use x=\"159.033203\" xlink:href=\"#DejaVuSans-48\"/>\n       <use x=\"222.65625\" xlink:href=\"#DejaVuSans-50\"/>\n      </g>\n     </g>\n    </g>\n    <g id=\"ytick_3\">\n     <g id=\"line2d_9\">\n      <g>\n       <use style=\"stroke:#000000;stroke-width:0.8;\" x=\"56.50625\" xlink:href=\"#m5ef7ab3d67\" y=\"214.901165\"/>\n      </g>\n     </g>\n     <g id=\"text_9\">\n      <!-- 0.004 -->\n      <g transform=\"translate(20.878125 218.700384)scale(0.1 -0.1)\">\n       <use xlink:href=\"#DejaVuSans-48\"/>\n       <use x=\"63.623047\" xlink:href=\"#DejaVuSans-46\"/>\n       <use x=\"95.410156\" xlink:href=\"#DejaVuSans-48\"/>\n       <use x=\"159.033203\" xlink:href=\"#DejaVuSans-48\"/>\n       <use x=\"222.65625\" xlink:href=\"#DejaVuSans-52\"/>\n      </g>\n     </g>\n    </g>\n    <g id=\"ytick_4\">\n     <g id=\"line2d_10\">\n      <g>\n       <use style=\"stroke:#000000;stroke-width:0.8;\" x=\"56.50625\" xlink:href=\"#m5ef7ab3d67\" y=\"155.671748\"/>\n      </g>\n     </g>\n     <g id=\"text_10\">\n      <!-- 0.006 -->\n      <g transform=\"translate(20.878125 159.470967)scale(0.1 -0.1)\">\n       <use xlink:href=\"#DejaVuSans-48\"/>\n       <use x=\"63.623047\" xlink:href=\"#DejaVuSans-46\"/>\n       <use x=\"95.410156\" xlink:href=\"#DejaVuSans-48\"/>\n       <use x=\"159.033203\" xlink:href=\"#DejaVuSans-48\"/>\n       <use x=\"222.65625\" xlink:href=\"#DejaVuSans-54\"/>\n      </g>\n     </g>\n    </g>\n    <g id=\"ytick_5\">\n     <g id=\"line2d_11\">\n      <g>\n       <use style=\"stroke:#000000;stroke-width:0.8;\" x=\"56.50625\" xlink:href=\"#m5ef7ab3d67\" y=\"96.442331\"/>\n      </g>\n     </g>\n     <g id=\"text_11\">\n      <!-- 0.008 -->\n      <g transform=\"translate(20.878125 100.24155)scale(0.1 -0.1)\">\n       <use xlink:href=\"#DejaVuSans-48\"/>\n       <use x=\"63.623047\" xlink:href=\"#DejaVuSans-46\"/>\n       <use x=\"95.410156\" xlink:href=\"#DejaVuSans-48\"/>\n       <use x=\"159.033203\" xlink:href=\"#DejaVuSans-48\"/>\n       <use x=\"222.65625\" xlink:href=\"#DejaVuSans-56\"/>\n      </g>\n     </g>\n    </g>\n    <g id=\"ytick_6\">\n     <g id=\"line2d_12\">\n      <g>\n       <use style=\"stroke:#000000;stroke-width:0.8;\" x=\"56.50625\" xlink:href=\"#m5ef7ab3d67\" y=\"37.212914\"/>\n      </g>\n     </g>\n     <g id=\"text_12\">\n      <!-- 0.010 -->\n      <g transform=\"translate(20.878125 41.012132)scale(0.1 -0.1)\">\n       <use xlink:href=\"#DejaVuSans-48\"/>\n       <use x=\"63.623047\" xlink:href=\"#DejaVuSans-46\"/>\n       <use x=\"95.410156\" xlink:href=\"#DejaVuSans-48\"/>\n       <use x=\"159.033203\" xlink:href=\"#DejaVuSans-49\"/>\n       <use x=\"222.65625\" xlink:href=\"#DejaVuSans-48\"/>\n      </g>\n     </g>\n    </g>\n    <g id=\"text_13\">\n     <!-- Density -->\n     <g transform=\"translate(14.798437 189.288594)rotate(-90)scale(0.1 -0.1)\">\n      <defs>\n       <path d=\"M 19.671875 64.796875 \nL 19.671875 8.109375 \nL 31.59375 8.109375 \nQ 46.6875 8.109375 53.6875 14.9375 \nQ 60.6875 21.78125 60.6875 36.53125 \nQ 60.6875 51.171875 53.6875 57.984375 \nQ 46.6875 64.796875 31.59375 64.796875 \nz\nM 9.8125 72.90625 \nL 30.078125 72.90625 \nQ 51.265625 72.90625 61.171875 64.09375 \nQ 71.09375 55.28125 71.09375 36.53125 \nQ 71.09375 17.671875 61.125 8.828125 \nQ 51.171875 0 30.078125 0 \nL 9.8125 0 \nz\n\" id=\"DejaVuSans-68\"/>\n       <path d=\"M 56.203125 29.59375 \nL 56.203125 25.203125 \nL 14.890625 25.203125 \nQ 15.484375 15.921875 20.484375 11.0625 \nQ 25.484375 6.203125 34.421875 6.203125 \nQ 39.59375 6.203125 44.453125 7.46875 \nQ 49.3125 8.734375 54.109375 11.28125 \nL 54.109375 2.78125 \nQ 49.265625 0.734375 44.1875 -0.34375 \nQ 39.109375 -1.421875 33.890625 -1.421875 \nQ 20.796875 -1.421875 13.15625 6.1875 \nQ 5.515625 13.8125 5.515625 26.8125 \nQ 5.515625 40.234375 12.765625 48.109375 \nQ 20.015625 56 32.328125 56 \nQ 43.359375 56 49.78125 48.890625 \nQ 56.203125 41.796875 56.203125 29.59375 \nz\nM 47.21875 32.234375 \nQ 47.125 39.59375 43.09375 43.984375 \nQ 39.0625 48.390625 32.421875 48.390625 \nQ 24.90625 48.390625 20.390625 44.140625 \nQ 15.875 39.890625 15.1875 32.171875 \nz\n\" id=\"DejaVuSans-101\"/>\n       <path d=\"M 54.890625 33.015625 \nL 54.890625 0 \nL 45.90625 0 \nL 45.90625 32.71875 \nQ 45.90625 40.484375 42.875 44.328125 \nQ 39.84375 48.1875 33.796875 48.1875 \nQ 26.515625 48.1875 22.3125 43.546875 \nQ 18.109375 38.921875 18.109375 30.90625 \nL 18.109375 0 \nL 9.078125 0 \nL 9.078125 54.6875 \nL 18.109375 54.6875 \nL 18.109375 46.1875 \nQ 21.34375 51.125 25.703125 53.5625 \nQ 30.078125 56 35.796875 56 \nQ 45.21875 56 50.046875 50.171875 \nQ 54.890625 44.34375 54.890625 33.015625 \nz\n\" id=\"DejaVuSans-110\"/>\n       <path d=\"M 44.28125 53.078125 \nL 44.28125 44.578125 \nQ 40.484375 46.53125 36.375 47.5 \nQ 32.28125 48.484375 27.875 48.484375 \nQ 21.1875 48.484375 17.84375 46.4375 \nQ 14.5 44.390625 14.5 40.28125 \nQ 14.5 37.15625 16.890625 35.375 \nQ 19.28125 33.59375 26.515625 31.984375 \nL 29.59375 31.296875 \nQ 39.15625 29.25 43.1875 25.515625 \nQ 47.21875 21.78125 47.21875 15.09375 \nQ 47.21875 7.46875 41.1875 3.015625 \nQ 35.15625 -1.421875 24.609375 -1.421875 \nQ 20.21875 -1.421875 15.453125 -0.5625 \nQ 10.6875 0.296875 5.421875 2 \nL 5.421875 11.28125 \nQ 10.40625 8.6875 15.234375 7.390625 \nQ 20.0625 6.109375 24.8125 6.109375 \nQ 31.15625 6.109375 34.5625 8.28125 \nQ 37.984375 10.453125 37.984375 14.40625 \nQ 37.984375 18.0625 35.515625 20.015625 \nQ 33.0625 21.96875 24.703125 23.78125 \nL 21.578125 24.515625 \nQ 13.234375 26.265625 9.515625 29.90625 \nQ 5.8125 33.546875 5.8125 39.890625 \nQ 5.8125 47.609375 11.28125 51.796875 \nQ 16.75 56 26.8125 56 \nQ 31.78125 56 36.171875 55.265625 \nQ 40.578125 54.546875 44.28125 53.078125 \nz\n\" id=\"DejaVuSans-115\"/>\n       <path d=\"M 9.421875 54.6875 \nL 18.40625 54.6875 \nL 18.40625 0 \nL 9.421875 0 \nz\nM 9.421875 75.984375 \nL 18.40625 75.984375 \nL 18.40625 64.59375 \nL 9.421875 64.59375 \nz\n\" id=\"DejaVuSans-105\"/>\n       <path d=\"M 18.3125 70.21875 \nL 18.3125 54.6875 \nL 36.8125 54.6875 \nL 36.8125 47.703125 \nL 18.3125 47.703125 \nL 18.3125 18.015625 \nQ 18.3125 11.328125 20.140625 9.421875 \nQ 21.96875 7.515625 27.59375 7.515625 \nL 36.8125 7.515625 \nL 36.8125 0 \nL 27.59375 0 \nQ 17.1875 0 13.234375 3.875 \nQ 9.28125 7.765625 9.28125 18.015625 \nL 9.28125 47.703125 \nL 2.6875 47.703125 \nL 2.6875 54.6875 \nL 9.28125 54.6875 \nL 9.28125 70.21875 \nz\n\" id=\"DejaVuSans-116\"/>\n       <path d=\"M 32.171875 -5.078125 \nQ 28.375 -14.84375 24.75 -17.8125 \nQ 21.140625 -20.796875 15.09375 -20.796875 \nL 7.90625 -20.796875 \nL 7.90625 -13.28125 \nL 13.1875 -13.28125 \nQ 16.890625 -13.28125 18.9375 -11.515625 \nQ 21 -9.765625 23.484375 -3.21875 \nL 25.09375 0.875 \nL 2.984375 54.6875 \nL 12.5 54.6875 \nL 29.59375 11.921875 \nL 46.6875 54.6875 \nL 56.203125 54.6875 \nz\n\" id=\"DejaVuSans-121\"/>\n      </defs>\n      <use xlink:href=\"#DejaVuSans-68\"/>\n      <use x=\"77.001953\" xlink:href=\"#DejaVuSans-101\"/>\n      <use x=\"138.525391\" xlink:href=\"#DejaVuSans-110\"/>\n      <use x=\"201.904297\" xlink:href=\"#DejaVuSans-115\"/>\n      <use x=\"254.003906\" xlink:href=\"#DejaVuSans-105\"/>\n      <use x=\"281.787109\" xlink:href=\"#DejaVuSans-116\"/>\n      <use x=\"320.996094\" xlink:href=\"#DejaVuSans-121\"/>\n     </g>\n    </g>\n   </g>\n   <g id=\"line2d_13\">\n    <path clip-path=\"url(#p0acaa62a1a)\" d=\"M 86.942614 332.979189 \nL 90.001545 332.740824 \nL 93.060476 332.374123 \nL 96.119407 331.822587 \nL 99.178338 331.011571 \nL 102.237269 329.845624 \nL 105.2962 328.206826 \nL 108.355131 325.954822 \nL 111.414062 322.929226 \nL 114.472993 318.955021 \nL 117.531924 313.851314 \nL 120.590855 307.443426 \nL 123.649786 299.577795 \nL 126.708717 290.138589 \nL 129.767648 279.064388 \nL 132.826579 266.362938 \nL 135.88551 252.121825 \nL 138.944441 236.513117 \nL 142.003372 219.790622 \nL 148.121234 184.356673 \nL 154.239096 148.907224 \nL 157.298027 132.171123 \nL 160.356958 116.552704 \nL 163.415889 102.312243 \nL 166.47482 89.626839 \nL 169.533751 78.586381 \nL 172.592682 69.19758 \nL 175.651613 61.394823 \nL 178.710544 55.055864 \nL 181.769475 50.01997 \nL 184.828406 46.106155 \nL 187.887337 43.129472 \nL 190.946268 40.91394 \nL 194.005199 39.301394 \nL 197.06413 38.156235 \nL 200.123061 37.366615 \nL 203.181992 36.842965 \nL 206.240923 36.514915 \nL 212.358785 36.238004 \nL 221.535578 36.250722 \nL 233.771303 36.283833 \nL 249.065958 36.263686 \nL 255.18382 36.494735 \nL 261.301682 36.944936 \nL 276.596337 38.38946 \nL 282.714199 38.579228 \nL 285.77313 38.495674 \nL 288.832061 38.278366 \nL 291.890992 37.92759 \nL 298.008854 36.873446 \nL 307.185647 34.786951 \nL 313.303509 33.447773 \nL 316.36244 32.896549 \nL 319.421371 32.463719 \nL 322.480302 32.172871 \nL 325.539233 32.041454 \nL 328.598164 32.079761 \nL 331.657095 32.289979 \nL 334.716026 32.665384 \nL 337.774957 33.189856 \nL 343.892819 34.575558 \nL 353.069612 36.899887 \nL 356.128543 37.563718 \nL 359.187474 38.108987 \nL 362.246405 38.512962 \nL 365.305336 38.767524 \nL 368.364267 38.880665 \nL 374.482129 38.791396 \nL 383.658922 38.538193 \nL 386.717853 38.610835 \nL 389.776784 38.817426 \nL 392.835716 39.167583 \nL 398.953578 40.242266 \nL 408.130371 42.166807 \nL 411.189302 42.668184 \nL 414.248233 43.010685 \nL 417.307164 43.157029 \nL 420.366095 43.086174 \nL 423.425026 42.79488 \nL 426.483957 42.297291 \nL 429.542888 41.622744 \nL 435.66075 39.913643 \nL 444.837543 37.179347 \nL 450.955405 35.713536 \nL 454.014336 35.153836 \nL 460.132198 34.382926 \nL 466.25006 33.977583 \nL 481.544715 33.304388 \nL 487.662577 32.757256 \nL 496.83937 31.605006 \nL 502.957232 30.857206 \nL 509.075094 30.396497 \nL 512.134025 30.33782 \nL 515.192956 30.414167 \nL 518.251887 30.628885 \nL 521.310818 30.974577 \nL 527.42868 31.978302 \nL 539.664404 34.29797 \nL 542.723335 34.731813 \nL 545.782266 35.05256 \nL 548.841197 35.249246 \nL 554.95906 35.286382 \nL 564.135853 34.810283 \nL 570.253715 34.620637 \nL 573.312646 34.720595 \nL 576.371577 35.027404 \nL 579.430508 35.603183 \nL 582.489439 36.515634 \nL 585.54837 37.84069 \nL 588.607301 39.665365 \nL 591.666232 42.090122 \nL 594.725163 45.229917 \nL 597.784094 49.213109 \nL 600.843025 54.17756 \nL 603.901956 60.263546 \nL 606.960887 67.603513 \nL 610.019818 76.309237 \nL 613.078749 86.457496 \nL 616.13768 98.075805 \nL 619.196611 111.130108 \nL 622.255542 125.516317 \nL 625.314473 141.057372 \nL 631.432335 174.559845 \nL 637.550197 209.067335 \nL 640.609128 225.790548 \nL 643.668059 241.702197 \nL 646.72699 256.51403 \nL 649.785921 270.002113 \nL 652.844852 282.016394 \nL 655.903783 292.48325 \nL 658.962714 301.401423 \nL 662.021645 308.832492 \nL 665.080576 314.887582 \nL 668.139507 319.712219 \nL 671.198438 323.471174 \nL 674.257369 326.334781 \nL 677.3163 328.467779 \nL 680.375231 330.021193 \nL 683.434162 331.127292 \nL 686.493093 331.89731 \nL 689.552024 332.421395 \nL 692.610955 332.770123 \nL 695.669886 332.99698 \nL 695.669886 332.99698 \n\" style=\"fill:none;stroke:#1f77b4;stroke-linecap:square;stroke-width:1.5;\"/>\n   </g>\n   <g id=\"patch_29\">\n    <path d=\"M 56.50625 333.36 \nL 56.50625 7.2 \n\" style=\"fill:none;stroke:#000000;stroke-linecap:square;stroke-linejoin:miter;stroke-width:0.8;\"/>\n   </g>\n   <g id=\"patch_30\">\n    <path d=\"M 726.10625 333.36 \nL 726.10625 7.2 \n\" style=\"fill:none;stroke:#000000;stroke-linecap:square;stroke-linejoin:miter;stroke-width:0.8;\"/>\n   </g>\n   <g id=\"patch_31\">\n    <path d=\"M 56.50625 333.36 \nL 726.10625 333.36 \n\" style=\"fill:none;stroke:#000000;stroke-linecap:square;stroke-linejoin:miter;stroke-width:0.8;\"/>\n   </g>\n   <g id=\"patch_32\">\n    <path d=\"M 56.50625 7.2 \nL 726.10625 7.2 \n\" style=\"fill:none;stroke:#000000;stroke-linecap:square;stroke-linejoin:miter;stroke-width:0.8;\"/>\n   </g>\n  </g>\n </g>\n <defs>\n  <clipPath id=\"p0acaa62a1a\">\n   <rect height=\"326.16\" width=\"669.6\" x=\"56.50625\" y=\"7.2\"/>\n  </clipPath>\n </defs>\n</svg>\n",
      "image/png": "[encoded data removed]"
     },
     "metadata": {
      "needs_background": "light"
     }
    }
   ],
   "source": [
    "plt.figure(figsize=(12,6))\n",
    "sns.distplot(sorte)\n",
    "plt.show()"
   ]
  },
  {
   "cell_type": "code",
   "execution_count": 50,
   "metadata": {},
   "outputs": [
    {
     "output_type": "execute_result",
     "data": {
      "text/plain": [
       "     proprio_esforco      sorte\n",
       "0          77.654601  28.172628\n",
       "1          73.422860  52.795729\n",
       "2          71.346595  49.164896\n",
       "3          59.424170  94.254343\n",
       "4          73.923563  25.036178\n",
       "..               ...        ...\n",
       "117        66.996326  11.971479\n",
       "118        80.141764  51.553530\n",
       "119        63.220610  81.847739\n",
       "120        77.479915  82.232363\n",
       "121        64.755685  43.876627\n",
       "\n",
       "[122 rows x 2 columns]"
      ],
      "text/html": "<div>\n<style scoped>\n    .dataframe tbody tr th:only-of-type {\n        vertical-align: middle;\n    }\n\n    .dataframe tbody tr th {\n        vertical-align: top;\n    }\n\n    .dataframe thead th {\n        text-align: right;\n    }\n</style>\n<table border=\"1\" class=\"dataframe\">\n  <thead>\n    <tr style=\"text-align: right;\">\n      <th></th>\n      <th>proprio_esforco</th>\n      <th>sorte</th>\n    </tr>\n  </thead>\n  <tbody>\n    <tr>\n      <th>0</th>\n      <td>77.654601</td>\n      <td>28.172628</td>\n    </tr>\n    <tr>\n      <th>1</th>\n      <td>73.422860</td>\n      <td>52.795729</td>\n    </tr>\n    <tr>\n      <th>2</th>\n      <td>71.346595</td>\n      <td>49.164896</td>\n    </tr>\n    <tr>\n      <th>3</th>\n      <td>59.424170</td>\n      <td>94.254343</td>\n    </tr>\n    <tr>\n      <th>4</th>\n      <td>73.923563</td>\n      <td>25.036178</td>\n    </tr>\n    <tr>\n      <th>...</th>\n      <td>...</td>\n      <td>...</td>\n    </tr>\n    <tr>\n      <th>117</th>\n      <td>66.996326</td>\n      <td>11.971479</td>\n    </tr>\n    <tr>\n      <th>118</th>\n      <td>80.141764</td>\n      <td>51.553530</td>\n    </tr>\n    <tr>\n      <th>119</th>\n      <td>63.220610</td>\n      <td>81.847739</td>\n    </tr>\n    <tr>\n      <th>120</th>\n      <td>77.479915</td>\n      <td>82.232363</td>\n    </tr>\n    <tr>\n      <th>121</th>\n      <td>64.755685</td>\n      <td>43.876627</td>\n    </tr>\n  </tbody>\n</table>\n<p>122 rows × 2 columns</p>\n</div>"
     },
     "metadata": {},
     "execution_count": 50
    }
   ],
   "source": [
    "dados_gerais = np.array([proprio_esforco, sorte]).T\n",
    "candidatos_gerais = pd.DataFrame(dados_gerais, columns=['proprio_esforco', 'sorte'])\n",
    "canditados_gerais = candidatos_gerais.sort_values(\"proprio_esforco\", ascending = False)\n",
    "candidatos_gerais.head(vagas)"
   ]
  },
  {
   "cell_type": "code",
   "execution_count": null,
   "metadata": {},
   "outputs": [],
   "source": []
  }
 ]
}