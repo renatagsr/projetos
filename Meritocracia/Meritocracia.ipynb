{
 "metadata": {
  "language_info": {
   "codemirror_mode": {
    "name": "ipython",
    "version": 3
   },
   "file_extension": ".py",
   "mimetype": "text/x-python",
   "name": "python",
   "nbconvert_exporter": "python",
   "pygments_lexer": "ipython3",
   "version": "3.8.5-final"
  },
  "orig_nbformat": 2,
  "kernelspec": {
   "name": "python3",
   "display_name": "Python 3",
   "language": "python"
  }
 },
 "nbformat": 4,
 "nbformat_minor": 2,
 "cells": [
  {
   "source": [
    "# Merito e Sorte\n"
   ],
   "cell_type": "markdown",
   "metadata": {}
  },
  {
   "cell_type": "code",
   "execution_count": 2,
   "metadata": {},
   "outputs": [],
   "source": [
    "import tabula\n",
    "import pandas as pd"
   ]
  },
  {
   "cell_type": "code",
   "execution_count": 7,
   "metadata": {},
   "outputs": [
    {
     "output_type": "execute_result",
     "data": {
      "text/plain": [
       "2"
      ]
     },
     "metadata": {},
     "execution_count": 7
    }
   ],
   "source": [
    "dados = tabula.read_pdf(\"/home/renata/Desktop/Cursos/projetos/Meritocracia/inscritos_2020.pdf\",\n",
    "                        pages = \"all\")\n",
    "len(dados)"
   ]
  },
  {
   "cell_type": "code",
   "execution_count": 9,
   "metadata": {},
   "outputs": [
    {
     "output_type": "execute_result",
     "data": {
      "text/plain": [
       "   CODIGO                                               NOME  VAGAS  \\\n",
       "0     100  Administração, Ciências Contábeis, Economia, E...    187   \n",
       "1     101                         Administração - Piracicaba     40   \n",
       "2     105                                  Arquitetura - FAU    105   \n",
       "3     110                           Arquitetura - São Carlos     31   \n",
       "4     115                                      Artes Cênicas     30   \n",
       "\n",
       "   INSCRITOS    C/V  VAGAS AC  INSCRITOS AC C/V AC  VAGAS EP  INSCRITOS EP  \\\n",
       "0       1562   8,35        93          1165  12,53        59           312   \n",
       "1        283   7,08        22           196   8,91        11            70   \n",
       "2       2724  25,94        67          1924  28,72        27           599   \n",
       "3        622  20,06        15           408   27,2        10           178   \n",
       "4        667  22,23        16           411  25,69         8           185   \n",
       "\n",
       "  C/V EP  VAGAS PPI  INSCRITOS PPI C/V PPI  \n",
       "0   5,29         35             85    2,43  \n",
       "1   6,36          7             17    2,43  \n",
       "2  22,19         11            201   18,27  \n",
       "3   17,8          6             36       6  \n",
       "4  23,13          6             71   11,83  "
      ],
      "text/html": "<div>\n<style scoped>\n    .dataframe tbody tr th:only-of-type {\n        vertical-align: middle;\n    }\n\n    .dataframe tbody tr th {\n        vertical-align: top;\n    }\n\n    .dataframe thead th {\n        text-align: right;\n    }\n</style>\n<table border=\"1\" class=\"dataframe\">\n  <thead>\n    <tr style=\"text-align: right;\">\n      <th></th>\n      <th>CODIGO</th>\n      <th>NOME</th>\n      <th>VAGAS</th>\n      <th>INSCRITOS</th>\n      <th>C/V</th>\n      <th>VAGAS AC</th>\n      <th>INSCRITOS AC</th>\n      <th>C/V AC</th>\n      <th>VAGAS EP</th>\n      <th>INSCRITOS EP</th>\n      <th>C/V EP</th>\n      <th>VAGAS PPI</th>\n      <th>INSCRITOS PPI</th>\n      <th>C/V PPI</th>\n    </tr>\n  </thead>\n  <tbody>\n    <tr>\n      <th>0</th>\n      <td>100</td>\n      <td>Administração, Ciências Contábeis, Economia, E...</td>\n      <td>187</td>\n      <td>1562</td>\n      <td>8,35</td>\n      <td>93</td>\n      <td>1165</td>\n      <td>12,53</td>\n      <td>59</td>\n      <td>312</td>\n      <td>5,29</td>\n      <td>35</td>\n      <td>85</td>\n      <td>2,43</td>\n    </tr>\n    <tr>\n      <th>1</th>\n      <td>101</td>\n      <td>Administração - Piracicaba</td>\n      <td>40</td>\n      <td>283</td>\n      <td>7,08</td>\n      <td>22</td>\n      <td>196</td>\n      <td>8,91</td>\n      <td>11</td>\n      <td>70</td>\n      <td>6,36</td>\n      <td>7</td>\n      <td>17</td>\n      <td>2,43</td>\n    </tr>\n    <tr>\n      <th>2</th>\n      <td>105</td>\n      <td>Arquitetura - FAU</td>\n      <td>105</td>\n      <td>2724</td>\n      <td>25,94</td>\n      <td>67</td>\n      <td>1924</td>\n      <td>28,72</td>\n      <td>27</td>\n      <td>599</td>\n      <td>22,19</td>\n      <td>11</td>\n      <td>201</td>\n      <td>18,27</td>\n    </tr>\n    <tr>\n      <th>3</th>\n      <td>110</td>\n      <td>Arquitetura - São Carlos</td>\n      <td>31</td>\n      <td>622</td>\n      <td>20,06</td>\n      <td>15</td>\n      <td>408</td>\n      <td>27,2</td>\n      <td>10</td>\n      <td>178</td>\n      <td>17,8</td>\n      <td>6</td>\n      <td>36</td>\n      <td>6</td>\n    </tr>\n    <tr>\n      <th>4</th>\n      <td>115</td>\n      <td>Artes Cênicas</td>\n      <td>30</td>\n      <td>667</td>\n      <td>22,23</td>\n      <td>16</td>\n      <td>411</td>\n      <td>25,69</td>\n      <td>8</td>\n      <td>185</td>\n      <td>23,13</td>\n      <td>6</td>\n      <td>71</td>\n      <td>11,83</td>\n    </tr>\n  </tbody>\n</table>\n</div>"
     },
     "metadata": {},
     "execution_count": 9
    }
   ],
   "source": [
    "dados[0].head()"
   ]
  },
  {
   "cell_type": "code",
   "execution_count": 11,
   "metadata": {},
   "outputs": [
    {
     "output_type": "execute_result",
     "data": {
      "text/plain": [
       "     500                             Medicina 122 15794  129,46  67 11031  \\\n",
       "0  501.0                     Medicina - Bauru  42  5217  124,21  26  3952   \n",
       "1  505.0            Medicina - Ribeirão Preto  77  6856   89,04  55  5183   \n",
       "2  510.0                 Medicina Veterinária  56  2403   42,91  38  1607   \n",
       "3  515.0  Medicina Veterinária - Pirassununga  42   906   21,57  24   624   \n",
       "4  520.0                             Nutrição  56   854   15,25  40   600   \n",
       "\n",
       "  164,64  33  3484  105,58  22  1279  58,14  \n",
       "0    152   8   887  110,88   8   378  47,25  \n",
       "1  94,24  18  1418   78,78   4   255  63,75  \n",
       "2  42,29  11   615   55,91   7   181  25,86  \n",
       "3     26  10   224    22,4   8    58   7,25  \n",
       "4     15  12   203   16,92   4    51  12,75  "
      ],
      "text/html": "<div>\n<style scoped>\n    .dataframe tbody tr th:only-of-type {\n        vertical-align: middle;\n    }\n\n    .dataframe tbody tr th {\n        vertical-align: top;\n    }\n\n    .dataframe thead th {\n        text-align: right;\n    }\n</style>\n<table border=\"1\" class=\"dataframe\">\n  <thead>\n    <tr style=\"text-align: right;\">\n      <th></th>\n      <th>500</th>\n      <th>Medicina</th>\n      <th>122</th>\n      <th>15794</th>\n      <th>129,46</th>\n      <th>67</th>\n      <th>11031</th>\n      <th>164,64</th>\n      <th>33</th>\n      <th>3484</th>\n      <th>105,58</th>\n      <th>22</th>\n      <th>1279</th>\n      <th>58,14</th>\n    </tr>\n  </thead>\n  <tbody>\n    <tr>\n      <th>0</th>\n      <td>501.0</td>\n      <td>Medicina - Bauru</td>\n      <td>42</td>\n      <td>5217</td>\n      <td>124,21</td>\n      <td>26</td>\n      <td>3952</td>\n      <td>152</td>\n      <td>8</td>\n      <td>887</td>\n      <td>110,88</td>\n      <td>8</td>\n      <td>378</td>\n      <td>47,25</td>\n    </tr>\n    <tr>\n      <th>1</th>\n      <td>505.0</td>\n      <td>Medicina - Ribeirão Preto</td>\n      <td>77</td>\n      <td>6856</td>\n      <td>89,04</td>\n      <td>55</td>\n      <td>5183</td>\n      <td>94,24</td>\n      <td>18</td>\n      <td>1418</td>\n      <td>78,78</td>\n      <td>4</td>\n      <td>255</td>\n      <td>63,75</td>\n    </tr>\n    <tr>\n      <th>2</th>\n      <td>510.0</td>\n      <td>Medicina Veterinária</td>\n      <td>56</td>\n      <td>2403</td>\n      <td>42,91</td>\n      <td>38</td>\n      <td>1607</td>\n      <td>42,29</td>\n      <td>11</td>\n      <td>615</td>\n      <td>55,91</td>\n      <td>7</td>\n      <td>181</td>\n      <td>25,86</td>\n    </tr>\n    <tr>\n      <th>3</th>\n      <td>515.0</td>\n      <td>Medicina Veterinária - Pirassununga</td>\n      <td>42</td>\n      <td>906</td>\n      <td>21,57</td>\n      <td>24</td>\n      <td>624</td>\n      <td>26</td>\n      <td>10</td>\n      <td>224</td>\n      <td>22,4</td>\n      <td>8</td>\n      <td>58</td>\n      <td>7,25</td>\n    </tr>\n    <tr>\n      <th>4</th>\n      <td>520.0</td>\n      <td>Nutrição</td>\n      <td>56</td>\n      <td>854</td>\n      <td>15,25</td>\n      <td>40</td>\n      <td>600</td>\n      <td>15</td>\n      <td>12</td>\n      <td>203</td>\n      <td>16,92</td>\n      <td>4</td>\n      <td>51</td>\n      <td>12,75</td>\n    </tr>\n  </tbody>\n</table>\n</div>"
     },
     "metadata": {},
     "execution_count": 11
    }
   ],
   "source": [
    "dados[1].head()"
   ]
  },
  {
   "source": [
    "Os dados são duas páginas de uma mesma tabela, quando faz a leitura da segunda página (conforme feito acima) o tabula entende que a primeira linha é o cabeçalho e isso precisa ser modificado, pois caso não seja irá perder dados. O mesmo acontece, nesse caso, para as últimas linhas, já que elas possuem os totais."
   ],
   "cell_type": "markdown",
   "metadata": {}
  },
  {
   "cell_type": "code",
   "execution_count": 13,
   "metadata": {},
   "outputs": [
    {
     "output_type": "execute_result",
     "data": {
      "text/plain": [
       "      500                                           Medicina         122  \\\n",
       "47  870.0  Química (Bacharelado e Bacharelado com Atribui...  e Qua4li2d   \n",
       "48  875.0                Sistemas de Informação - São Carlos          35   \n",
       "49  999.0                             Treinamento E (Exatas)         300   \n",
       "50    NaN                                Total das Carreiras        9217   \n",
       "51    NaN                 Total das Carreiras sem Treineiros        8317   \n",
       "\n",
       "             15794         129,46        67  11031 164,64    33   3484 105,58  \\\n",
       "47  de e Ma1te7r3i  is) -4 S,1ã2o  Carlos23    112   4,87    11     52   4,73   \n",
       "48             342           9,77        19    217  11,42    10    104   10,4   \n",
       "49            3530          11,77       180   3177  17,65    75    308   4,11   \n",
       "50          129148          14,01      5964  94888  15,91  2082  26368  12,66   \n",
       "51          117019          14,07      5424  83841  15,46  1857  25450   13,7   \n",
       "\n",
       "      22  1279 58,14  \n",
       "47     8     9  1,13  \n",
       "48     6    21   3,5  \n",
       "49    45    45     1  \n",
       "50  1171  7892  6,74  \n",
       "51  1036  7728  7,46  "
      ],
      "text/html": "<div>\n<style scoped>\n    .dataframe tbody tr th:only-of-type {\n        vertical-align: middle;\n    }\n\n    .dataframe tbody tr th {\n        vertical-align: top;\n    }\n\n    .dataframe thead th {\n        text-align: right;\n    }\n</style>\n<table border=\"1\" class=\"dataframe\">\n  <thead>\n    <tr style=\"text-align: right;\">\n      <th></th>\n      <th>500</th>\n      <th>Medicina</th>\n      <th>122</th>\n      <th>15794</th>\n      <th>129,46</th>\n      <th>67</th>\n      <th>11031</th>\n      <th>164,64</th>\n      <th>33</th>\n      <th>3484</th>\n      <th>105,58</th>\n      <th>22</th>\n      <th>1279</th>\n      <th>58,14</th>\n    </tr>\n  </thead>\n  <tbody>\n    <tr>\n      <th>47</th>\n      <td>870.0</td>\n      <td>Química (Bacharelado e Bacharelado com Atribui...</td>\n      <td>e Qua4li2d</td>\n      <td>de e Ma1te7r3i</td>\n      <td>is) -4 S,1ã2o</td>\n      <td>Carlos23</td>\n      <td>112</td>\n      <td>4,87</td>\n      <td>11</td>\n      <td>52</td>\n      <td>4,73</td>\n      <td>8</td>\n      <td>9</td>\n      <td>1,13</td>\n    </tr>\n    <tr>\n      <th>48</th>\n      <td>875.0</td>\n      <td>Sistemas de Informação - São Carlos</td>\n      <td>35</td>\n      <td>342</td>\n      <td>9,77</td>\n      <td>19</td>\n      <td>217</td>\n      <td>11,42</td>\n      <td>10</td>\n      <td>104</td>\n      <td>10,4</td>\n      <td>6</td>\n      <td>21</td>\n      <td>3,5</td>\n    </tr>\n    <tr>\n      <th>49</th>\n      <td>999.0</td>\n      <td>Treinamento E (Exatas)</td>\n      <td>300</td>\n      <td>3530</td>\n      <td>11,77</td>\n      <td>180</td>\n      <td>3177</td>\n      <td>17,65</td>\n      <td>75</td>\n      <td>308</td>\n      <td>4,11</td>\n      <td>45</td>\n      <td>45</td>\n      <td>1</td>\n    </tr>\n    <tr>\n      <th>50</th>\n      <td>NaN</td>\n      <td>Total das Carreiras</td>\n      <td>9217</td>\n      <td>129148</td>\n      <td>14,01</td>\n      <td>5964</td>\n      <td>94888</td>\n      <td>15,91</td>\n      <td>2082</td>\n      <td>26368</td>\n      <td>12,66</td>\n      <td>1171</td>\n      <td>7892</td>\n      <td>6,74</td>\n    </tr>\n    <tr>\n      <th>51</th>\n      <td>NaN</td>\n      <td>Total das Carreiras sem Treineiros</td>\n      <td>8317</td>\n      <td>117019</td>\n      <td>14,07</td>\n      <td>5424</td>\n      <td>83841</td>\n      <td>15,46</td>\n      <td>1857</td>\n      <td>25450</td>\n      <td>13,7</td>\n      <td>1036</td>\n      <td>7728</td>\n      <td>7,46</td>\n    </tr>\n  </tbody>\n</table>\n</div>"
     },
     "metadata": {},
     "execution_count": 13
    }
   ],
   "source": [
    "#Ver últimas linhas\n",
    "dados[1].tail()"
   ]
  },
  {
   "cell_type": "code",
   "execution_count": 14,
   "metadata": {},
   "outputs": [
    {
     "output_type": "execute_result",
     "data": {
      "text/plain": [
       "      500                                           Medicina         122  \\\n",
       "45  855.0               Química - Bacharelado e Licenciatura          84   \n",
       "46  865.0            Química - Licenciatura - Ribeirão Preto          28   \n",
       "47  870.0  Química (Bacharelado e Bacharelado com Atribui...  e Qua4li2d   \n",
       "48  875.0                Sistemas de Informação - São Carlos          35   \n",
       "49  999.0                             Treinamento E (Exatas)         300   \n",
       "\n",
       "             15794         129,46        67 11031 164,64  33  3484 105,58  22  \\\n",
       "45             752           8,95        50   462   9,24  20   220     11  14   \n",
       "46              61           2,18        15    46   3,07   8    10   1,25   5   \n",
       "47  de e Ma1te7r3i  is) -4 S,1ã2o  Carlos23   112   4,87  11    52   4,73   8   \n",
       "48             342           9,77        19   217  11,42  10   104   10,4   6   \n",
       "49            3530          11,77       180  3177  17,65  75   308   4,11  45   \n",
       "\n",
       "    1279 58,14  \n",
       "45    70     5  \n",
       "46     5     1  \n",
       "47     9  1,13  \n",
       "48    21   3,5  \n",
       "49    45     1  "
      ],
      "text/html": "<div>\n<style scoped>\n    .dataframe tbody tr th:only-of-type {\n        vertical-align: middle;\n    }\n\n    .dataframe tbody tr th {\n        vertical-align: top;\n    }\n\n    .dataframe thead th {\n        text-align: right;\n    }\n</style>\n<table border=\"1\" class=\"dataframe\">\n  <thead>\n    <tr style=\"text-align: right;\">\n      <th></th>\n      <th>500</th>\n      <th>Medicina</th>\n      <th>122</th>\n      <th>15794</th>\n      <th>129,46</th>\n      <th>67</th>\n      <th>11031</th>\n      <th>164,64</th>\n      <th>33</th>\n      <th>3484</th>\n      <th>105,58</th>\n      <th>22</th>\n      <th>1279</th>\n      <th>58,14</th>\n    </tr>\n  </thead>\n  <tbody>\n    <tr>\n      <th>45</th>\n      <td>855.0</td>\n      <td>Química - Bacharelado e Licenciatura</td>\n      <td>84</td>\n      <td>752</td>\n      <td>8,95</td>\n      <td>50</td>\n      <td>462</td>\n      <td>9,24</td>\n      <td>20</td>\n      <td>220</td>\n      <td>11</td>\n      <td>14</td>\n      <td>70</td>\n      <td>5</td>\n    </tr>\n    <tr>\n      <th>46</th>\n      <td>865.0</td>\n      <td>Química - Licenciatura - Ribeirão Preto</td>\n      <td>28</td>\n      <td>61</td>\n      <td>2,18</td>\n      <td>15</td>\n      <td>46</td>\n      <td>3,07</td>\n      <td>8</td>\n      <td>10</td>\n      <td>1,25</td>\n      <td>5</td>\n      <td>5</td>\n      <td>1</td>\n    </tr>\n    <tr>\n      <th>47</th>\n      <td>870.0</td>\n      <td>Química (Bacharelado e Bacharelado com Atribui...</td>\n      <td>e Qua4li2d</td>\n      <td>de e Ma1te7r3i</td>\n      <td>is) -4 S,1ã2o</td>\n      <td>Carlos23</td>\n      <td>112</td>\n      <td>4,87</td>\n      <td>11</td>\n      <td>52</td>\n      <td>4,73</td>\n      <td>8</td>\n      <td>9</td>\n      <td>1,13</td>\n    </tr>\n    <tr>\n      <th>48</th>\n      <td>875.0</td>\n      <td>Sistemas de Informação - São Carlos</td>\n      <td>35</td>\n      <td>342</td>\n      <td>9,77</td>\n      <td>19</td>\n      <td>217</td>\n      <td>11,42</td>\n      <td>10</td>\n      <td>104</td>\n      <td>10,4</td>\n      <td>6</td>\n      <td>21</td>\n      <td>3,5</td>\n    </tr>\n    <tr>\n      <th>49</th>\n      <td>999.0</td>\n      <td>Treinamento E (Exatas)</td>\n      <td>300</td>\n      <td>3530</td>\n      <td>11,77</td>\n      <td>180</td>\n      <td>3177</td>\n      <td>17,65</td>\n      <td>75</td>\n      <td>308</td>\n      <td>4,11</td>\n      <td>45</td>\n      <td>45</td>\n      <td>1</td>\n    </tr>\n  </tbody>\n</table>\n</div>"
     },
     "metadata": {},
     "execution_count": 14
    }
   ],
   "source": [
    "#Retirando as duas últimas linhas\n",
    "dados[1] = dados[1].iloc[:-2]\n",
    "dados[1].tail()"
   ]
  },
  {
   "cell_type": "code",
   "execution_count": 15,
   "metadata": {},
   "outputs": [
    {
     "output_type": "execute_result",
     "data": {
      "text/plain": [
       "   CODIGO                                 NOME VAGAS INSCRITOS     C/V  \\\n",
       "0   501.0                     Medicina - Bauru    42      5217  124,21   \n",
       "1   505.0            Medicina - Ribeirão Preto    77      6856   89,04   \n",
       "2   510.0                 Medicina Veterinária    56      2403   42,91   \n",
       "3   515.0  Medicina Veterinária - Pirassununga    42       906   21,57   \n",
       "4   520.0                             Nutrição    56       854   15,25   \n",
       "\n",
       "  VAGAS AC INSCRITOS AC C/V AC  VAGAS EP  INSCRITOS EP  C/V EP  VAGAS PPI  \\\n",
       "0       26         3952    152         8           887  110,88          8   \n",
       "1       55         5183  94,24        18          1418   78,78          4   \n",
       "2       38         1607  42,29        11           615   55,91          7   \n",
       "3       24          624     26        10           224    22,4          8   \n",
       "4       40          600     15        12           203   16,92          4   \n",
       "\n",
       "   INSCRITOS PPI C/V PPI  \n",
       "0            378   47,25  \n",
       "1            255   63,75  \n",
       "2            181   25,86  \n",
       "3             58    7,25  \n",
       "4             51   12,75  "
      ],
      "text/html": "<div>\n<style scoped>\n    .dataframe tbody tr th:only-of-type {\n        vertical-align: middle;\n    }\n\n    .dataframe tbody tr th {\n        vertical-align: top;\n    }\n\n    .dataframe thead th {\n        text-align: right;\n    }\n</style>\n<table border=\"1\" class=\"dataframe\">\n  <thead>\n    <tr style=\"text-align: right;\">\n      <th></th>\n      <th>CODIGO</th>\n      <th>NOME</th>\n      <th>VAGAS</th>\n      <th>INSCRITOS</th>\n      <th>C/V</th>\n      <th>VAGAS AC</th>\n      <th>INSCRITOS AC</th>\n      <th>C/V AC</th>\n      <th>VAGAS EP</th>\n      <th>INSCRITOS EP</th>\n      <th>C/V EP</th>\n      <th>VAGAS PPI</th>\n      <th>INSCRITOS PPI</th>\n      <th>C/V PPI</th>\n    </tr>\n  </thead>\n  <tbody>\n    <tr>\n      <th>0</th>\n      <td>501.0</td>\n      <td>Medicina - Bauru</td>\n      <td>42</td>\n      <td>5217</td>\n      <td>124,21</td>\n      <td>26</td>\n      <td>3952</td>\n      <td>152</td>\n      <td>8</td>\n      <td>887</td>\n      <td>110,88</td>\n      <td>8</td>\n      <td>378</td>\n      <td>47,25</td>\n    </tr>\n    <tr>\n      <th>1</th>\n      <td>505.0</td>\n      <td>Medicina - Ribeirão Preto</td>\n      <td>77</td>\n      <td>6856</td>\n      <td>89,04</td>\n      <td>55</td>\n      <td>5183</td>\n      <td>94,24</td>\n      <td>18</td>\n      <td>1418</td>\n      <td>78,78</td>\n      <td>4</td>\n      <td>255</td>\n      <td>63,75</td>\n    </tr>\n    <tr>\n      <th>2</th>\n      <td>510.0</td>\n      <td>Medicina Veterinária</td>\n      <td>56</td>\n      <td>2403</td>\n      <td>42,91</td>\n      <td>38</td>\n      <td>1607</td>\n      <td>42,29</td>\n      <td>11</td>\n      <td>615</td>\n      <td>55,91</td>\n      <td>7</td>\n      <td>181</td>\n      <td>25,86</td>\n    </tr>\n    <tr>\n      <th>3</th>\n      <td>515.0</td>\n      <td>Medicina Veterinária - Pirassununga</td>\n      <td>42</td>\n      <td>906</td>\n      <td>21,57</td>\n      <td>24</td>\n      <td>624</td>\n      <td>26</td>\n      <td>10</td>\n      <td>224</td>\n      <td>22,4</td>\n      <td>8</td>\n      <td>58</td>\n      <td>7,25</td>\n    </tr>\n    <tr>\n      <th>4</th>\n      <td>520.0</td>\n      <td>Nutrição</td>\n      <td>56</td>\n      <td>854</td>\n      <td>15,25</td>\n      <td>40</td>\n      <td>600</td>\n      <td>15</td>\n      <td>12</td>\n      <td>203</td>\n      <td>16,92</td>\n      <td>4</td>\n      <td>51</td>\n      <td>12,75</td>\n    </tr>\n  </tbody>\n</table>\n</div>"
     },
     "metadata": {},
     "execution_count": 15
    }
   ],
   "source": [
    "#Colocando o cabeçalho correto\n",
    "dados_columns = dados[0].columns\n",
    "linha_extra = dados[1].columns\n",
    "dados[1].columns = dados_columns\n",
    "dados[1].head()"
   ]
  },
  {
   "source": [
    "Percebe-se que a leitura dos dados da segunda página agora contém o cabeçalho correto, porém foi perdido uma linha, a linha do apêndice. Tem que colocar ela também, para que não haja nenhuma perda de informação."
   ],
   "cell_type": "markdown",
   "metadata": {}
  },
  {
   "cell_type": "code",
   "execution_count": 16,
   "metadata": {},
   "outputs": [
    {
     "output_type": "execute_result",
     "data": {
      "text/plain": [
       "  CODIGO      NOME VAGAS INSCRITOS     C/V VAGAS AC INSCRITOS AC  C/V AC  \\\n",
       "0    500  Medicina   122     15794  129,46       67        11031  164,64   \n",
       "\n",
       "  VAGAS EP INSCRITOS EP  C/V EP VAGAS PPI INSCRITOS PPI C/V PPI  \n",
       "0       33         3484  105,58        22          1279   58,14  "
      ],
      "text/html": "<div>\n<style scoped>\n    .dataframe tbody tr th:only-of-type {\n        vertical-align: middle;\n    }\n\n    .dataframe tbody tr th {\n        vertical-align: top;\n    }\n\n    .dataframe thead th {\n        text-align: right;\n    }\n</style>\n<table border=\"1\" class=\"dataframe\">\n  <thead>\n    <tr style=\"text-align: right;\">\n      <th></th>\n      <th>CODIGO</th>\n      <th>NOME</th>\n      <th>VAGAS</th>\n      <th>INSCRITOS</th>\n      <th>C/V</th>\n      <th>VAGAS AC</th>\n      <th>INSCRITOS AC</th>\n      <th>C/V AC</th>\n      <th>VAGAS EP</th>\n      <th>INSCRITOS EP</th>\n      <th>C/V EP</th>\n      <th>VAGAS PPI</th>\n      <th>INSCRITOS PPI</th>\n      <th>C/V PPI</th>\n    </tr>\n  </thead>\n  <tbody>\n    <tr>\n      <th>0</th>\n      <td>500</td>\n      <td>Medicina</td>\n      <td>122</td>\n      <td>15794</td>\n      <td>129,46</td>\n      <td>67</td>\n      <td>11031</td>\n      <td>164,64</td>\n      <td>33</td>\n      <td>3484</td>\n      <td>105,58</td>\n      <td>22</td>\n      <td>1279</td>\n      <td>58,14</td>\n    </tr>\n  </tbody>\n</table>\n</div>"
     },
     "metadata": {},
     "execution_count": 16
    }
   ],
   "source": [
    "dados.append(pd.DataFrame([linha_extra], columns=dados_columns))\n",
    "dados[2].head()"
   ]
  },
  {
   "source": [
    "Agora foi adicionado uma \"terceira página\" para resolver o problema da retirada da linha de medicina."
   ],
   "cell_type": "markdown",
   "metadata": {}
  },
  {
   "cell_type": "code",
   "execution_count": 17,
   "metadata": {},
   "outputs": [
    {
     "output_type": "execute_result",
     "data": {
      "text/plain": [
       "  CODIGO                                               NOME VAGAS INSCRITOS  \\\n",
       "0    100  Administração, Ciências Contábeis, Economia, E...   187      1562   \n",
       "1    101                         Administração - Piracicaba    40       283   \n",
       "2    105                                  Arquitetura - FAU   105      2724   \n",
       "3    110                           Arquitetura - São Carlos    31       622   \n",
       "4    115                                      Artes Cênicas    30       667   \n",
       "\n",
       "     C/V VAGAS AC INSCRITOS AC C/V AC VAGAS EP INSCRITOS EP C/V EP VAGAS PPI  \\\n",
       "0   8,35       93         1165  12,53       59          312   5,29        35   \n",
       "1   7,08       22          196   8,91       11           70   6,36         7   \n",
       "2  25,94       67         1924  28,72       27          599  22,19        11   \n",
       "3  20,06       15          408   27,2       10          178   17,8         6   \n",
       "4  22,23       16          411  25,69        8          185  23,13         6   \n",
       "\n",
       "  INSCRITOS PPI C/V PPI  \n",
       "0            85    2,43  \n",
       "1            17    2,43  \n",
       "2           201   18,27  \n",
       "3            36       6  \n",
       "4            71   11,83  "
      ],
      "text/html": "<div>\n<style scoped>\n    .dataframe tbody tr th:only-of-type {\n        vertical-align: middle;\n    }\n\n    .dataframe tbody tr th {\n        vertical-align: top;\n    }\n\n    .dataframe thead th {\n        text-align: right;\n    }\n</style>\n<table border=\"1\" class=\"dataframe\">\n  <thead>\n    <tr style=\"text-align: right;\">\n      <th></th>\n      <th>CODIGO</th>\n      <th>NOME</th>\n      <th>VAGAS</th>\n      <th>INSCRITOS</th>\n      <th>C/V</th>\n      <th>VAGAS AC</th>\n      <th>INSCRITOS AC</th>\n      <th>C/V AC</th>\n      <th>VAGAS EP</th>\n      <th>INSCRITOS EP</th>\n      <th>C/V EP</th>\n      <th>VAGAS PPI</th>\n      <th>INSCRITOS PPI</th>\n      <th>C/V PPI</th>\n    </tr>\n  </thead>\n  <tbody>\n    <tr>\n      <th>0</th>\n      <td>100</td>\n      <td>Administração, Ciências Contábeis, Economia, E...</td>\n      <td>187</td>\n      <td>1562</td>\n      <td>8,35</td>\n      <td>93</td>\n      <td>1165</td>\n      <td>12,53</td>\n      <td>59</td>\n      <td>312</td>\n      <td>5,29</td>\n      <td>35</td>\n      <td>85</td>\n      <td>2,43</td>\n    </tr>\n    <tr>\n      <th>1</th>\n      <td>101</td>\n      <td>Administração - Piracicaba</td>\n      <td>40</td>\n      <td>283</td>\n      <td>7,08</td>\n      <td>22</td>\n      <td>196</td>\n      <td>8,91</td>\n      <td>11</td>\n      <td>70</td>\n      <td>6,36</td>\n      <td>7</td>\n      <td>17</td>\n      <td>2,43</td>\n    </tr>\n    <tr>\n      <th>2</th>\n      <td>105</td>\n      <td>Arquitetura - FAU</td>\n      <td>105</td>\n      <td>2724</td>\n      <td>25,94</td>\n      <td>67</td>\n      <td>1924</td>\n      <td>28,72</td>\n      <td>27</td>\n      <td>599</td>\n      <td>22,19</td>\n      <td>11</td>\n      <td>201</td>\n      <td>18,27</td>\n    </tr>\n    <tr>\n      <th>3</th>\n      <td>110</td>\n      <td>Arquitetura - São Carlos</td>\n      <td>31</td>\n      <td>622</td>\n      <td>20,06</td>\n      <td>15</td>\n      <td>408</td>\n      <td>27,2</td>\n      <td>10</td>\n      <td>178</td>\n      <td>17,8</td>\n      <td>6</td>\n      <td>36</td>\n      <td>6</td>\n    </tr>\n    <tr>\n      <th>4</th>\n      <td>115</td>\n      <td>Artes Cênicas</td>\n      <td>30</td>\n      <td>667</td>\n      <td>22,23</td>\n      <td>16</td>\n      <td>411</td>\n      <td>25,69</td>\n      <td>8</td>\n      <td>185</td>\n      <td>23,13</td>\n      <td>6</td>\n      <td>71</td>\n      <td>11,83</td>\n    </tr>\n  </tbody>\n</table>\n</div>"
     },
     "metadata": {},
     "execution_count": 17
    }
   ],
   "source": [
    "dados = pd.concat(dados)\n",
    "dados.head()"
   ]
  },
  {
   "source": [
    "Utilizando a função \"concat\" da biblioteca pandas todas as partes das tabelas do arquivo em PDF foi colocado em apenas uma tabela."
   ],
   "cell_type": "markdown",
   "metadata": {}
  },
  {
   "cell_type": "code",
   "execution_count": 18,
   "metadata": {},
   "outputs": [
    {
     "output_type": "execute_result",
     "data": {
      "text/plain": [
       "109"
      ]
     },
     "metadata": {},
     "execution_count": 18
    }
   ],
   "source": [
    "len(dados)"
   ]
  },
  {
   "source": [
    "Antes o tamanho do conjunto \"dados\" era mostrado apenas o tamanho 2, que era o número de páginas. Após adicionar todas as partes da tabela em uma só o tamanho mostrado é de quantos cursos possui, que nesse caso são 109 cursos. "
   ],
   "cell_type": "markdown",
   "metadata": {}
  },
  {
   "cell_type": "code",
   "execution_count": 19,
   "metadata": {},
   "outputs": [
    {
     "output_type": "execute_result",
     "data": {
      "text/plain": [
       "                                                NOME VAGAS INSCRITOS    C/V\n",
       "0  Administração, Ciências Contábeis, Economia, E...   187      1562   8,35\n",
       "1                         Administração - Piracicaba    40       283   7,08\n",
       "2                                  Arquitetura - FAU   105      2724  25,94\n",
       "3                           Arquitetura - São Carlos    31       622  20,06\n",
       "4                                      Artes Cênicas    30       667  22,23"
      ],
      "text/html": "<div>\n<style scoped>\n    .dataframe tbody tr th:only-of-type {\n        vertical-align: middle;\n    }\n\n    .dataframe tbody tr th {\n        vertical-align: top;\n    }\n\n    .dataframe thead th {\n        text-align: right;\n    }\n</style>\n<table border=\"1\" class=\"dataframe\">\n  <thead>\n    <tr style=\"text-align: right;\">\n      <th></th>\n      <th>NOME</th>\n      <th>VAGAS</th>\n      <th>INSCRITOS</th>\n      <th>C/V</th>\n    </tr>\n  </thead>\n  <tbody>\n    <tr>\n      <th>0</th>\n      <td>Administração, Ciências Contábeis, Economia, E...</td>\n      <td>187</td>\n      <td>1562</td>\n      <td>8,35</td>\n    </tr>\n    <tr>\n      <th>1</th>\n      <td>Administração - Piracicaba</td>\n      <td>40</td>\n      <td>283</td>\n      <td>7,08</td>\n    </tr>\n    <tr>\n      <th>2</th>\n      <td>Arquitetura - FAU</td>\n      <td>105</td>\n      <td>2724</td>\n      <td>25,94</td>\n    </tr>\n    <tr>\n      <th>3</th>\n      <td>Arquitetura - São Carlos</td>\n      <td>31</td>\n      <td>622</td>\n      <td>20,06</td>\n    </tr>\n    <tr>\n      <th>4</th>\n      <td>Artes Cênicas</td>\n      <td>30</td>\n      <td>667</td>\n      <td>22,23</td>\n    </tr>\n  </tbody>\n</table>\n</div>"
     },
     "metadata": {},
     "execution_count": 19
    }
   ],
   "source": [
    "dados = dados[[\"NOME\", \"VAGAS\", \"INSCRITOS\", \"C/V\"]]\n",
    "dados.head()"
   ]
  },
  {
   "source": [
    "Extrai apenas as colunas que são necessárias para avaliar se o fator sorte faz diferença ou não no vestibular da USP.\n",
    "\n",
    "A colunca \"C/V\" é a coluna de candidatos por vaga."
   ],
   "cell_type": "markdown",
   "metadata": {}
  },
  {
   "cell_type": "code",
   "execution_count": 20,
   "metadata": {},
   "outputs": [
    {
     "output_type": "execute_result",
     "data": {
      "text/plain": [
       "                              NOME  VAGAS  INSCRITOS   C/V\n",
       "count                          109    109        109   109\n",
       "unique                         109     60        106   104\n",
       "top     Treinamento B (Biológicas)     28        730  5,27\n",
       "freq                             1      9          2     2"
      ],
      "text/html": "<div>\n<style scoped>\n    .dataframe tbody tr th:only-of-type {\n        vertical-align: middle;\n    }\n\n    .dataframe tbody tr th {\n        vertical-align: top;\n    }\n\n    .dataframe thead th {\n        text-align: right;\n    }\n</style>\n<table border=\"1\" class=\"dataframe\">\n  <thead>\n    <tr style=\"text-align: right;\">\n      <th></th>\n      <th>NOME</th>\n      <th>VAGAS</th>\n      <th>INSCRITOS</th>\n      <th>C/V</th>\n    </tr>\n  </thead>\n  <tbody>\n    <tr>\n      <th>count</th>\n      <td>109</td>\n      <td>109</td>\n      <td>109</td>\n      <td>109</td>\n    </tr>\n    <tr>\n      <th>unique</th>\n      <td>109</td>\n      <td>60</td>\n      <td>106</td>\n      <td>104</td>\n    </tr>\n    <tr>\n      <th>top</th>\n      <td>Treinamento B (Biológicas)</td>\n      <td>28</td>\n      <td>730</td>\n      <td>5,27</td>\n    </tr>\n    <tr>\n      <th>freq</th>\n      <td>1</td>\n      <td>9</td>\n      <td>2</td>\n      <td>2</td>\n    </tr>\n  </tbody>\n</table>\n</div>"
     },
     "metadata": {},
     "execution_count": 20
    }
   ],
   "source": [
    "dados.describe()"
   ]
  },
  {
   "cell_type": "code",
   "execution_count": 21,
   "metadata": {},
   "outputs": [
    {
     "output_type": "stream",
     "name": "stdout",
     "text": [
      "<class 'pandas.core.frame.DataFrame'>\nInt64Index: 109 entries, 0 to 0\nData columns (total 4 columns):\n #   Column     Non-Null Count  Dtype \n---  ------     --------------  ----- \n 0   NOME       109 non-null    object\n 1   VAGAS      109 non-null    object\n 2   INSCRITOS  109 non-null    object\n 3   C/V        109 non-null    object\ndtypes: object(4)\nmemory usage: 6.3+ KB\n"
     ]
    }
   ],
   "source": [
    "dados.info()"
   ]
  },
  {
   "source": [
    "Ao analisar a saída das duas funções utilizadas percebe-se que tem algo errado porque as colunas vagas, inscritos e candidatos/vaga deveria ser numérica e está aparecendo como se ela fosse uma coluna de textos. \n",
    "\n",
    "Ao perceber essa estranheza e voltar nos dados percebe-se que alguma coluna teve erro ao fazer a leitura, os dados foram muito para frente em determinada linha."
   ],
   "cell_type": "markdown",
   "metadata": {}
  },
  {
   "cell_type": "code",
   "execution_count": 22,
   "metadata": {},
   "outputs": [
    {
     "output_type": "execute_result",
     "data": {
      "text/plain": [
       "                                                 NOME       VAGAS  \\\n",
       "46            Química - Licenciatura - Ribeirão Preto          28   \n",
       "47  Química (Bacharelado e Bacharelado com Atribui...  e Qua4li2d   \n",
       "48                Sistemas de Informação - São Carlos          35   \n",
       "49                             Treinamento E (Exatas)         300   \n",
       "0                                            Medicina         122   \n",
       "\n",
       "         INSCRITOS            C/V  \n",
       "46              61           2,18  \n",
       "47  de e Ma1te7r3i  is) -4 S,1ã2o  \n",
       "48             342           9,77  \n",
       "49            3530          11,77  \n",
       "0            15794         129,46  "
      ],
      "text/html": "<div>\n<style scoped>\n    .dataframe tbody tr th:only-of-type {\n        vertical-align: middle;\n    }\n\n    .dataframe tbody tr th {\n        vertical-align: top;\n    }\n\n    .dataframe thead th {\n        text-align: right;\n    }\n</style>\n<table border=\"1\" class=\"dataframe\">\n  <thead>\n    <tr style=\"text-align: right;\">\n      <th></th>\n      <th>NOME</th>\n      <th>VAGAS</th>\n      <th>INSCRITOS</th>\n      <th>C/V</th>\n    </tr>\n  </thead>\n  <tbody>\n    <tr>\n      <th>46</th>\n      <td>Química - Licenciatura - Ribeirão Preto</td>\n      <td>28</td>\n      <td>61</td>\n      <td>2,18</td>\n    </tr>\n    <tr>\n      <th>47</th>\n      <td>Química (Bacharelado e Bacharelado com Atribui...</td>\n      <td>e Qua4li2d</td>\n      <td>de e Ma1te7r3i</td>\n      <td>is) -4 S,1ã2o</td>\n    </tr>\n    <tr>\n      <th>48</th>\n      <td>Sistemas de Informação - São Carlos</td>\n      <td>35</td>\n      <td>342</td>\n      <td>9,77</td>\n    </tr>\n    <tr>\n      <th>49</th>\n      <td>Treinamento E (Exatas)</td>\n      <td>300</td>\n      <td>3530</td>\n      <td>11,77</td>\n    </tr>\n    <tr>\n      <th>0</th>\n      <td>Medicina</td>\n      <td>122</td>\n      <td>15794</td>\n      <td>129,46</td>\n    </tr>\n  </tbody>\n</table>\n</div>"
     },
     "metadata": {},
     "execution_count": 22
    }
   ],
   "source": [
    "dados.tail()"
   ]
  },
  {
   "source": [
    "A linha 47 está fazendo com que os dados sejam lidos como texto, já que houve erro. Como o interesse não é ler linha por linha, ela será retirada."
   ],
   "cell_type": "markdown",
   "metadata": {}
  },
  {
   "cell_type": "code",
   "execution_count": 24,
   "metadata": {},
   "outputs": [],
   "source": [
    "dados = dados.drop(47)"
   ]
  },
  {
   "cell_type": "code",
   "execution_count": 25,
   "metadata": {},
   "outputs": [
    {
     "output_type": "execute_result",
     "data": {
      "text/plain": [
       "                              NOME  VAGAS INSCRITOS   C/V\n",
       "count                          107    107       107   107\n",
       "unique                         107     58       104   102\n",
       "top     Treinamento B (Biológicas)     28       163  5,27\n",
       "freq                             1      9         2     2"
      ],
      "text/html": "<div>\n<style scoped>\n    .dataframe tbody tr th:only-of-type {\n        vertical-align: middle;\n    }\n\n    .dataframe tbody tr th {\n        vertical-align: top;\n    }\n\n    .dataframe thead th {\n        text-align: right;\n    }\n</style>\n<table border=\"1\" class=\"dataframe\">\n  <thead>\n    <tr style=\"text-align: right;\">\n      <th></th>\n      <th>NOME</th>\n      <th>VAGAS</th>\n      <th>INSCRITOS</th>\n      <th>C/V</th>\n    </tr>\n  </thead>\n  <tbody>\n    <tr>\n      <th>count</th>\n      <td>107</td>\n      <td>107</td>\n      <td>107</td>\n      <td>107</td>\n    </tr>\n    <tr>\n      <th>unique</th>\n      <td>107</td>\n      <td>58</td>\n      <td>104</td>\n      <td>102</td>\n    </tr>\n    <tr>\n      <th>top</th>\n      <td>Treinamento B (Biológicas)</td>\n      <td>28</td>\n      <td>163</td>\n      <td>5,27</td>\n    </tr>\n    <tr>\n      <th>freq</th>\n      <td>1</td>\n      <td>9</td>\n      <td>2</td>\n      <td>2</td>\n    </tr>\n  </tbody>\n</table>\n</div>"
     },
     "metadata": {},
     "execution_count": 25
    }
   ],
   "source": [
    "dados.describe()"
   ]
  },
  {
   "source": [
    "Percebe-se que ainda não está lendo como se fosse número, então tem que fazer a conversão deles da dados numéricos."
   ],
   "cell_type": "markdown",
   "metadata": {}
  },
  {
   "cell_type": "code",
   "execution_count": 27,
   "metadata": {},
   "outputs": [
    {
     "output_type": "error",
     "ename": "ValueError",
     "evalue": "Unable to parse string \"nológica3,5 B2i\" at position 101",
     "traceback": [
      "\u001b[0;31m---------------------------------------------------------------------------\u001b[0m",
      "\u001b[0;31mValueError\u001b[0m                                Traceback (most recent call last)",
      "\u001b[0;32mpandas/_libs/lib.pyx\u001b[0m in \u001b[0;36mpandas._libs.lib.maybe_convert_numeric\u001b[0;34m()\u001b[0m\n",
      "\u001b[0;31mValueError\u001b[0m: Unable to parse string \"nológica3,5 B2i\"",
      "\nDuring handling of the above exception, another exception occurred:\n",
      "\u001b[0;31mValueError\u001b[0m                                Traceback (most recent call last)",
      "\u001b[0;32m<ipython-input-27-bfe3058159ec>\u001b[0m in \u001b[0;36m<module>\u001b[0;34m\u001b[0m\n\u001b[0;32m----> 1\u001b[0;31m \u001b[0mpd\u001b[0m\u001b[0;34m.\u001b[0m\u001b[0mto_numeric\u001b[0m\u001b[0;34m(\u001b[0m\u001b[0mdados\u001b[0m\u001b[0;34m[\u001b[0m\u001b[0;34m'INSCRITOS'\u001b[0m\u001b[0;34m]\u001b[0m\u001b[0;34m)\u001b[0m\u001b[0;34m\u001b[0m\u001b[0;34m\u001b[0m\u001b[0m\n\u001b[0m",
      "\u001b[0;32m~/.local/lib/python3.8/site-packages/pandas/core/tools/numeric.py\u001b[0m in \u001b[0;36mto_numeric\u001b[0;34m(arg, errors, downcast)\u001b[0m\n\u001b[1;32m    152\u001b[0m         \u001b[0mcoerce_numeric\u001b[0m \u001b[0;34m=\u001b[0m \u001b[0merrors\u001b[0m \u001b[0;32mnot\u001b[0m \u001b[0;32min\u001b[0m \u001b[0;34m(\u001b[0m\u001b[0;34m\"ignore\"\u001b[0m\u001b[0;34m,\u001b[0m \u001b[0;34m\"raise\"\u001b[0m\u001b[0;34m)\u001b[0m\u001b[0;34m\u001b[0m\u001b[0;34m\u001b[0m\u001b[0m\n\u001b[1;32m    153\u001b[0m         \u001b[0;32mtry\u001b[0m\u001b[0;34m:\u001b[0m\u001b[0;34m\u001b[0m\u001b[0;34m\u001b[0m\u001b[0m\n\u001b[0;32m--> 154\u001b[0;31m             values = lib.maybe_convert_numeric(\n\u001b[0m\u001b[1;32m    155\u001b[0m                 \u001b[0mvalues\u001b[0m\u001b[0;34m,\u001b[0m \u001b[0mset\u001b[0m\u001b[0;34m(\u001b[0m\u001b[0;34m)\u001b[0m\u001b[0;34m,\u001b[0m \u001b[0mcoerce_numeric\u001b[0m\u001b[0;34m=\u001b[0m\u001b[0mcoerce_numeric\u001b[0m\u001b[0;34m\u001b[0m\u001b[0;34m\u001b[0m\u001b[0m\n\u001b[1;32m    156\u001b[0m             )\n",
      "\u001b[0;32mpandas/_libs/lib.pyx\u001b[0m in \u001b[0;36mpandas._libs.lib.maybe_convert_numeric\u001b[0;34m()\u001b[0m\n",
      "\u001b[0;31mValueError\u001b[0m: Unable to parse string \"nológica3,5 B2i\" at position 101"
     ]
    }
   ],
   "source": [
    "pd.to_numeric(dados['INSCRITOS'])"
   ]
  },
  {
   "source": [
    "Devido ao erro gerado descobre-se que ainda há \"lixos\" que são dados que foram lido de forma errada, para consertar isso basta acrescentar outro parâmetro na função \"to_numeric\". \n",
    "\n",
    "O \"coerce\" vai converter tudo que não for númerico em NaN (not a number)."
   ],
   "cell_type": "markdown",
   "metadata": {}
  },
  {
   "cell_type": "code",
   "execution_count": 32,
   "metadata": {},
   "outputs": [
    {
     "output_type": "execute_result",
     "data": {
      "text/plain": [
       "         candidatos       vagas  candidatos_por_vaga\n",
       "count    105.000000  105.000000           105.000000\n",
       "mean    1193.066667   81.771429            15.273537\n",
       "std     2181.669426  115.123534            21.092466\n",
       "min       45.000000   12.000000             1.607143\n",
       "25%      163.000000   28.000000             5.000000\n",
       "50%      483.000000   42.000000             8.352941\n",
       "75%     1092.000000   84.000000            15.116667\n",
       "max    15794.000000  783.000000           129.459016"
      ],
      "text/html": "<div>\n<style scoped>\n    .dataframe tbody tr th:only-of-type {\n        vertical-align: middle;\n    }\n\n    .dataframe tbody tr th {\n        vertical-align: top;\n    }\n\n    .dataframe thead th {\n        text-align: right;\n    }\n</style>\n<table border=\"1\" class=\"dataframe\">\n  <thead>\n    <tr style=\"text-align: right;\">\n      <th></th>\n      <th>candidatos</th>\n      <th>vagas</th>\n      <th>candidatos_por_vaga</th>\n    </tr>\n  </thead>\n  <tbody>\n    <tr>\n      <th>count</th>\n      <td>105.000000</td>\n      <td>105.000000</td>\n      <td>105.000000</td>\n    </tr>\n    <tr>\n      <th>mean</th>\n      <td>1193.066667</td>\n      <td>81.771429</td>\n      <td>15.273537</td>\n    </tr>\n    <tr>\n      <th>std</th>\n      <td>2181.669426</td>\n      <td>115.123534</td>\n      <td>21.092466</td>\n    </tr>\n    <tr>\n      <th>min</th>\n      <td>45.000000</td>\n      <td>12.000000</td>\n      <td>1.607143</td>\n    </tr>\n    <tr>\n      <th>25%</th>\n      <td>163.000000</td>\n      <td>28.000000</td>\n      <td>5.000000</td>\n    </tr>\n    <tr>\n      <th>50%</th>\n      <td>483.000000</td>\n      <td>42.000000</td>\n      <td>8.352941</td>\n    </tr>\n    <tr>\n      <th>75%</th>\n      <td>1092.000000</td>\n      <td>84.000000</td>\n      <td>15.116667</td>\n    </tr>\n    <tr>\n      <th>max</th>\n      <td>15794.000000</td>\n      <td>783.000000</td>\n      <td>129.459016</td>\n    </tr>\n  </tbody>\n</table>\n</div>"
     },
     "metadata": {},
     "execution_count": 32
    }
   ],
   "source": [
    "dados['candidatos'] = pd.to_numeric(dados['INSCRITOS'], errors = 'coerce').astype(int)\n",
    "dados['vagas'] = pd.to_numeric(dados['VAGAS'], errors = 'coerce').astype(int)\n",
    "dados['candidatos_por_vaga'] = dados['candidatos'] / dados['vagas']\n",
    "dados['nome'] = dados['NOME']\n",
    "dados = dados.dropna()\n",
    "dados.describe()"
   ]
  },
  {
   "source": [
    "dados.info()"
   ],
   "cell_type": "code",
   "metadata": {},
   "execution_count": 33,
   "outputs": [
    {
     "output_type": "stream",
     "name": "stdout",
     "text": [
      "<class 'pandas.core.frame.DataFrame'>\nInt64Index: 105 entries, 0 to 0\nData columns (total 8 columns):\n #   Column               Non-Null Count  Dtype  \n---  ------               --------------  -----  \n 0   NOME                 105 non-null    object \n 1   VAGAS                105 non-null    object \n 2   INSCRITOS            105 non-null    object \n 3   C/V                  105 non-null    object \n 4   candidatos           105 non-null    int64  \n 5   vagas                105 non-null    int64  \n 6   candidatos_por_vaga  105 non-null    float64\n 7   nome                 105 non-null    object \ndtypes: float64(1), int64(2), object(5)\nmemory usage: 7.4+ KB\n"
     ]
    }
   ]
  },
  {
   "cell_type": "code",
   "execution_count": 38,
   "metadata": {},
   "outputs": [
    {
     "output_type": "execute_result",
     "data": {
      "text/plain": [
       "                                                 nome  vagas  candidatos  \\\n",
       "0   Administração, Ciências Contábeis, Economia, E...    187        1562   \n",
       "1                          Administração - Piracicaba     40         283   \n",
       "2                                   Arquitetura - FAU    105        2724   \n",
       "3                            Arquitetura - São Carlos     31         622   \n",
       "4                                       Artes Cênicas     30         667   \n",
       "5                                       Artes Visuais     30         797   \n",
       "6                                     Biblioteconomia     28         104   \n",
       "7   Biblioteconomia e Ciência da Informação - Ribe...     28          52   \n",
       "8                                    Ciências Sociais    147        1136   \n",
       "9                       Curso Superior do Audiovisual     24        1126   \n",
       "10                                             Design     28         906   \n",
       "11                                            Direito    393        9461   \n",
       "12  Economia, Administração, Ciências Contábeis e ...    413        5794   \n",
       "13                              Economia - Piracicaba     40         316   \n",
       "14                                         Editoração     12         118   \n",
       "15                                          Filosofia    119         800   \n",
       "16                                          Geografia    119         588   \n",
       "17                   Gestão Ambiental - USP Leste, SP     84         288   \n",
       "18                      Gestão Ambiental - Piracicaba     28          94   \n",
       "19       Gestão de Políticas Públicas - USP Leste, SP     84         509   \n",
       "20                                           História    189        1663   \n",
       "21                                         Jornalismo     48        1397   \n",
       "22                    Lazer e Turismo - USP Leste, SP     84         222   \n",
       "23                                             Letras    597        2897   \n",
       "24                     Licenciatura em Educomunicação     21         100   \n",
       "25                          Marketing - USP Leste, SP     84         730   \n",
       "26                                       Música - ECA     50         379   \n",
       "27                            Música - Ribeirão Preto     30          99   \n",
       "28                                          Pedagogia    141         806   \n",
       "29                         Pedagogia - Ribeirão Preto     35         160   \n",
       "\n",
       "    candidatos_por_vaga  \n",
       "0              8.352941  \n",
       "1              7.075000  \n",
       "2             25.942857  \n",
       "3             20.064516  \n",
       "4             22.233333  \n",
       "5             26.566667  \n",
       "6              3.714286  \n",
       "7              1.857143  \n",
       "8              7.727891  \n",
       "9             46.916667  \n",
       "10            32.357143  \n",
       "11            24.073791  \n",
       "12            14.029056  \n",
       "13             7.900000  \n",
       "14             9.833333  \n",
       "15             6.722689  \n",
       "16             4.941176  \n",
       "17             3.428571  \n",
       "18             3.357143  \n",
       "19             6.059524  \n",
       "20             8.798942  \n",
       "21            29.104167  \n",
       "22             2.642857  \n",
       "23             4.852596  \n",
       "24             4.761905  \n",
       "25             8.690476  \n",
       "26             7.580000  \n",
       "27             3.300000  \n",
       "28             5.716312  \n",
       "29             4.571429  "
      ],
      "text/html": "<div>\n<style scoped>\n    .dataframe tbody tr th:only-of-type {\n        vertical-align: middle;\n    }\n\n    .dataframe tbody tr th {\n        vertical-align: top;\n    }\n\n    .dataframe thead th {\n        text-align: right;\n    }\n</style>\n<table border=\"1\" class=\"dataframe\">\n  <thead>\n    <tr style=\"text-align: right;\">\n      <th></th>\n      <th>nome</th>\n      <th>vagas</th>\n      <th>candidatos</th>\n      <th>candidatos_por_vaga</th>\n    </tr>\n  </thead>\n  <tbody>\n    <tr>\n      <th>0</th>\n      <td>Administração, Ciências Contábeis, Economia, E...</td>\n      <td>187</td>\n      <td>1562</td>\n      <td>8.352941</td>\n    </tr>\n    <tr>\n      <th>1</th>\n      <td>Administração - Piracicaba</td>\n      <td>40</td>\n      <td>283</td>\n      <td>7.075000</td>\n    </tr>\n    <tr>\n      <th>2</th>\n      <td>Arquitetura - FAU</td>\n      <td>105</td>\n      <td>2724</td>\n      <td>25.942857</td>\n    </tr>\n    <tr>\n      <th>3</th>\n      <td>Arquitetura - São Carlos</td>\n      <td>31</td>\n      <td>622</td>\n      <td>20.064516</td>\n    </tr>\n    <tr>\n      <th>4</th>\n      <td>Artes Cênicas</td>\n      <td>30</td>\n      <td>667</td>\n      <td>22.233333</td>\n    </tr>\n    <tr>\n      <th>5</th>\n      <td>Artes Visuais</td>\n      <td>30</td>\n      <td>797</td>\n      <td>26.566667</td>\n    </tr>\n    <tr>\n      <th>6</th>\n      <td>Biblioteconomia</td>\n      <td>28</td>\n      <td>104</td>\n      <td>3.714286</td>\n    </tr>\n    <tr>\n      <th>7</th>\n      <td>Biblioteconomia e Ciência da Informação - Ribe...</td>\n      <td>28</td>\n      <td>52</td>\n      <td>1.857143</td>\n    </tr>\n    <tr>\n      <th>8</th>\n      <td>Ciências Sociais</td>\n      <td>147</td>\n      <td>1136</td>\n      <td>7.727891</td>\n    </tr>\n    <tr>\n      <th>9</th>\n      <td>Curso Superior do Audiovisual</td>\n      <td>24</td>\n      <td>1126</td>\n      <td>46.916667</td>\n    </tr>\n    <tr>\n      <th>10</th>\n      <td>Design</td>\n      <td>28</td>\n      <td>906</td>\n      <td>32.357143</td>\n    </tr>\n    <tr>\n      <th>11</th>\n      <td>Direito</td>\n      <td>393</td>\n      <td>9461</td>\n      <td>24.073791</td>\n    </tr>\n    <tr>\n      <th>12</th>\n      <td>Economia, Administração, Ciências Contábeis e ...</td>\n      <td>413</td>\n      <td>5794</td>\n      <td>14.029056</td>\n    </tr>\n    <tr>\n      <th>13</th>\n      <td>Economia - Piracicaba</td>\n      <td>40</td>\n      <td>316</td>\n      <td>7.900000</td>\n    </tr>\n    <tr>\n      <th>14</th>\n      <td>Editoração</td>\n      <td>12</td>\n      <td>118</td>\n      <td>9.833333</td>\n    </tr>\n    <tr>\n      <th>15</th>\n      <td>Filosofia</td>\n      <td>119</td>\n      <td>800</td>\n      <td>6.722689</td>\n    </tr>\n    <tr>\n      <th>16</th>\n      <td>Geografia</td>\n      <td>119</td>\n      <td>588</td>\n      <td>4.941176</td>\n    </tr>\n    <tr>\n      <th>17</th>\n      <td>Gestão Ambiental - USP Leste, SP</td>\n      <td>84</td>\n      <td>288</td>\n      <td>3.428571</td>\n    </tr>\n    <tr>\n      <th>18</th>\n      <td>Gestão Ambiental - Piracicaba</td>\n      <td>28</td>\n      <td>94</td>\n      <td>3.357143</td>\n    </tr>\n    <tr>\n      <th>19</th>\n      <td>Gestão de Políticas Públicas - USP Leste, SP</td>\n      <td>84</td>\n      <td>509</td>\n      <td>6.059524</td>\n    </tr>\n    <tr>\n      <th>20</th>\n      <td>História</td>\n      <td>189</td>\n      <td>1663</td>\n      <td>8.798942</td>\n    </tr>\n    <tr>\n      <th>21</th>\n      <td>Jornalismo</td>\n      <td>48</td>\n      <td>1397</td>\n      <td>29.104167</td>\n    </tr>\n    <tr>\n      <th>22</th>\n      <td>Lazer e Turismo - USP Leste, SP</td>\n      <td>84</td>\n      <td>222</td>\n      <td>2.642857</td>\n    </tr>\n    <tr>\n      <th>23</th>\n      <td>Letras</td>\n      <td>597</td>\n      <td>2897</td>\n      <td>4.852596</td>\n    </tr>\n    <tr>\n      <th>24</th>\n      <td>Licenciatura em Educomunicação</td>\n      <td>21</td>\n      <td>100</td>\n      <td>4.761905</td>\n    </tr>\n    <tr>\n      <th>25</th>\n      <td>Marketing - USP Leste, SP</td>\n      <td>84</td>\n      <td>730</td>\n      <td>8.690476</td>\n    </tr>\n    <tr>\n      <th>26</th>\n      <td>Música - ECA</td>\n      <td>50</td>\n      <td>379</td>\n      <td>7.580000</td>\n    </tr>\n    <tr>\n      <th>27</th>\n      <td>Música - Ribeirão Preto</td>\n      <td>30</td>\n      <td>99</td>\n      <td>3.300000</td>\n    </tr>\n    <tr>\n      <th>28</th>\n      <td>Pedagogia</td>\n      <td>141</td>\n      <td>806</td>\n      <td>5.716312</td>\n    </tr>\n    <tr>\n      <th>29</th>\n      <td>Pedagogia - Ribeirão Preto</td>\n      <td>35</td>\n      <td>160</td>\n      <td>4.571429</td>\n    </tr>\n  </tbody>\n</table>\n</div>"
     },
     "metadata": {},
     "execution_count": 38
    }
   ],
   "source": [
    "dados = dados[['nome', 'vagas', 'candidatos', 'candidatos_por_vaga']]\n",
    "dados.sort_values(\"candidatos_por_vaga\", ascending = False)\n",
    "dados.head(30)"
   ]
  },
  {
   "cell_type": "code",
   "execution_count": null,
   "metadata": {},
   "outputs": [],
   "source": []
  }
 ]
}