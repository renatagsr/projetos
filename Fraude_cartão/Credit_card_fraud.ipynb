{
 "metadata": {
  "language_info": {
   "codemirror_mode": {
    "name": "ipython",
    "version": 3
   },
   "file_extension": ".py",
   "mimetype": "text/x-python",
   "name": "python",
   "nbconvert_exporter": "python",
   "pygments_lexer": "ipython3",
   "version": 3
  },
  "orig_nbformat": 2
 },
 "nbformat": 4,
 "nbformat_minor": 2,
 "cells": [
  {
   "source": [
    "# Detecção de Fraude de Cartão de Crédito\n",
    "\n",
    "Que há fraude nos cartões de Crédito não é novidade para ninguém, mas durante a pandemia houve um aumento absurdo na quantidade de cartões fraudados. Segundo dados do [Consumidor.gov](https://www.consumidor.gov.br/pages/principal/?1608817992066) de Março a Julho de 2020 houve um aumento de cerca de 112% no número de cartões fraudados, se comparado com o mesmo período do ano de 2019. Atualmente a clonagem de cartão é a fraude mais praticada. Segundo um levantaento realizado pela Câmara dos Dirigentes Lojistas juntamente com o Serviço de Proteção ao Consumidor, em 12 meses quase **9 milhões** de brasileiros foram vítimas desse tipo de fraude. Metade das fraudes com cartões ocorre através de transações pela internet. \n",
    "\n",
    "Com todas essas fraudes ocorrendo é necessário criar meios de evitar, seja medidas preventivas ou medidas que detectem a fraude do cartão."
   ],
   "cell_type": "markdown",
   "metadata": {}
  },
  {
   "source": [
    "## Importando a Base de Dados\n",
    "\n",
    "A base de dados utilizada foi fornecida pela European Credit Card Companies. "
   ],
   "cell_type": "markdown",
   "metadata": {}
  },
  {
   "cell_type": "code",
   "execution_count": null,
   "metadata": {},
   "outputs": [],
   "source": []
  }
 ]
}