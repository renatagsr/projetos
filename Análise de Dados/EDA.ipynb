{
 "metadata": {
  "language_info": {
   "codemirror_mode": {
    "name": "ipython",
    "version": 3
   },
   "file_extension": ".py",
   "mimetype": "text/x-python",
   "name": "python",
   "nbconvert_exporter": "python",
   "pygments_lexer": "ipython3",
   "version": "3.8.5-final"
  },
  "orig_nbformat": 2,
  "kernelspec": {
   "name": "python3",
   "display_name": "Python 3",
   "language": "python"
  }
 },
 "nbformat": 4,
 "nbformat_minor": 2,
 "cells": [
  {
   "source": [
    "# Análise Exploratória de Dados\n",
    "\n",
    "Toda fase que envolva *Data Science* é importante ter uma Análise Exploratória de Dados para que entenda o dado. Essa etapa é a que normalmente se consegue extrair diversos *insights*. Essa análise exploratória será justamente foca em geração de *insights*. Foi realizado uma vistória prévia em relação aos dados que serão utilizados para saber quais são os dados faltantes,visto isso a fonte dos dados e o foco desse *notebook* (geração de *insights*) não será realizada a limpeza de dados."
   ],
   "cell_type": "markdown",
   "metadata": {}
  },
  {
   "source": [
    "## Importando Bibliotecas"
   ],
   "cell_type": "markdown",
   "metadata": {}
  },
  {
   "cell_type": "code",
   "execution_count": 1,
   "metadata": {},
   "outputs": [
    {
     "output_type": "stream",
     "name": "stdout",
     "text": [
      "Populating the interactive namespace from numpy and matplotlib\n"
     ]
    }
   ],
   "source": [
    "import pandas as pd\n",
    "%matplotlib inline\n",
    "%pylab inline\n",
    "import matplotlib.pyplot as plt\n",
    "plt.style.use('ggplot')"
   ]
  },
  {
   "cell_type": "code",
   "execution_count": 2,
   "metadata": {},
   "outputs": [],
   "source": [
    "import sys\n",
    "from importlib import reload\n",
    "reload(sys)\n",
    "import os\n",
    "os.environ[\"PYTHONIOENCODING\"] = \"utf-8\""
   ]
  },
  {
   "source": [
    "## Carregando a Base de Dados"
   ],
   "cell_type": "markdown",
   "metadata": {}
  },
  {
   "source": [
    "Os dados utilizados foram obtidos no site [consumidor.gov](https://www.consumidor.gov.br/), na parte de [Dados Abertos](https://www.consumidor.gov.br/pages/dadosabertos/externo/). Os arquivos são disponibilizados gratuitamente e em formato csv. Para esse *notebook* os dados utilizados foram referentes ao ano de 2020, até o mês de Novembro já que quando esse *notebook* foi confeccionado apenas até esse mês estava disponível. \n",
    "\n",
    "Para dar entrada nos dados foi utilizado a biblioteca Pandas, para alguns arquivos foi necessário colocar o *encoding* para que o arquivo fosse lido de forma correta visto que o seu *encoding* é diferente do comum do Pandas. "
   ],
   "cell_type": "markdown",
   "metadata": {}
  },
  {
   "cell_type": "code",
   "execution_count": 9,
   "metadata": {},
   "outputs": [],
   "source": [
    "janeiro = pd.read_csv('/home/renata/Desktop/Cursos/projetos/Análise de Dados/2020-01.csv', encoding='latin-1', sep = ';')\n",
    "fevereiro = pd.read_csv('/home/renata/Desktop/Cursos/projetos/Análise de Dados/2020-02.csv', encoding='latin-1', sep = ';')\n",
    "marco = pd.read_csv('/home/renata/Desktop/Cursos/projetos/Análise de Dados/2020-03.csv', encoding='latin-1', sep = ';')\n",
    "abril = pd.read_csv('/home/renata/Desktop/Cursos/projetos/Análise de Dados/2020-04.csv', encoding='latin-1', sep = ';')\n",
    "maio = pd.read_csv('/home/renata/Desktop/Cursos/projetos/Análise de Dados/2020-05.csv', encoding='latin-1', sep = ';')\n",
    "junho = pd.read_csv('/home/renata/Desktop/Cursos/projetos/Análise de Dados/2020-06.csv', encoding='latin-1', sep = ';')\n",
    "julho = pd.read_csv('/home/renata/Desktop/Cursos/projetos/Análise de Dados/2020-07.csv',encoding='latin-1', sep = ';')\n",
    "agosto = pd.read_csv('/home/renata/Desktop/Cursos/projetos/Análise de Dados/2020-08.csv', sep = ';')\n",
    "setembro = pd.read_csv('/home/renata/Desktop/Cursos/projetos/Análise de Dados/2020-09.csv', sep = ';')\n",
    "outubro = pd.read_csv('/home/renata/Desktop/Cursos/projetos/Análise de Dados/2020-10.csv', sep = ';')\n",
    "novembro = pd.read_csv('/home/renata/Desktop/Cursos/projetos/Análise de Dados/2020-11.csv', sep = ';')"
   ]
  },
  {
   "cell_type": "code",
   "execution_count": 10,
   "metadata": {},
   "outputs": [
    {
     "output_type": "execute_result",
     "data": {
      "text/plain": [
       "  Região  UF                Cidade Sexo        Faixa Etária Data Finalização  \\\n",
       "0     S   PR              Curitiba    F  entre 31 a 40 anos       01/01/2020   \n",
       "1     S   PR  São José dos Pinhais    F  entre 21 a 30 anos       01/01/2020   \n",
       "2     SE  ES                 Serra    M  entre 41 a 50 anos       03/01/2020   \n",
       "3     SE  SP               Jundiaí    M  entre 31 a 40 anos       04/01/2020   \n",
       "4     S   RS          Porto Alegre    M  entre 61 a 70 anos       07/01/2020   \n",
       "\n",
       "   Tempo Resposta   Nome Fantasia  \\\n",
       "0            10.0        Itaucard   \n",
       "1            10.0             Tim   \n",
       "2             9.0             SKY   \n",
       "3             9.0  Americanas.com   \n",
       "4            10.0       Banco BMG   \n",
       "\n",
       "                                 Segmento de Mercado  \\\n",
       "0    Bancos, Financeiras e Administradoras de Cartão   \n",
       "1  Operadoras de Telecomunicações (Telefonia, Int...   \n",
       "2  Operadoras de Telecomunicações (Telefonia, Int...   \n",
       "3                                Comércio Eletrônico   \n",
       "4    Bancos, Financeiras e Administradoras de Cartão   \n",
       "\n",
       "                                      Área  \\\n",
       "0                     Serviços Financeiros   \n",
       "1                         Telecomunicações   \n",
       "2                         Telecomunicações   \n",
       "3  Produtos Eletrodomésticos e Eletrônicos   \n",
       "4                     Serviços Financeiros   \n",
       "\n",
       "                                             Assunto          Grupo Problema  \\\n",
       "0  Banco de Dados e Cadastros de Consumidores (SP...  Cobrança / Contestação   \n",
       "1                                     Internet Móvel       Contrato / Oferta   \n",
       "2                                  TV por Assinatura       Atendimento / SAC   \n",
       "3  Eletroportáteis ( batedeira, liquidificador, u...       Contrato / Oferta   \n",
       "4  Crédito Pessoal e Demais Empréstimos (exceto f...       Atendimento / SAC   \n",
       "\n",
       "                                            Problema   Como Comprou Contratou  \\\n",
       "0  Cobrança de tarifas, taxas, valores não previs...  SMS / Mensagem de texto   \n",
       "1  Alteração de plano/contrato sem solicitação ou...                 Internet   \n",
       "2  Dificuldade de contato / acesso a outros canai...              Loja física   \n",
       "3  Oferta não cumprida / serviço não fornecido/ v...                 Internet   \n",
       "4  SAC - Demanda não resolvida / não respondida /...              Loja física   \n",
       "\n",
       "  Procurou Empresa Respondida                 Situação Avaliação Reclamação  \\\n",
       "0                N          S  Finalizada não avaliada         Não Avaliada   \n",
       "1                N          S  Finalizada não avaliada         Não Avaliada   \n",
       "2                S          S  Finalizada não avaliada         Não Avaliada   \n",
       "3                N          S  Finalizada não avaliada         Não Avaliada   \n",
       "4                S          S  Finalizada não avaliada         Não Avaliada   \n",
       "\n",
       "   Nota do Consumidor  Total  \n",
       "0                 NaN      1  \n",
       "1                 NaN      1  \n",
       "2                 NaN      1  \n",
       "3                 NaN      1  \n",
       "4                 NaN      1  "
      ],
      "text/html": "<div>\n<style scoped>\n    .dataframe tbody tr th:only-of-type {\n        vertical-align: middle;\n    }\n\n    .dataframe tbody tr th {\n        vertical-align: top;\n    }\n\n    .dataframe thead th {\n        text-align: right;\n    }\n</style>\n<table border=\"1\" class=\"dataframe\">\n  <thead>\n    <tr style=\"text-align: right;\">\n      <th></th>\n      <th>Região</th>\n      <th>UF</th>\n      <th>Cidade</th>\n      <th>Sexo</th>\n      <th>Faixa Etária</th>\n      <th>Data Finalização</th>\n      <th>Tempo Resposta</th>\n      <th>Nome Fantasia</th>\n      <th>Segmento de Mercado</th>\n      <th>Área</th>\n      <th>Assunto</th>\n      <th>Grupo Problema</th>\n      <th>Problema</th>\n      <th>Como Comprou Contratou</th>\n      <th>Procurou Empresa</th>\n      <th>Respondida</th>\n      <th>Situação</th>\n      <th>Avaliação Reclamação</th>\n      <th>Nota do Consumidor</th>\n      <th>Total</th>\n    </tr>\n  </thead>\n  <tbody>\n    <tr>\n      <th>0</th>\n      <td>S</td>\n      <td>PR</td>\n      <td>Curitiba</td>\n      <td>F</td>\n      <td>entre 31 a 40 anos</td>\n      <td>01/01/2020</td>\n      <td>10.0</td>\n      <td>Itaucard</td>\n      <td>Bancos, Financeiras e Administradoras de Cartão</td>\n      <td>Serviços Financeiros</td>\n      <td>Banco de Dados e Cadastros de Consumidores (SP...</td>\n      <td>Cobrança / Contestação</td>\n      <td>Cobrança de tarifas, taxas, valores não previs...</td>\n      <td>SMS / Mensagem de texto</td>\n      <td>N</td>\n      <td>S</td>\n      <td>Finalizada não avaliada</td>\n      <td>Não Avaliada</td>\n      <td>NaN</td>\n      <td>1</td>\n    </tr>\n    <tr>\n      <th>1</th>\n      <td>S</td>\n      <td>PR</td>\n      <td>São José dos Pinhais</td>\n      <td>F</td>\n      <td>entre 21 a 30 anos</td>\n      <td>01/01/2020</td>\n      <td>10.0</td>\n      <td>Tim</td>\n      <td>Operadoras de Telecomunicações (Telefonia, Int...</td>\n      <td>Telecomunicações</td>\n      <td>Internet Móvel</td>\n      <td>Contrato / Oferta</td>\n      <td>Alteração de plano/contrato sem solicitação ou...</td>\n      <td>Internet</td>\n      <td>N</td>\n      <td>S</td>\n      <td>Finalizada não avaliada</td>\n      <td>Não Avaliada</td>\n      <td>NaN</td>\n      <td>1</td>\n    </tr>\n    <tr>\n      <th>2</th>\n      <td>SE</td>\n      <td>ES</td>\n      <td>Serra</td>\n      <td>M</td>\n      <td>entre 41 a 50 anos</td>\n      <td>03/01/2020</td>\n      <td>9.0</td>\n      <td>SKY</td>\n      <td>Operadoras de Telecomunicações (Telefonia, Int...</td>\n      <td>Telecomunicações</td>\n      <td>TV por Assinatura</td>\n      <td>Atendimento / SAC</td>\n      <td>Dificuldade de contato / acesso a outros canai...</td>\n      <td>Loja física</td>\n      <td>S</td>\n      <td>S</td>\n      <td>Finalizada não avaliada</td>\n      <td>Não Avaliada</td>\n      <td>NaN</td>\n      <td>1</td>\n    </tr>\n    <tr>\n      <th>3</th>\n      <td>SE</td>\n      <td>SP</td>\n      <td>Jundiaí</td>\n      <td>M</td>\n      <td>entre 31 a 40 anos</td>\n      <td>04/01/2020</td>\n      <td>9.0</td>\n      <td>Americanas.com</td>\n      <td>Comércio Eletrônico</td>\n      <td>Produtos Eletrodomésticos e Eletrônicos</td>\n      <td>Eletroportáteis ( batedeira, liquidificador, u...</td>\n      <td>Contrato / Oferta</td>\n      <td>Oferta não cumprida / serviço não fornecido/ v...</td>\n      <td>Internet</td>\n      <td>N</td>\n      <td>S</td>\n      <td>Finalizada não avaliada</td>\n      <td>Não Avaliada</td>\n      <td>NaN</td>\n      <td>1</td>\n    </tr>\n    <tr>\n      <th>4</th>\n      <td>S</td>\n      <td>RS</td>\n      <td>Porto Alegre</td>\n      <td>M</td>\n      <td>entre 61 a 70 anos</td>\n      <td>07/01/2020</td>\n      <td>10.0</td>\n      <td>Banco BMG</td>\n      <td>Bancos, Financeiras e Administradoras de Cartão</td>\n      <td>Serviços Financeiros</td>\n      <td>Crédito Pessoal e Demais Empréstimos (exceto f...</td>\n      <td>Atendimento / SAC</td>\n      <td>SAC - Demanda não resolvida / não respondida /...</td>\n      <td>Loja física</td>\n      <td>S</td>\n      <td>S</td>\n      <td>Finalizada não avaliada</td>\n      <td>Não Avaliada</td>\n      <td>NaN</td>\n      <td>1</td>\n    </tr>\n  </tbody>\n</table>\n</div>"
     },
     "metadata": {},
     "execution_count": 10
    }
   ],
   "source": [
    "janeiro.head()"
   ]
  },
  {
   "cell_type": "code",
   "execution_count": null,
   "metadata": {},
   "outputs": [],
   "source": []
  }
 ]
}