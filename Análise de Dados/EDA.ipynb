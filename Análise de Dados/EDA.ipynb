{
 "metadata": {
  "language_info": {
   "codemirror_mode": {
    "name": "ipython",
    "version": 3
   },
   "file_extension": ".py",
   "mimetype": "text/x-python",
   "name": "python",
   "nbconvert_exporter": "python",
   "pygments_lexer": "ipython3",
   "version": "3.8.5-final"
  },
  "orig_nbformat": 2,
  "kernelspec": {
   "name": "python3",
   "display_name": "Python 3",
   "language": "python"
  }
 },
 "nbformat": 4,
 "nbformat_minor": 2,
 "cells": [
  {
   "source": [
    "# Análise Exploratória de Dados\n",
    "\n",
    "Toda fase que envolva *Data Science* é importante ter uma Análise Exploratória de Dados para que entenda o dado. Essa etapa é a que normalmente se consegue extrair diversos *insights*. Essa análise exploratória será justamente foca em geração de *insights*. Foi realizado uma vistória prévia em relação aos dados que serão utilizados para saber quais são os dados faltantes,visto isso a fonte dos dados e o foco desse *notebook* (geração de *insights*) não será realizada a limpeza de dados."
   ],
   "cell_type": "markdown",
   "metadata": {}
  },
  {
   "source": [
    "## Importando Bibliotecas"
   ],
   "cell_type": "markdown",
   "metadata": {}
  },
  {
   "cell_type": "code",
   "execution_count": 1,
   "metadata": {},
   "outputs": [
    {
     "output_type": "stream",
     "name": "stdout",
     "text": [
      "Populating the interactive namespace from numpy and matplotlib\n"
     ]
    }
   ],
   "source": [
    "import pandas as pd\n",
    "%matplotlib inline\n",
    "%pylab inline\n",
    "import matplotlib.pyplot as plt\n",
    "plt.style.use('ggplot')\n",
    "import sys\n",
    "import seaborn as sns"
   ]
  },
  {
   "source": [
    "## Carregando a Base de Dados"
   ],
   "cell_type": "markdown",
   "metadata": {}
  },
  {
   "source": [
    "Os dados utilizados foram obtidos no site [consumidor.gov](https://www.consumidor.gov.br/), na parte de [Dados Abertos](https://www.consumidor.gov.br/pages/dadosabertos/externo/). Os arquivos são disponibilizados gratuitamente e em formato csv. Para esse *notebook* os dados utilizados foram referentes ao ano de 2020, até o mês de Novembro já que quando esse *notebook* foi confeccionado apenas até esse mês estava disponível. \n",
    "\n",
    "Para dar entrada nos dados foi utilizado a biblioteca Pandas, para alguns arquivos foi necessário colocar o *encoding* para que o arquivo fosse lido de forma correta visto que o seu *encoding* é diferente do comum do Pandas. "
   ],
   "cell_type": "markdown",
   "metadata": {}
  },
  {
   "cell_type": "code",
   "execution_count": 2,
   "metadata": {},
   "outputs": [],
   "source": [
    "janeiro = pd.read_csv('/home/renata/Desktop/Cursos/projetos/Análise de Dados/2020-01.csv', encoding='latin-1', sep = ';')\n",
    "fevereiro = pd.read_csv('/home/renata/Desktop/Cursos/projetos/Análise de Dados/2020-02.csv', encoding='latin-1', sep = ';')\n",
    "marco = pd.read_csv('/home/renata/Desktop/Cursos/projetos/Análise de Dados/2020-03.csv', encoding='latin-1', sep = ';')\n",
    "abril = pd.read_csv('/home/renata/Desktop/Cursos/projetos/Análise de Dados/2020-04.csv', encoding='latin-1', sep = ';')\n",
    "maio = pd.read_csv('/home/renata/Desktop/Cursos/projetos/Análise de Dados/2020-05.csv', encoding='latin-1', sep = ';')\n",
    "junho = pd.read_csv('/home/renata/Desktop/Cursos/projetos/Análise de Dados/2020-06.csv', encoding='latin-1', sep = ';')\n",
    "julho = pd.read_csv('/home/renata/Desktop/Cursos/projetos/Análise de Dados/2020-07.csv',encoding='latin-1', sep = ';')\n",
    "agosto = pd.read_csv('/home/renata/Desktop/Cursos/projetos/Análise de Dados/2020-08.csv', sep = ';')\n",
    "setembro = pd.read_csv('/home/renata/Desktop/Cursos/projetos/Análise de Dados/2020-09.csv', sep = ';')\n",
    "outubro = pd.read_csv('/home/renata/Desktop/Cursos/projetos/Análise de Dados/2020-10.csv', sep = ';')\n",
    "novembro = pd.read_csv('/home/renata/Desktop/Cursos/projetos/Análise de Dados/2020-11.csv', sep = ';')"
   ]
  },
  {
   "source": [
    "As colunas de todos os *Datasets* são iguais, por isso não se faz necessário fazer a visualização de todos os dados antes de começar fazer a análise de dados."
   ],
   "cell_type": "markdown",
   "metadata": {}
  },
  {
   "cell_type": "code",
   "execution_count": 3,
   "metadata": {},
   "outputs": [
    {
     "output_type": "execute_result",
     "data": {
      "text/plain": [
       "  Região  UF                Cidade Sexo        Faixa Etária Data Finalização  \\\n",
       "0     S   PR              Curitiba    F  entre 31 a 40 anos       01/01/2020   \n",
       "1     S   PR  São José dos Pinhais    F  entre 21 a 30 anos       01/01/2020   \n",
       "2     SE  ES                 Serra    M  entre 41 a 50 anos       03/01/2020   \n",
       "3     SE  SP               Jundiaí    M  entre 31 a 40 anos       04/01/2020   \n",
       "4     S   RS          Porto Alegre    M  entre 61 a 70 anos       07/01/2020   \n",
       "\n",
       "   Tempo Resposta   Nome Fantasia  \\\n",
       "0            10.0        Itaucard   \n",
       "1            10.0             Tim   \n",
       "2             9.0             SKY   \n",
       "3             9.0  Americanas.com   \n",
       "4            10.0       Banco BMG   \n",
       "\n",
       "                                 Segmento de Mercado  \\\n",
       "0    Bancos, Financeiras e Administradoras de Cartão   \n",
       "1  Operadoras de Telecomunicações (Telefonia, Int...   \n",
       "2  Operadoras de Telecomunicações (Telefonia, Int...   \n",
       "3                                Comércio Eletrônico   \n",
       "4    Bancos, Financeiras e Administradoras de Cartão   \n",
       "\n",
       "                                      Área  \\\n",
       "0                     Serviços Financeiros   \n",
       "1                         Telecomunicações   \n",
       "2                         Telecomunicações   \n",
       "3  Produtos Eletrodomésticos e Eletrônicos   \n",
       "4                     Serviços Financeiros   \n",
       "\n",
       "                                             Assunto          Grupo Problema  \\\n",
       "0  Banco de Dados e Cadastros de Consumidores (SP...  Cobrança / Contestação   \n",
       "1                                     Internet Móvel       Contrato / Oferta   \n",
       "2                                  TV por Assinatura       Atendimento / SAC   \n",
       "3  Eletroportáteis ( batedeira, liquidificador, u...       Contrato / Oferta   \n",
       "4  Crédito Pessoal e Demais Empréstimos (exceto f...       Atendimento / SAC   \n",
       "\n",
       "                                            Problema   Como Comprou Contratou  \\\n",
       "0  Cobrança de tarifas, taxas, valores não previs...  SMS / Mensagem de texto   \n",
       "1  Alteração de plano/contrato sem solicitação ou...                 Internet   \n",
       "2  Dificuldade de contato / acesso a outros canai...              Loja física   \n",
       "3  Oferta não cumprida / serviço não fornecido/ v...                 Internet   \n",
       "4  SAC - Demanda não resolvida / não respondida /...              Loja física   \n",
       "\n",
       "  Procurou Empresa Respondida                 Situação Avaliação Reclamação  \\\n",
       "0                N          S  Finalizada não avaliada         Não Avaliada   \n",
       "1                N          S  Finalizada não avaliada         Não Avaliada   \n",
       "2                S          S  Finalizada não avaliada         Não Avaliada   \n",
       "3                N          S  Finalizada não avaliada         Não Avaliada   \n",
       "4                S          S  Finalizada não avaliada         Não Avaliada   \n",
       "\n",
       "   Nota do Consumidor  Total  \n",
       "0                 NaN      1  \n",
       "1                 NaN      1  \n",
       "2                 NaN      1  \n",
       "3                 NaN      1  \n",
       "4                 NaN      1  "
      ],
      "text/html": "<div>\n<style scoped>\n    .dataframe tbody tr th:only-of-type {\n        vertical-align: middle;\n    }\n\n    .dataframe tbody tr th {\n        vertical-align: top;\n    }\n\n    .dataframe thead th {\n        text-align: right;\n    }\n</style>\n<table border=\"1\" class=\"dataframe\">\n  <thead>\n    <tr style=\"text-align: right;\">\n      <th></th>\n      <th>Região</th>\n      <th>UF</th>\n      <th>Cidade</th>\n      <th>Sexo</th>\n      <th>Faixa Etária</th>\n      <th>Data Finalização</th>\n      <th>Tempo Resposta</th>\n      <th>Nome Fantasia</th>\n      <th>Segmento de Mercado</th>\n      <th>Área</th>\n      <th>Assunto</th>\n      <th>Grupo Problema</th>\n      <th>Problema</th>\n      <th>Como Comprou Contratou</th>\n      <th>Procurou Empresa</th>\n      <th>Respondida</th>\n      <th>Situação</th>\n      <th>Avaliação Reclamação</th>\n      <th>Nota do Consumidor</th>\n      <th>Total</th>\n    </tr>\n  </thead>\n  <tbody>\n    <tr>\n      <th>0</th>\n      <td>S</td>\n      <td>PR</td>\n      <td>Curitiba</td>\n      <td>F</td>\n      <td>entre 31 a 40 anos</td>\n      <td>01/01/2020</td>\n      <td>10.0</td>\n      <td>Itaucard</td>\n      <td>Bancos, Financeiras e Administradoras de Cartão</td>\n      <td>Serviços Financeiros</td>\n      <td>Banco de Dados e Cadastros de Consumidores (SP...</td>\n      <td>Cobrança / Contestação</td>\n      <td>Cobrança de tarifas, taxas, valores não previs...</td>\n      <td>SMS / Mensagem de texto</td>\n      <td>N</td>\n      <td>S</td>\n      <td>Finalizada não avaliada</td>\n      <td>Não Avaliada</td>\n      <td>NaN</td>\n      <td>1</td>\n    </tr>\n    <tr>\n      <th>1</th>\n      <td>S</td>\n      <td>PR</td>\n      <td>São José dos Pinhais</td>\n      <td>F</td>\n      <td>entre 21 a 30 anos</td>\n      <td>01/01/2020</td>\n      <td>10.0</td>\n      <td>Tim</td>\n      <td>Operadoras de Telecomunicações (Telefonia, Int...</td>\n      <td>Telecomunicações</td>\n      <td>Internet Móvel</td>\n      <td>Contrato / Oferta</td>\n      <td>Alteração de plano/contrato sem solicitação ou...</td>\n      <td>Internet</td>\n      <td>N</td>\n      <td>S</td>\n      <td>Finalizada não avaliada</td>\n      <td>Não Avaliada</td>\n      <td>NaN</td>\n      <td>1</td>\n    </tr>\n    <tr>\n      <th>2</th>\n      <td>SE</td>\n      <td>ES</td>\n      <td>Serra</td>\n      <td>M</td>\n      <td>entre 41 a 50 anos</td>\n      <td>03/01/2020</td>\n      <td>9.0</td>\n      <td>SKY</td>\n      <td>Operadoras de Telecomunicações (Telefonia, Int...</td>\n      <td>Telecomunicações</td>\n      <td>TV por Assinatura</td>\n      <td>Atendimento / SAC</td>\n      <td>Dificuldade de contato / acesso a outros canai...</td>\n      <td>Loja física</td>\n      <td>S</td>\n      <td>S</td>\n      <td>Finalizada não avaliada</td>\n      <td>Não Avaliada</td>\n      <td>NaN</td>\n      <td>1</td>\n    </tr>\n    <tr>\n      <th>3</th>\n      <td>SE</td>\n      <td>SP</td>\n      <td>Jundiaí</td>\n      <td>M</td>\n      <td>entre 31 a 40 anos</td>\n      <td>04/01/2020</td>\n      <td>9.0</td>\n      <td>Americanas.com</td>\n      <td>Comércio Eletrônico</td>\n      <td>Produtos Eletrodomésticos e Eletrônicos</td>\n      <td>Eletroportáteis ( batedeira, liquidificador, u...</td>\n      <td>Contrato / Oferta</td>\n      <td>Oferta não cumprida / serviço não fornecido/ v...</td>\n      <td>Internet</td>\n      <td>N</td>\n      <td>S</td>\n      <td>Finalizada não avaliada</td>\n      <td>Não Avaliada</td>\n      <td>NaN</td>\n      <td>1</td>\n    </tr>\n    <tr>\n      <th>4</th>\n      <td>S</td>\n      <td>RS</td>\n      <td>Porto Alegre</td>\n      <td>M</td>\n      <td>entre 61 a 70 anos</td>\n      <td>07/01/2020</td>\n      <td>10.0</td>\n      <td>Banco BMG</td>\n      <td>Bancos, Financeiras e Administradoras de Cartão</td>\n      <td>Serviços Financeiros</td>\n      <td>Crédito Pessoal e Demais Empréstimos (exceto f...</td>\n      <td>Atendimento / SAC</td>\n      <td>SAC - Demanda não resolvida / não respondida /...</td>\n      <td>Loja física</td>\n      <td>S</td>\n      <td>S</td>\n      <td>Finalizada não avaliada</td>\n      <td>Não Avaliada</td>\n      <td>NaN</td>\n      <td>1</td>\n    </tr>\n  </tbody>\n</table>\n</div>"
     },
     "metadata": {},
     "execution_count": 3
    }
   ],
   "source": [
    "janeiro.head()"
   ]
  },
  {
   "cell_type": "code",
   "execution_count": 4,
   "metadata": {},
   "outputs": [
    {
     "output_type": "stream",
     "name": "stdout",
     "text": [
      "<class 'pandas.core.frame.DataFrame'>\nRangeIndex: 74357 entries, 0 to 74356\nData columns (total 20 columns):\n #   Column                  Non-Null Count  Dtype  \n---  ------                  --------------  -----  \n 0   Região                  74357 non-null  object \n 1   UF                      74357 non-null  object \n 2   Cidade                  74357 non-null  object \n 3   Sexo                    74357 non-null  object \n 4   Faixa Etária            74357 non-null  object \n 5   Data Finalização        74357 non-null  object \n 6   Tempo Resposta          73746 non-null  float64\n 7   Nome Fantasia           74357 non-null  object \n 8   Segmento de Mercado     74357 non-null  object \n 9   Área                    74357 non-null  object \n 10  Assunto                 74357 non-null  object \n 11  Grupo Problema          74357 non-null  object \n 12  Problema                74357 non-null  object \n 13  Como Comprou Contratou  74357 non-null  object \n 14  Procurou Empresa        74357 non-null  object \n 15  Respondida              74357 non-null  object \n 16  Situação                74357 non-null  object \n 17  Avaliação Reclamação    74357 non-null  object \n 18  Nota do Consumidor      41120 non-null  float64\n 19  Total                   74357 non-null  int64  \ndtypes: float64(2), int64(1), object(17)\nmemory usage: 11.3+ MB\n"
     ]
    }
   ],
   "source": [
    "janeiro.info()"
   ]
  },
  {
   "cell_type": "code",
   "execution_count": 5,
   "metadata": {},
   "outputs": [],
   "source": [
    "datasets = [janeiro, fevereiro, marco, abril, maio, junho, julho, agosto, setembro, outubro, novembro]"
   ]
  },
  {
   "cell_type": "code",
   "execution_count": 6,
   "metadata": {},
   "outputs": [
    {
     "output_type": "execute_result",
     "data": {
      "text/plain": [
       "       Região  UF                Cidade Sexo        Faixa Etária  \\\n",
       "0          S   PR              Curitiba    F  entre 31 a 40 anos   \n",
       "1          S   PR  São José dos Pinhais    F  entre 21 a 30 anos   \n",
       "2          SE  ES                 Serra    M  entre 41 a 50 anos   \n",
       "3          SE  SP               Jundiaí    M  entre 31 a 40 anos   \n",
       "4          S   RS          Porto Alegre    M  entre 61 a 70 anos   \n",
       "...       ...  ..                   ...  ...                 ...   \n",
       "107242     N   PA            Ananindeua    F  entre 31 a 40 anos   \n",
       "107243     SE  MG            Uberlândia    M  entre 21 a 30 anos   \n",
       "107244     NE  RN               Equador    M  entre 31 a 40 anos   \n",
       "107245     SE  RJ                  Magé    M  entre 31 a 40 anos   \n",
       "107246     SE  SP             São Paulo    M  entre 31 a 40 anos   \n",
       "\n",
       "       Data Finalização  Tempo Resposta     Nome Fantasia  \\\n",
       "0            01/01/2020            10.0          Itaucard   \n",
       "1            01/01/2020            10.0               Tim   \n",
       "2            03/01/2020             9.0               SKY   \n",
       "3            04/01/2020             9.0    Americanas.com   \n",
       "4            07/01/2020            10.0         Banco BMG   \n",
       "...                 ...             ...               ...   \n",
       "107242       2020-11-30             0.0  Serasa Experian    \n",
       "107243       2020-11-30             0.0  Serasa Experian    \n",
       "107244       2020-11-30             0.0  Serasa Experian    \n",
       "107245       2020-11-30             0.0  Serasa Experian    \n",
       "107246       2020-11-30             0.0  Serasa Experian    \n",
       "\n",
       "                                      Segmento de Mercado  \\\n",
       "0         Bancos, Financeiras e Administradoras de Cartão   \n",
       "1       Operadoras de Telecomunicações (Telefonia, Int...   \n",
       "2       Operadoras de Telecomunicações (Telefonia, Int...   \n",
       "3                                     Comércio Eletrônico   \n",
       "4         Bancos, Financeiras e Administradoras de Cartão   \n",
       "...                                                   ...   \n",
       "107242        Bancos de Dados e Cadastros de Consumidores   \n",
       "107243        Bancos de Dados e Cadastros de Consumidores   \n",
       "107244        Bancos de Dados e Cadastros de Consumidores   \n",
       "107245        Bancos de Dados e Cadastros de Consumidores   \n",
       "107246        Bancos de Dados e Cadastros de Consumidores   \n",
       "\n",
       "                                           Área  \\\n",
       "0                          Serviços Financeiros   \n",
       "1                              Telecomunicações   \n",
       "2                              Telecomunicações   \n",
       "3       Produtos Eletrodomésticos e Eletrônicos   \n",
       "4                          Serviços Financeiros   \n",
       "...                                         ...   \n",
       "107242                     Serviços Financeiros   \n",
       "107243                     Serviços Financeiros   \n",
       "107244                     Serviços Financeiros   \n",
       "107245                     Serviços Financeiros   \n",
       "107246                     Serviços Financeiros   \n",
       "\n",
       "                                                  Assunto  \\\n",
       "0       Banco de Dados e Cadastros de Consumidores (SP...   \n",
       "1                                          Internet Móvel   \n",
       "2                                       TV por Assinatura   \n",
       "3       Eletroportáteis ( batedeira, liquidificador, u...   \n",
       "4       Crédito Pessoal e Demais Empréstimos (exceto f...   \n",
       "...                                                   ...   \n",
       "107242  Banco de Dados e Cadastros de Consumidores (SP...   \n",
       "107243  Banco de Dados e Cadastros de Consumidores (SP...   \n",
       "107244  Banco de Dados e Cadastros de Consumidores (SP...   \n",
       "107245  Banco de Dados e Cadastros de Consumidores (SP...   \n",
       "107246  Banco de Dados e Cadastros de Consumidores (SP...   \n",
       "\n",
       "                Grupo Problema  \\\n",
       "0       Cobrança / Contestação   \n",
       "1            Contrato / Oferta   \n",
       "2            Atendimento / SAC   \n",
       "3            Contrato / Oferta   \n",
       "4            Atendimento / SAC   \n",
       "...                        ...   \n",
       "107242              Informação   \n",
       "107243              Informação   \n",
       "107244              Informação   \n",
       "107245              Informação   \n",
       "107246              Informação   \n",
       "\n",
       "                                                 Problema  \\\n",
       "0       Cobrança de tarifas, taxas, valores não previs...   \n",
       "1       Alteração de plano/contrato sem solicitação ou...   \n",
       "2       Dificuldade de contato / acesso a outros canai...   \n",
       "3       Oferta não cumprida / serviço não fornecido/ v...   \n",
       "4       SAC - Demanda não resolvida / não respondida /...   \n",
       "...                                                   ...   \n",
       "107242  Dados pessoais ou financeiros consultados, col...   \n",
       "107243  Dados pessoais ou financeiros consultados, col...   \n",
       "107244  Dados pessoais ou financeiros consultados, col...   \n",
       "107245  Dados pessoais ou financeiros consultados, col...   \n",
       "107246  Dados pessoais ou financeiros consultados, col...   \n",
       "\n",
       "         Como Comprou Contratou Procurou Empresa Respondida  \\\n",
       "0       SMS / Mensagem de texto                N          S   \n",
       "1                      Internet                N          S   \n",
       "2                   Loja física                S          S   \n",
       "3                      Internet                N          S   \n",
       "4                   Loja física                S          S   \n",
       "...                         ...              ...        ...   \n",
       "107242                 Internet                N          S   \n",
       "107243                 Internet                N          S   \n",
       "107244                 Internet                N          S   \n",
       "107245                 Internet                N          S   \n",
       "107246                 Internet                N          S   \n",
       "\n",
       "                       Situação Avaliação Reclamação  Nota do Consumidor  \\\n",
       "0       Finalizada não avaliada         Não Avaliada                 NaN   \n",
       "1       Finalizada não avaliada         Não Avaliada                 NaN   \n",
       "2       Finalizada não avaliada         Não Avaliada                 NaN   \n",
       "3       Finalizada não avaliada         Não Avaliada                 NaN   \n",
       "4       Finalizada não avaliada         Não Avaliada                 NaN   \n",
       "...                         ...                  ...                 ...   \n",
       "107242      Finalizada avaliada            Resolvida                 5.0   \n",
       "107243      Finalizada avaliada        Não Resolvida                 3.0   \n",
       "107244      Finalizada avaliada        Não Resolvida                 1.0   \n",
       "107245      Finalizada avaliada        Não Resolvida                 2.0   \n",
       "107246      Finalizada avaliada        Não Resolvida                 1.0   \n",
       "\n",
       "        Total  \n",
       "0         1.0  \n",
       "1         1.0  \n",
       "2         1.0  \n",
       "3         1.0  \n",
       "4         1.0  \n",
       "...       ...  \n",
       "107242    NaN  \n",
       "107243    NaN  \n",
       "107244    NaN  \n",
       "107245    NaN  \n",
       "107246    NaN  \n",
       "\n",
       "[1079391 rows x 20 columns]"
      ],
      "text/html": "<div>\n<style scoped>\n    .dataframe tbody tr th:only-of-type {\n        vertical-align: middle;\n    }\n\n    .dataframe tbody tr th {\n        vertical-align: top;\n    }\n\n    .dataframe thead th {\n        text-align: right;\n    }\n</style>\n<table border=\"1\" class=\"dataframe\">\n  <thead>\n    <tr style=\"text-align: right;\">\n      <th></th>\n      <th>Região</th>\n      <th>UF</th>\n      <th>Cidade</th>\n      <th>Sexo</th>\n      <th>Faixa Etária</th>\n      <th>Data Finalização</th>\n      <th>Tempo Resposta</th>\n      <th>Nome Fantasia</th>\n      <th>Segmento de Mercado</th>\n      <th>Área</th>\n      <th>Assunto</th>\n      <th>Grupo Problema</th>\n      <th>Problema</th>\n      <th>Como Comprou Contratou</th>\n      <th>Procurou Empresa</th>\n      <th>Respondida</th>\n      <th>Situação</th>\n      <th>Avaliação Reclamação</th>\n      <th>Nota do Consumidor</th>\n      <th>Total</th>\n    </tr>\n  </thead>\n  <tbody>\n    <tr>\n      <th>0</th>\n      <td>S</td>\n      <td>PR</td>\n      <td>Curitiba</td>\n      <td>F</td>\n      <td>entre 31 a 40 anos</td>\n      <td>01/01/2020</td>\n      <td>10.0</td>\n      <td>Itaucard</td>\n      <td>Bancos, Financeiras e Administradoras de Cartão</td>\n      <td>Serviços Financeiros</td>\n      <td>Banco de Dados e Cadastros de Consumidores (SP...</td>\n      <td>Cobrança / Contestação</td>\n      <td>Cobrança de tarifas, taxas, valores não previs...</td>\n      <td>SMS / Mensagem de texto</td>\n      <td>N</td>\n      <td>S</td>\n      <td>Finalizada não avaliada</td>\n      <td>Não Avaliada</td>\n      <td>NaN</td>\n      <td>1.0</td>\n    </tr>\n    <tr>\n      <th>1</th>\n      <td>S</td>\n      <td>PR</td>\n      <td>São José dos Pinhais</td>\n      <td>F</td>\n      <td>entre 21 a 30 anos</td>\n      <td>01/01/2020</td>\n      <td>10.0</td>\n      <td>Tim</td>\n      <td>Operadoras de Telecomunicações (Telefonia, Int...</td>\n      <td>Telecomunicações</td>\n      <td>Internet Móvel</td>\n      <td>Contrato / Oferta</td>\n      <td>Alteração de plano/contrato sem solicitação ou...</td>\n      <td>Internet</td>\n      <td>N</td>\n      <td>S</td>\n      <td>Finalizada não avaliada</td>\n      <td>Não Avaliada</td>\n      <td>NaN</td>\n      <td>1.0</td>\n    </tr>\n    <tr>\n      <th>2</th>\n      <td>SE</td>\n      <td>ES</td>\n      <td>Serra</td>\n      <td>M</td>\n      <td>entre 41 a 50 anos</td>\n      <td>03/01/2020</td>\n      <td>9.0</td>\n      <td>SKY</td>\n      <td>Operadoras de Telecomunicações (Telefonia, Int...</td>\n      <td>Telecomunicações</td>\n      <td>TV por Assinatura</td>\n      <td>Atendimento / SAC</td>\n      <td>Dificuldade de contato / acesso a outros canai...</td>\n      <td>Loja física</td>\n      <td>S</td>\n      <td>S</td>\n      <td>Finalizada não avaliada</td>\n      <td>Não Avaliada</td>\n      <td>NaN</td>\n      <td>1.0</td>\n    </tr>\n    <tr>\n      <th>3</th>\n      <td>SE</td>\n      <td>SP</td>\n      <td>Jundiaí</td>\n      <td>M</td>\n      <td>entre 31 a 40 anos</td>\n      <td>04/01/2020</td>\n      <td>9.0</td>\n      <td>Americanas.com</td>\n      <td>Comércio Eletrônico</td>\n      <td>Produtos Eletrodomésticos e Eletrônicos</td>\n      <td>Eletroportáteis ( batedeira, liquidificador, u...</td>\n      <td>Contrato / Oferta</td>\n      <td>Oferta não cumprida / serviço não fornecido/ v...</td>\n      <td>Internet</td>\n      <td>N</td>\n      <td>S</td>\n      <td>Finalizada não avaliada</td>\n      <td>Não Avaliada</td>\n      <td>NaN</td>\n      <td>1.0</td>\n    </tr>\n    <tr>\n      <th>4</th>\n      <td>S</td>\n      <td>RS</td>\n      <td>Porto Alegre</td>\n      <td>M</td>\n      <td>entre 61 a 70 anos</td>\n      <td>07/01/2020</td>\n      <td>10.0</td>\n      <td>Banco BMG</td>\n      <td>Bancos, Financeiras e Administradoras de Cartão</td>\n      <td>Serviços Financeiros</td>\n      <td>Crédito Pessoal e Demais Empréstimos (exceto f...</td>\n      <td>Atendimento / SAC</td>\n      <td>SAC - Demanda não resolvida / não respondida /...</td>\n      <td>Loja física</td>\n      <td>S</td>\n      <td>S</td>\n      <td>Finalizada não avaliada</td>\n      <td>Não Avaliada</td>\n      <td>NaN</td>\n      <td>1.0</td>\n    </tr>\n    <tr>\n      <th>...</th>\n      <td>...</td>\n      <td>...</td>\n      <td>...</td>\n      <td>...</td>\n      <td>...</td>\n      <td>...</td>\n      <td>...</td>\n      <td>...</td>\n      <td>...</td>\n      <td>...</td>\n      <td>...</td>\n      <td>...</td>\n      <td>...</td>\n      <td>...</td>\n      <td>...</td>\n      <td>...</td>\n      <td>...</td>\n      <td>...</td>\n      <td>...</td>\n      <td>...</td>\n    </tr>\n    <tr>\n      <th>107242</th>\n      <td>N</td>\n      <td>PA</td>\n      <td>Ananindeua</td>\n      <td>F</td>\n      <td>entre 31 a 40 anos</td>\n      <td>2020-11-30</td>\n      <td>0.0</td>\n      <td>Serasa Experian</td>\n      <td>Bancos de Dados e Cadastros de Consumidores</td>\n      <td>Serviços Financeiros</td>\n      <td>Banco de Dados e Cadastros de Consumidores (SP...</td>\n      <td>Informação</td>\n      <td>Dados pessoais ou financeiros consultados, col...</td>\n      <td>Internet</td>\n      <td>N</td>\n      <td>S</td>\n      <td>Finalizada avaliada</td>\n      <td>Resolvida</td>\n      <td>5.0</td>\n      <td>NaN</td>\n    </tr>\n    <tr>\n      <th>107243</th>\n      <td>SE</td>\n      <td>MG</td>\n      <td>Uberlândia</td>\n      <td>M</td>\n      <td>entre 21 a 30 anos</td>\n      <td>2020-11-30</td>\n      <td>0.0</td>\n      <td>Serasa Experian</td>\n      <td>Bancos de Dados e Cadastros de Consumidores</td>\n      <td>Serviços Financeiros</td>\n      <td>Banco de Dados e Cadastros de Consumidores (SP...</td>\n      <td>Informação</td>\n      <td>Dados pessoais ou financeiros consultados, col...</td>\n      <td>Internet</td>\n      <td>N</td>\n      <td>S</td>\n      <td>Finalizada avaliada</td>\n      <td>Não Resolvida</td>\n      <td>3.0</td>\n      <td>NaN</td>\n    </tr>\n    <tr>\n      <th>107244</th>\n      <td>NE</td>\n      <td>RN</td>\n      <td>Equador</td>\n      <td>M</td>\n      <td>entre 31 a 40 anos</td>\n      <td>2020-11-30</td>\n      <td>0.0</td>\n      <td>Serasa Experian</td>\n      <td>Bancos de Dados e Cadastros de Consumidores</td>\n      <td>Serviços Financeiros</td>\n      <td>Banco de Dados e Cadastros de Consumidores (SP...</td>\n      <td>Informação</td>\n      <td>Dados pessoais ou financeiros consultados, col...</td>\n      <td>Internet</td>\n      <td>N</td>\n      <td>S</td>\n      <td>Finalizada avaliada</td>\n      <td>Não Resolvida</td>\n      <td>1.0</td>\n      <td>NaN</td>\n    </tr>\n    <tr>\n      <th>107245</th>\n      <td>SE</td>\n      <td>RJ</td>\n      <td>Magé</td>\n      <td>M</td>\n      <td>entre 31 a 40 anos</td>\n      <td>2020-11-30</td>\n      <td>0.0</td>\n      <td>Serasa Experian</td>\n      <td>Bancos de Dados e Cadastros de Consumidores</td>\n      <td>Serviços Financeiros</td>\n      <td>Banco de Dados e Cadastros de Consumidores (SP...</td>\n      <td>Informação</td>\n      <td>Dados pessoais ou financeiros consultados, col...</td>\n      <td>Internet</td>\n      <td>N</td>\n      <td>S</td>\n      <td>Finalizada avaliada</td>\n      <td>Não Resolvida</td>\n      <td>2.0</td>\n      <td>NaN</td>\n    </tr>\n    <tr>\n      <th>107246</th>\n      <td>SE</td>\n      <td>SP</td>\n      <td>São Paulo</td>\n      <td>M</td>\n      <td>entre 31 a 40 anos</td>\n      <td>2020-11-30</td>\n      <td>0.0</td>\n      <td>Serasa Experian</td>\n      <td>Bancos de Dados e Cadastros de Consumidores</td>\n      <td>Serviços Financeiros</td>\n      <td>Banco de Dados e Cadastros de Consumidores (SP...</td>\n      <td>Informação</td>\n      <td>Dados pessoais ou financeiros consultados, col...</td>\n      <td>Internet</td>\n      <td>N</td>\n      <td>S</td>\n      <td>Finalizada avaliada</td>\n      <td>Não Resolvida</td>\n      <td>1.0</td>\n      <td>NaN</td>\n    </tr>\n  </tbody>\n</table>\n<p>1079391 rows × 20 columns</p>\n</div>"
     },
     "metadata": {},
     "execution_count": 6
    }
   ],
   "source": [
    "datasets_2020 = pd.concat(datasets)\n",
    "datasets_2020"
   ]
  },
  {
   "source": [
    "Foi utilizada a função \"pd.concat()\" para concatenar todos os dados, ou seja, foi feita uma junção de todos os dados em apenas uma variável. Como foi dito anteriormente as colunas de todos os *datasets* são iguais, portanto é fácil fazer a junção de todos os meses para ter uma base de dados única ao invés de toda sempre ser necessário ler arquivo por arquivo, isso facilita muito já que a análise desejada é de todos os meses do ano e não de um em específico. \n",
    "\n",
    "A função *concat* é muito útil e fácil de ser utilizada para diversas aplicações, como por exemplo, poderíamos desejar a interseção dos dados ao invés da união de todos, para fazer isso bastaria fazer uma pequena mudanção dentro da função e seria realizado. Isso facilita muito principalmente com um grande número de dados que seria impossível de realizar essa concateção de tabelas à mão. Para saber mais sobre essa função basta consultar a sua [documentação](https://pandas.pydata.org/pandas-docs/stable/user_guide/merging.html)."
   ],
   "cell_type": "markdown",
   "metadata": {}
  },
  {
   "source": [
    "Visto que essa análise está focando em *insights* foram definidas algumas hipóteses simples para que elas possam ser validadas com dado ou não. O interessante da Análise de Dados é que a medida que se trabalha com os dados irá ter cada vez mais ideias. A geração de hipóteses é sempre importante porque dessa forma saberá o que se desea obter através dos dados e se nesses dados tem todas as informações necessárias, caso não tenha todas as informações necessárias será necessário procurar outra fonte complementar ou então - se for trabalho para uma empresa - solicitar a pessoa responsável por colher os dados. Um ponto importante é que antes de testar as hipóteses é necessário ter algumas ideias dos dados que serão utilizados, para que assim seja possível gerar as hipóteses e os resultados."
   ],
   "cell_type": "markdown",
   "metadata": {}
  },
  {
   "source": [
    "## Número de Reclamações por Estado \n",
    "\n",
    "**Hipótese 1**: Os estados da região Sudeste (região mais populosa) são os estados que mais possuem reclamações registradas.\n",
    "\n",
    "Essa Hipótese é feita com base de que se espera que os estados que tem mais pessoas também sejam os lugares que possuem maior número de reclamações. "
   ],
   "cell_type": "markdown",
   "metadata": {}
  },
  {
   "cell_type": "code",
   "execution_count": 7,
   "metadata": {},
   "outputs": [
    {
     "output_type": "execute_result",
     "data": {
      "text/plain": [
       "SP    282922\n",
       "MG    107443\n",
       "PR     98727\n",
       "RJ     93663\n",
       "RS     76797\n",
       "BA     60782\n",
       "DF     45009\n",
       "SC     42774\n",
       "GO     32063\n",
       "CE     29386\n",
       "PE     28246\n",
       "ES     27366\n",
       "MS     22461\n",
       "MA     20691\n",
       "MT     20629\n",
       "PI     18582\n",
       "PA     13244\n",
       "PB     11655\n",
       "AM     10840\n",
       "RN      8256\n",
       "AL      7065\n",
       "SE      5260\n",
       "TO      5068\n",
       "RO      4434\n",
       "AC      3238\n",
       "AP      1398\n",
       "RR      1392\n",
       "Name: UF, dtype: int64"
      ]
     },
     "metadata": {},
     "execution_count": 7
    }
   ],
   "source": [
    "datasets_2020['UF'].value_counts(ascending=False)"
   ]
  },
  {
   "source": [
    "A **Hipótese 1** é **falso**, não foi validado pelo fato de que o estado de que o terceiro estado que possui maior número de reclamações é o Paraná que não é um estado da região Sudeste. Mesmo que a hipótese não tenha sido validada é importante ver que 3 dos 4 estados da região Sudeste estão entre os quatro primeiros colocados com maior número de reclamações. "
   ],
   "cell_type": "markdown",
   "metadata": {}
  },
  {
   "source": [
    "## Quantidade de Reclamações por Sexo\n",
    "\n",
    "**Hipótese 2**: Os homens fazem mais reclamações. "
   ],
   "cell_type": "markdown",
   "metadata": {}
  },
  {
   "cell_type": "code",
   "execution_count": 8,
   "metadata": {},
   "outputs": [
    {
     "output_type": "execute_result",
     "data": {
      "text/plain": [
       "M    605094\n",
       "F    474063\n",
       "O       222\n",
       "Name: Sexo, dtype: int64"
      ]
     },
     "metadata": {},
     "execution_count": 8
    }
   ],
   "source": [
    "datasets_2020['Sexo'].value_counts()"
   ]
  },
  {
   "source": [
    "A sigla \"O\" é referente e \"outros sexos\" para aquelas pessoas que não se identificam nem com o sexo feminino nem masculino."
   ],
   "cell_type": "markdown",
   "metadata": {}
  },
  {
   "cell_type": "code",
   "execution_count": 65,
   "metadata": {},
   "outputs": [
    {
     "output_type": "display_data",
     "data": {
      "text/plain": "<Figure size 720x432 with 1 Axes>",
      "image/svg+xml": "<?xml version=\"1.0\" encoding=\"utf-8\" standalone=\"no\"?>\n<!DOCTYPE svg PUBLIC \"-//W3C//DTD SVG 1.1//EN\"\n  \"http://www.w3.org/Graphics/SVG/1.1/DTD/svg11.dtd\">\n<!-- Created with matplotlib (https://matplotlib.org/) -->\n<svg height=\"396.303437pt\" version=\"1.1\" viewBox=\"0 0 572.4 396.303437\" width=\"572.4pt\" xmlns=\"http://www.w3.org/2000/svg\" xmlns:xlink=\"http://www.w3.org/1999/xlink\">\n <metadata>\n  <rdf:RDF xmlns:cc=\"http://creativecommons.org/ns#\" xmlns:dc=\"http://purl.org/dc/elements/1.1/\" xmlns:rdf=\"http://www.w3.org/1999/02/22-rdf-syntax-ns#\">\n   <cc:Work>\n    <dc:type rdf:resource=\"http://purl.org/dc/dcmitype/StillImage\"/>\n    <dc:date>2021-01-04T21:46:16.585039</dc:date>\n    <dc:format>image/svg+xml</dc:format>\n    <dc:creator>\n     <cc:Agent>\n      <dc:title>Matplotlib v3.3.2, https://matplotlib.org/</dc:title>\n     </cc:Agent>\n    </dc:creator>\n   </cc:Work>\n  </rdf:RDF>\n </metadata>\n <defs>\n  <style type=\"text/css\">*{stroke-linecap:butt;stroke-linejoin:round;}</style>\n </defs>\n <g id=\"figure_1\">\n  <g id=\"patch_1\">\n   <path d=\"M 0 396.303437 \nL 572.4 396.303437 \nL 572.4 0 \nL 0 0 \nz\n\" style=\"fill:#ffffff;\"/>\n  </g>\n  <g id=\"axes_1\">\n   <g id=\"patch_2\">\n    <path d=\"M 7.2 353.34375 \nL 565.2 353.34375 \nL 565.2 27.18375 \nL 7.2 27.18375 \nz\n\" style=\"fill:#ffffff;\"/>\n   </g>\n   <g id=\"matplotlib.axis_1\">\n    <g id=\"xtick_1\">\n     <g id=\"text_1\">\n      <!-- M -->\n      <g style=\"fill:#262626;\" transform=\"translate(95.454531 371.202031)scale(0.11 -0.11)\">\n       <defs>\n        <path d=\"M 9.8125 72.90625 \nL 24.515625 72.90625 \nL 43.109375 23.296875 \nL 61.8125 72.90625 \nL 76.515625 72.90625 \nL 76.515625 0 \nL 66.890625 0 \nL 66.890625 64.015625 \nL 48.09375 14.015625 \nL 38.1875 14.015625 \nL 19.390625 64.015625 \nL 19.390625 0 \nL 9.8125 0 \nz\n\" id=\"DejaVuSans-77\"/>\n       </defs>\n       <use xlink:href=\"#DejaVuSans-77\"/>\n      </g>\n     </g>\n    </g>\n    <g id=\"xtick_2\">\n     <g id=\"text_2\">\n      <!-- F -->\n      <g style=\"fill:#262626;\" transform=\"translate(283.036641 371.202031)scale(0.11 -0.11)\">\n       <defs>\n        <path d=\"M 9.8125 72.90625 \nL 51.703125 72.90625 \nL 51.703125 64.59375 \nL 19.671875 64.59375 \nL 19.671875 43.109375 \nL 48.578125 43.109375 \nL 48.578125 34.8125 \nL 19.671875 34.8125 \nL 19.671875 0 \nL 9.8125 0 \nz\n\" id=\"DejaVuSans-70\"/>\n       </defs>\n       <use xlink:href=\"#DejaVuSans-70\"/>\n      </g>\n     </g>\n    </g>\n    <g id=\"xtick_3\">\n     <g id=\"text_3\">\n      <!-- O -->\n      <g style=\"fill:#262626;\" transform=\"translate(467.870469 371.202031)scale(0.11 -0.11)\">\n       <defs>\n        <path d=\"M 39.40625 66.21875 \nQ 28.65625 66.21875 22.328125 58.203125 \nQ 16.015625 50.203125 16.015625 36.375 \nQ 16.015625 22.609375 22.328125 14.59375 \nQ 28.65625 6.59375 39.40625 6.59375 \nQ 50.140625 6.59375 56.421875 14.59375 \nQ 62.703125 22.609375 62.703125 36.375 \nQ 62.703125 50.203125 56.421875 58.203125 \nQ 50.140625 66.21875 39.40625 66.21875 \nz\nM 39.40625 74.21875 \nQ 54.734375 74.21875 63.90625 63.9375 \nQ 73.09375 53.65625 73.09375 36.375 \nQ 73.09375 19.140625 63.90625 8.859375 \nQ 54.734375 -1.421875 39.40625 -1.421875 \nQ 24.03125 -1.421875 14.8125 8.828125 \nQ 5.609375 19.09375 5.609375 36.375 \nQ 5.609375 53.65625 14.8125 63.9375 \nQ 24.03125 74.21875 39.40625 74.21875 \nz\n\" id=\"DejaVuSans-79\"/>\n       </defs>\n       <use xlink:href=\"#DejaVuSans-79\"/>\n      </g>\n     </g>\n    </g>\n    <g id=\"text_4\">\n     <!-- Sexo -->\n     <g style=\"fill:#262626;\" transform=\"translate(271.769063 386.607812)scale(0.12 -0.12)\">\n      <defs>\n       <path d=\"M 53.515625 70.515625 \nL 53.515625 60.890625 \nQ 47.90625 63.578125 42.921875 64.890625 \nQ 37.9375 66.21875 33.296875 66.21875 \nQ 25.25 66.21875 20.875 63.09375 \nQ 16.5 59.96875 16.5 54.203125 \nQ 16.5 49.359375 19.40625 46.890625 \nQ 22.3125 44.4375 30.421875 42.921875 \nL 36.375 41.703125 \nQ 47.40625 39.59375 52.65625 34.296875 \nQ 57.90625 29 57.90625 20.125 \nQ 57.90625 9.515625 50.796875 4.046875 \nQ 43.703125 -1.421875 29.984375 -1.421875 \nQ 24.8125 -1.421875 18.96875 -0.25 \nQ 13.140625 0.921875 6.890625 3.21875 \nL 6.890625 13.375 \nQ 12.890625 10.015625 18.65625 8.296875 \nQ 24.421875 6.59375 29.984375 6.59375 \nQ 38.421875 6.59375 43.015625 9.90625 \nQ 47.609375 13.234375 47.609375 19.390625 \nQ 47.609375 24.75 44.3125 27.78125 \nQ 41.015625 30.8125 33.5 32.328125 \nL 27.484375 33.5 \nQ 16.453125 35.6875 11.515625 40.375 \nQ 6.59375 45.0625 6.59375 53.421875 \nQ 6.59375 63.09375 13.40625 68.65625 \nQ 20.21875 74.21875 32.171875 74.21875 \nQ 37.3125 74.21875 42.625 73.28125 \nQ 47.953125 72.359375 53.515625 70.515625 \nz\n\" id=\"DejaVuSans-83\"/>\n       <path d=\"M 56.203125 29.59375 \nL 56.203125 25.203125 \nL 14.890625 25.203125 \nQ 15.484375 15.921875 20.484375 11.0625 \nQ 25.484375 6.203125 34.421875 6.203125 \nQ 39.59375 6.203125 44.453125 7.46875 \nQ 49.3125 8.734375 54.109375 11.28125 \nL 54.109375 2.78125 \nQ 49.265625 0.734375 44.1875 -0.34375 \nQ 39.109375 -1.421875 33.890625 -1.421875 \nQ 20.796875 -1.421875 13.15625 6.1875 \nQ 5.515625 13.8125 5.515625 26.8125 \nQ 5.515625 40.234375 12.765625 48.109375 \nQ 20.015625 56 32.328125 56 \nQ 43.359375 56 49.78125 48.890625 \nQ 56.203125 41.796875 56.203125 29.59375 \nz\nM 47.21875 32.234375 \nQ 47.125 39.59375 43.09375 43.984375 \nQ 39.0625 48.390625 32.421875 48.390625 \nQ 24.90625 48.390625 20.390625 44.140625 \nQ 15.875 39.890625 15.1875 32.171875 \nz\n\" id=\"DejaVuSans-101\"/>\n       <path d=\"M 54.890625 54.6875 \nL 35.109375 28.078125 \nL 55.90625 0 \nL 45.3125 0 \nL 29.390625 21.484375 \nL 13.484375 0 \nL 2.875 0 \nL 24.125 28.609375 \nL 4.6875 54.6875 \nL 15.28125 54.6875 \nL 29.78125 35.203125 \nL 44.28125 54.6875 \nz\n\" id=\"DejaVuSans-120\"/>\n       <path d=\"M 30.609375 48.390625 \nQ 23.390625 48.390625 19.1875 42.75 \nQ 14.984375 37.109375 14.984375 27.296875 \nQ 14.984375 17.484375 19.15625 11.84375 \nQ 23.34375 6.203125 30.609375 6.203125 \nQ 37.796875 6.203125 41.984375 11.859375 \nQ 46.1875 17.53125 46.1875 27.296875 \nQ 46.1875 37.015625 41.984375 42.703125 \nQ 37.796875 48.390625 30.609375 48.390625 \nz\nM 30.609375 56 \nQ 42.328125 56 49.015625 48.375 \nQ 55.71875 40.765625 55.71875 27.296875 \nQ 55.71875 13.875 49.015625 6.21875 \nQ 42.328125 -1.421875 30.609375 -1.421875 \nQ 18.84375 -1.421875 12.171875 6.21875 \nQ 5.515625 13.875 5.515625 27.296875 \nQ 5.515625 40.765625 12.171875 48.375 \nQ 18.84375 56 30.609375 56 \nz\n\" id=\"DejaVuSans-111\"/>\n      </defs>\n      <use xlink:href=\"#DejaVuSans-83\"/>\n      <use x=\"63.476562\" xlink:href=\"#DejaVuSans-101\"/>\n      <use x=\"123.25\" xlink:href=\"#DejaVuSans-120\"/>\n      <use x=\"179.304688\" xlink:href=\"#DejaVuSans-111\"/>\n     </g>\n    </g>\n   </g>\n   <g id=\"patch_3\">\n    <path clip-path=\"url(#p7d0b3cbaa9)\" d=\"M 25.8 353.34375 \nL 174.6 353.34375 \nL 174.6 42.715179 \nL 25.8 42.715179 \nz\n\" style=\"fill:#5875a4;stroke:#ffffff;stroke-linejoin:miter;\"/>\n   </g>\n   <g id=\"patch_4\">\n    <path clip-path=\"url(#p7d0b3cbaa9)\" d=\"M 211.8 353.34375 \nL 360.6 353.34375 \nL 360.6 109.980715 \nL 211.8 109.980715 \nz\n\" style=\"fill:#cc8963;stroke:#ffffff;stroke-linejoin:miter;\"/>\n   </g>\n   <g id=\"patch_5\">\n    <path clip-path=\"url(#p7d0b3cbaa9)\" d=\"M 397.8 353.34375 \nL 546.6 353.34375 \nL 546.6 353.229785 \nL 397.8 353.229785 \nz\n\" style=\"fill:#5f9e6e;stroke:#ffffff;stroke-linejoin:miter;\"/>\n   </g>\n   <g id=\"line2d_1\">\n    <path clip-path=\"url(#p7d0b3cbaa9)\" d=\"M 0 0 \n\" style=\"fill:none;stroke:#424242;stroke-linecap:round;stroke-width:2.7;\"/>\n   </g>\n   <g id=\"line2d_2\">\n    <path clip-path=\"url(#p7d0b3cbaa9)\" d=\"M 0 0 \n\" style=\"fill:none;stroke:#424242;stroke-linecap:round;stroke-width:2.7;\"/>\n   </g>\n   <g id=\"line2d_3\">\n    <path clip-path=\"url(#p7d0b3cbaa9)\" d=\"M 0 0 \n\" style=\"fill:none;stroke:#424242;stroke-linecap:round;stroke-width:2.7;\"/>\n   </g>\n   <g id=\"text_5\">\n    <!-- 605094 -->\n    <g style=\"fill:#262626;\" transform=\"translate(77.295 37.58162)scale(0.12 -0.12)\">\n     <defs>\n      <path d=\"M 33.015625 40.375 \nQ 26.375 40.375 22.484375 35.828125 \nQ 18.609375 31.296875 18.609375 23.390625 \nQ 18.609375 15.53125 22.484375 10.953125 \nQ 26.375 6.390625 33.015625 6.390625 \nQ 39.65625 6.390625 43.53125 10.953125 \nQ 47.40625 15.53125 47.40625 23.390625 \nQ 47.40625 31.296875 43.53125 35.828125 \nQ 39.65625 40.375 33.015625 40.375 \nz\nM 52.59375 71.296875 \nL 52.59375 62.3125 \nQ 48.875 64.0625 45.09375 64.984375 \nQ 41.3125 65.921875 37.59375 65.921875 \nQ 27.828125 65.921875 22.671875 59.328125 \nQ 17.53125 52.734375 16.796875 39.40625 \nQ 19.671875 43.65625 24.015625 45.921875 \nQ 28.375 48.1875 33.59375 48.1875 \nQ 44.578125 48.1875 50.953125 41.515625 \nQ 57.328125 34.859375 57.328125 23.390625 \nQ 57.328125 12.15625 50.6875 5.359375 \nQ 44.046875 -1.421875 33.015625 -1.421875 \nQ 20.359375 -1.421875 13.671875 8.265625 \nQ 6.984375 17.96875 6.984375 36.375 \nQ 6.984375 53.65625 15.1875 63.9375 \nQ 23.390625 74.21875 37.203125 74.21875 \nQ 40.921875 74.21875 44.703125 73.484375 \nQ 48.484375 72.75 52.59375 71.296875 \nz\n\" id=\"DejaVuSans-54\"/>\n      <path d=\"M 31.78125 66.40625 \nQ 24.171875 66.40625 20.328125 58.90625 \nQ 16.5 51.421875 16.5 36.375 \nQ 16.5 21.390625 20.328125 13.890625 \nQ 24.171875 6.390625 31.78125 6.390625 \nQ 39.453125 6.390625 43.28125 13.890625 \nQ 47.125 21.390625 47.125 36.375 \nQ 47.125 51.421875 43.28125 58.90625 \nQ 39.453125 66.40625 31.78125 66.40625 \nz\nM 31.78125 74.21875 \nQ 44.046875 74.21875 50.515625 64.515625 \nQ 56.984375 54.828125 56.984375 36.375 \nQ 56.984375 17.96875 50.515625 8.265625 \nQ 44.046875 -1.421875 31.78125 -1.421875 \nQ 19.53125 -1.421875 13.0625 8.265625 \nQ 6.59375 17.96875 6.59375 36.375 \nQ 6.59375 54.828125 13.0625 64.515625 \nQ 19.53125 74.21875 31.78125 74.21875 \nz\n\" id=\"DejaVuSans-48\"/>\n      <path d=\"M 10.796875 72.90625 \nL 49.515625 72.90625 \nL 49.515625 64.59375 \nL 19.828125 64.59375 \nL 19.828125 46.734375 \nQ 21.96875 47.46875 24.109375 47.828125 \nQ 26.265625 48.1875 28.421875 48.1875 \nQ 40.625 48.1875 47.75 41.5 \nQ 54.890625 34.8125 54.890625 23.390625 \nQ 54.890625 11.625 47.5625 5.09375 \nQ 40.234375 -1.421875 26.90625 -1.421875 \nQ 22.3125 -1.421875 17.546875 -0.640625 \nQ 12.796875 0.140625 7.71875 1.703125 \nL 7.71875 11.625 \nQ 12.109375 9.234375 16.796875 8.0625 \nQ 21.484375 6.890625 26.703125 6.890625 \nQ 35.15625 6.890625 40.078125 11.328125 \nQ 45.015625 15.765625 45.015625 23.390625 \nQ 45.015625 31 40.078125 35.4375 \nQ 35.15625 39.890625 26.703125 39.890625 \nQ 22.75 39.890625 18.8125 39.015625 \nQ 14.890625 38.140625 10.796875 36.28125 \nz\n\" id=\"DejaVuSans-53\"/>\n      <path d=\"M 10.984375 1.515625 \nL 10.984375 10.5 \nQ 14.703125 8.734375 18.5 7.8125 \nQ 22.3125 6.890625 25.984375 6.890625 \nQ 35.75 6.890625 40.890625 13.453125 \nQ 46.046875 20.015625 46.78125 33.40625 \nQ 43.953125 29.203125 39.59375 26.953125 \nQ 35.25 24.703125 29.984375 24.703125 \nQ 19.046875 24.703125 12.671875 31.3125 \nQ 6.296875 37.9375 6.296875 49.421875 \nQ 6.296875 60.640625 12.9375 67.421875 \nQ 19.578125 74.21875 30.609375 74.21875 \nQ 43.265625 74.21875 49.921875 64.515625 \nQ 56.59375 54.828125 56.59375 36.375 \nQ 56.59375 19.140625 48.40625 8.859375 \nQ 40.234375 -1.421875 26.421875 -1.421875 \nQ 22.703125 -1.421875 18.890625 -0.6875 \nQ 15.09375 0.046875 10.984375 1.515625 \nz\nM 30.609375 32.421875 \nQ 37.25 32.421875 41.125 36.953125 \nQ 45.015625 41.5 45.015625 49.421875 \nQ 45.015625 57.28125 41.125 61.84375 \nQ 37.25 66.40625 30.609375 66.40625 \nQ 23.96875 66.40625 20.09375 61.84375 \nQ 16.21875 57.28125 16.21875 49.421875 \nQ 16.21875 41.5 20.09375 36.953125 \nQ 23.96875 32.421875 30.609375 32.421875 \nz\n\" id=\"DejaVuSans-57\"/>\n      <path d=\"M 37.796875 64.3125 \nL 12.890625 25.390625 \nL 37.796875 25.390625 \nz\nM 35.203125 72.90625 \nL 47.609375 72.90625 \nL 47.609375 25.390625 \nL 58.015625 25.390625 \nL 58.015625 17.1875 \nL 47.609375 17.1875 \nL 47.609375 0 \nL 37.796875 0 \nL 37.796875 17.1875 \nL 4.890625 17.1875 \nL 4.890625 26.703125 \nz\n\" id=\"DejaVuSans-52\"/>\n     </defs>\n     <use xlink:href=\"#DejaVuSans-54\"/>\n     <use x=\"63.623047\" xlink:href=\"#DejaVuSans-48\"/>\n     <use x=\"127.246094\" xlink:href=\"#DejaVuSans-53\"/>\n     <use x=\"190.869141\" xlink:href=\"#DejaVuSans-48\"/>\n     <use x=\"254.492188\" xlink:href=\"#DejaVuSans-57\"/>\n     <use x=\"318.115234\" xlink:href=\"#DejaVuSans-52\"/>\n    </g>\n   </g>\n   <g id=\"text_6\">\n    <!-- 474063 -->\n    <g style=\"fill:#262626;\" transform=\"translate(263.295 104.847156)scale(0.12 -0.12)\">\n     <defs>\n      <path d=\"M 8.203125 72.90625 \nL 55.078125 72.90625 \nL 55.078125 68.703125 \nL 28.609375 0 \nL 18.3125 0 \nL 43.21875 64.59375 \nL 8.203125 64.59375 \nz\n\" id=\"DejaVuSans-55\"/>\n      <path d=\"M 40.578125 39.3125 \nQ 47.65625 37.796875 51.625 33 \nQ 55.609375 28.21875 55.609375 21.1875 \nQ 55.609375 10.40625 48.1875 4.484375 \nQ 40.765625 -1.421875 27.09375 -1.421875 \nQ 22.515625 -1.421875 17.65625 -0.515625 \nQ 12.796875 0.390625 7.625 2.203125 \nL 7.625 11.71875 \nQ 11.71875 9.328125 16.59375 8.109375 \nQ 21.484375 6.890625 26.8125 6.890625 \nQ 36.078125 6.890625 40.9375 10.546875 \nQ 45.796875 14.203125 45.796875 21.1875 \nQ 45.796875 27.640625 41.28125 31.265625 \nQ 36.765625 34.90625 28.71875 34.90625 \nL 20.21875 34.90625 \nL 20.21875 43.015625 \nL 29.109375 43.015625 \nQ 36.375 43.015625 40.234375 45.921875 \nQ 44.09375 48.828125 44.09375 54.296875 \nQ 44.09375 59.90625 40.109375 62.90625 \nQ 36.140625 65.921875 28.71875 65.921875 \nQ 24.65625 65.921875 20.015625 65.03125 \nQ 15.375 64.15625 9.8125 62.3125 \nL 9.8125 71.09375 \nQ 15.4375 72.65625 20.34375 73.4375 \nQ 25.25 74.21875 29.59375 74.21875 \nQ 40.828125 74.21875 47.359375 69.109375 \nQ 53.90625 64.015625 53.90625 55.328125 \nQ 53.90625 49.265625 50.4375 45.09375 \nQ 46.96875 40.921875 40.578125 39.3125 \nz\n\" id=\"DejaVuSans-51\"/>\n     </defs>\n     <use xlink:href=\"#DejaVuSans-52\"/>\n     <use x=\"63.623047\" xlink:href=\"#DejaVuSans-55\"/>\n     <use x=\"127.246094\" xlink:href=\"#DejaVuSans-52\"/>\n     <use x=\"190.869141\" xlink:href=\"#DejaVuSans-48\"/>\n     <use x=\"254.492188\" xlink:href=\"#DejaVuSans-54\"/>\n     <use x=\"318.115234\" xlink:href=\"#DejaVuSans-51\"/>\n    </g>\n   </g>\n   <g id=\"text_7\">\n    <!-- 222 -->\n    <g style=\"fill:#262626;\" transform=\"translate(460.7475 348.096226)scale(0.12 -0.12)\">\n     <defs>\n      <path d=\"M 19.1875 8.296875 \nL 53.609375 8.296875 \nL 53.609375 0 \nL 7.328125 0 \nL 7.328125 8.296875 \nQ 12.9375 14.109375 22.625 23.890625 \nQ 32.328125 33.6875 34.8125 36.53125 \nQ 39.546875 41.84375 41.421875 45.53125 \nQ 43.3125 49.21875 43.3125 52.78125 \nQ 43.3125 58.59375 39.234375 62.25 \nQ 35.15625 65.921875 28.609375 65.921875 \nQ 23.96875 65.921875 18.8125 64.3125 \nQ 13.671875 62.703125 7.8125 59.421875 \nL 7.8125 69.390625 \nQ 13.765625 71.78125 18.9375 73 \nQ 24.125 74.21875 28.421875 74.21875 \nQ 39.75 74.21875 46.484375 68.546875 \nQ 53.21875 62.890625 53.21875 53.421875 \nQ 53.21875 48.921875 51.53125 44.890625 \nQ 49.859375 40.875 45.40625 35.40625 \nQ 44.1875 33.984375 37.640625 27.21875 \nQ 31.109375 20.453125 19.1875 8.296875 \nz\n\" id=\"DejaVuSans-50\"/>\n     </defs>\n     <use xlink:href=\"#DejaVuSans-50\"/>\n     <use x=\"63.623047\" xlink:href=\"#DejaVuSans-50\"/>\n     <use x=\"127.246094\" xlink:href=\"#DejaVuSans-50\"/>\n    </g>\n   </g>\n   <g id=\"text_8\">\n    <!-- Quantidade de reclamações por sexo -->\n    <g style=\"fill:#262626;\" transform=\"translate(118.486406 21.18375)scale(0.18 -0.18)\">\n     <defs>\n      <path d=\"M 39.40625 66.21875 \nQ 28.65625 66.21875 22.328125 58.203125 \nQ 16.015625 50.203125 16.015625 36.375 \nQ 16.015625 22.609375 22.328125 14.59375 \nQ 28.65625 6.59375 39.40625 6.59375 \nQ 50.140625 6.59375 56.421875 14.59375 \nQ 62.703125 22.609375 62.703125 36.375 \nQ 62.703125 50.203125 56.421875 58.203125 \nQ 50.140625 66.21875 39.40625 66.21875 \nz\nM 53.21875 1.3125 \nL 66.21875 -12.890625 \nL 54.296875 -12.890625 \nL 43.5 -1.21875 \nQ 41.890625 -1.3125 41.03125 -1.359375 \nQ 40.1875 -1.421875 39.40625 -1.421875 \nQ 24.03125 -1.421875 14.8125 8.859375 \nQ 5.609375 19.140625 5.609375 36.375 \nQ 5.609375 53.65625 14.8125 63.9375 \nQ 24.03125 74.21875 39.40625 74.21875 \nQ 54.734375 74.21875 63.90625 63.9375 \nQ 73.09375 53.65625 73.09375 36.375 \nQ 73.09375 23.6875 67.984375 14.640625 \nQ 62.890625 5.609375 53.21875 1.3125 \nz\n\" id=\"DejaVuSans-81\"/>\n      <path d=\"M 8.5 21.578125 \nL 8.5 54.6875 \nL 17.484375 54.6875 \nL 17.484375 21.921875 \nQ 17.484375 14.15625 20.5 10.265625 \nQ 23.53125 6.390625 29.59375 6.390625 \nQ 36.859375 6.390625 41.078125 11.03125 \nQ 45.3125 15.671875 45.3125 23.6875 \nL 45.3125 54.6875 \nL 54.296875 54.6875 \nL 54.296875 0 \nL 45.3125 0 \nL 45.3125 8.40625 \nQ 42.046875 3.421875 37.71875 1 \nQ 33.40625 -1.421875 27.6875 -1.421875 \nQ 18.265625 -1.421875 13.375 4.4375 \nQ 8.5 10.296875 8.5 21.578125 \nz\nM 31.109375 56 \nz\n\" id=\"DejaVuSans-117\"/>\n      <path d=\"M 34.28125 27.484375 \nQ 23.390625 27.484375 19.1875 25 \nQ 14.984375 22.515625 14.984375 16.5 \nQ 14.984375 11.71875 18.140625 8.90625 \nQ 21.296875 6.109375 26.703125 6.109375 \nQ 34.1875 6.109375 38.703125 11.40625 \nQ 43.21875 16.703125 43.21875 25.484375 \nL 43.21875 27.484375 \nz\nM 52.203125 31.203125 \nL 52.203125 0 \nL 43.21875 0 \nL 43.21875 8.296875 \nQ 40.140625 3.328125 35.546875 0.953125 \nQ 30.953125 -1.421875 24.3125 -1.421875 \nQ 15.921875 -1.421875 10.953125 3.296875 \nQ 6 8.015625 6 15.921875 \nQ 6 25.140625 12.171875 29.828125 \nQ 18.359375 34.515625 30.609375 34.515625 \nL 43.21875 34.515625 \nL 43.21875 35.40625 \nQ 43.21875 41.609375 39.140625 45 \nQ 35.0625 48.390625 27.6875 48.390625 \nQ 23 48.390625 18.546875 47.265625 \nQ 14.109375 46.140625 10.015625 43.890625 \nL 10.015625 52.203125 \nQ 14.9375 54.109375 19.578125 55.046875 \nQ 24.21875 56 28.609375 56 \nQ 40.484375 56 46.34375 49.84375 \nQ 52.203125 43.703125 52.203125 31.203125 \nz\n\" id=\"DejaVuSans-97\"/>\n      <path d=\"M 54.890625 33.015625 \nL 54.890625 0 \nL 45.90625 0 \nL 45.90625 32.71875 \nQ 45.90625 40.484375 42.875 44.328125 \nQ 39.84375 48.1875 33.796875 48.1875 \nQ 26.515625 48.1875 22.3125 43.546875 \nQ 18.109375 38.921875 18.109375 30.90625 \nL 18.109375 0 \nL 9.078125 0 \nL 9.078125 54.6875 \nL 18.109375 54.6875 \nL 18.109375 46.1875 \nQ 21.34375 51.125 25.703125 53.5625 \nQ 30.078125 56 35.796875 56 \nQ 45.21875 56 50.046875 50.171875 \nQ 54.890625 44.34375 54.890625 33.015625 \nz\n\" id=\"DejaVuSans-110\"/>\n      <path d=\"M 18.3125 70.21875 \nL 18.3125 54.6875 \nL 36.8125 54.6875 \nL 36.8125 47.703125 \nL 18.3125 47.703125 \nL 18.3125 18.015625 \nQ 18.3125 11.328125 20.140625 9.421875 \nQ 21.96875 7.515625 27.59375 7.515625 \nL 36.8125 7.515625 \nL 36.8125 0 \nL 27.59375 0 \nQ 17.1875 0 13.234375 3.875 \nQ 9.28125 7.765625 9.28125 18.015625 \nL 9.28125 47.703125 \nL 2.6875 47.703125 \nL 2.6875 54.6875 \nL 9.28125 54.6875 \nL 9.28125 70.21875 \nz\n\" id=\"DejaVuSans-116\"/>\n      <path d=\"M 9.421875 54.6875 \nL 18.40625 54.6875 \nL 18.40625 0 \nL 9.421875 0 \nz\nM 9.421875 75.984375 \nL 18.40625 75.984375 \nL 18.40625 64.59375 \nL 9.421875 64.59375 \nz\n\" id=\"DejaVuSans-105\"/>\n      <path d=\"M 45.40625 46.390625 \nL 45.40625 75.984375 \nL 54.390625 75.984375 \nL 54.390625 0 \nL 45.40625 0 \nL 45.40625 8.203125 \nQ 42.578125 3.328125 38.25 0.953125 \nQ 33.9375 -1.421875 27.875 -1.421875 \nQ 17.96875 -1.421875 11.734375 6.484375 \nQ 5.515625 14.40625 5.515625 27.296875 \nQ 5.515625 40.1875 11.734375 48.09375 \nQ 17.96875 56 27.875 56 \nQ 33.9375 56 38.25 53.625 \nQ 42.578125 51.265625 45.40625 46.390625 \nz\nM 14.796875 27.296875 \nQ 14.796875 17.390625 18.875 11.75 \nQ 22.953125 6.109375 30.078125 6.109375 \nQ 37.203125 6.109375 41.296875 11.75 \nQ 45.40625 17.390625 45.40625 27.296875 \nQ 45.40625 37.203125 41.296875 42.84375 \nQ 37.203125 48.484375 30.078125 48.484375 \nQ 22.953125 48.484375 18.875 42.84375 \nQ 14.796875 37.203125 14.796875 27.296875 \nz\n\" id=\"DejaVuSans-100\"/>\n      <path id=\"DejaVuSans-32\"/>\n      <path d=\"M 41.109375 46.296875 \nQ 39.59375 47.171875 37.8125 47.578125 \nQ 36.03125 48 33.890625 48 \nQ 26.265625 48 22.1875 43.046875 \nQ 18.109375 38.09375 18.109375 28.8125 \nL 18.109375 0 \nL 9.078125 0 \nL 9.078125 54.6875 \nL 18.109375 54.6875 \nL 18.109375 46.1875 \nQ 20.953125 51.171875 25.484375 53.578125 \nQ 30.03125 56 36.53125 56 \nQ 37.453125 56 38.578125 55.875 \nQ 39.703125 55.765625 41.0625 55.515625 \nz\n\" id=\"DejaVuSans-114\"/>\n      <path d=\"M 48.78125 52.59375 \nL 48.78125 44.1875 \nQ 44.96875 46.296875 41.140625 47.34375 \nQ 37.3125 48.390625 33.40625 48.390625 \nQ 24.65625 48.390625 19.8125 42.84375 \nQ 14.984375 37.3125 14.984375 27.296875 \nQ 14.984375 17.28125 19.8125 11.734375 \nQ 24.65625 6.203125 33.40625 6.203125 \nQ 37.3125 6.203125 41.140625 7.25 \nQ 44.96875 8.296875 48.78125 10.40625 \nL 48.78125 2.09375 \nQ 45.015625 0.34375 40.984375 -0.53125 \nQ 36.96875 -1.421875 32.421875 -1.421875 \nQ 20.0625 -1.421875 12.78125 6.34375 \nQ 5.515625 14.109375 5.515625 27.296875 \nQ 5.515625 40.671875 12.859375 48.328125 \nQ 20.21875 56 33.015625 56 \nQ 37.15625 56 41.109375 55.140625 \nQ 45.0625 54.296875 48.78125 52.59375 \nz\n\" id=\"DejaVuSans-99\"/>\n      <path d=\"M 9.421875 75.984375 \nL 18.40625 75.984375 \nL 18.40625 0 \nL 9.421875 0 \nz\n\" id=\"DejaVuSans-108\"/>\n      <path d=\"M 52 44.1875 \nQ 55.375 50.25 60.0625 53.125 \nQ 64.75 56 71.09375 56 \nQ 79.640625 56 84.28125 50.015625 \nQ 88.921875 44.046875 88.921875 33.015625 \nL 88.921875 0 \nL 79.890625 0 \nL 79.890625 32.71875 \nQ 79.890625 40.578125 77.09375 44.375 \nQ 74.3125 48.1875 68.609375 48.1875 \nQ 61.625 48.1875 57.5625 43.546875 \nQ 53.515625 38.921875 53.515625 30.90625 \nL 53.515625 0 \nL 44.484375 0 \nL 44.484375 32.71875 \nQ 44.484375 40.625 41.703125 44.40625 \nQ 38.921875 48.1875 33.109375 48.1875 \nQ 26.21875 48.1875 22.15625 43.53125 \nQ 18.109375 38.875 18.109375 30.90625 \nL 18.109375 0 \nL 9.078125 0 \nL 9.078125 54.6875 \nL 18.109375 54.6875 \nL 18.109375 46.1875 \nQ 21.1875 51.21875 25.484375 53.609375 \nQ 29.78125 56 35.6875 56 \nQ 41.65625 56 45.828125 52.96875 \nQ 50 49.953125 52 44.1875 \nz\n\" id=\"DejaVuSans-109\"/>\n      <path d=\"M 48.78125 52.59375 \nL 48.78125 44.1875 \nQ 44.96875 46.296875 41.140625 47.34375 \nQ 37.3125 48.390625 33.40625 48.390625 \nQ 24.65625 48.390625 19.8125 42.84375 \nQ 14.984375 37.3125 14.984375 27.296875 \nQ 14.984375 17.28125 19.8125 11.734375 \nQ 24.65625 6.203125 33.40625 6.203125 \nQ 37.3125 6.203125 41.140625 7.25 \nQ 44.96875 8.296875 48.78125 10.40625 \nL 48.78125 2.09375 \nQ 45.015625 0.34375 40.984375 -0.53125 \nQ 36.96875 -1.421875 32.421875 -1.421875 \nQ 20.0625 -1.421875 12.78125 6.34375 \nQ 5.515625 14.109375 5.515625 27.296875 \nQ 5.515625 40.671875 12.859375 48.328125 \nQ 20.21875 56 33.015625 56 \nQ 37.15625 56 41.109375 55.140625 \nQ 45.0625 54.296875 48.78125 52.59375 \nz\nM 36.078125 0 \nQ 38.765625 -3.03125 40.078125 -5.59375 \nQ 41.40625 -8.15625 41.40625 -10.5 \nQ 41.40625 -14.84375 38.46875 -17.0625 \nQ 35.546875 -19.28125 29.78125 -19.28125 \nQ 27.546875 -19.28125 25.421875 -18.984375 \nQ 23.296875 -18.703125 21.1875 -18.109375 \nL 21.1875 -11.71875 \nQ 22.859375 -12.546875 24.65625 -12.90625 \nQ 26.46875 -13.28125 28.765625 -13.28125 \nQ 31.640625 -13.28125 33.109375 -12.109375 \nQ 34.578125 -10.9375 34.578125 -8.6875 \nQ 34.578125 -7.234375 33.515625 -5.109375 \nQ 32.46875 -2.984375 30.28125 0 \nz\n\" id=\"DejaVuSans-231\"/>\n      <path d=\"M 30.609375 48.390625 \nQ 23.390625 48.390625 19.1875 42.75 \nQ 14.984375 37.109375 14.984375 27.296875 \nQ 14.984375 17.484375 19.15625 11.84375 \nQ 23.34375 6.203125 30.609375 6.203125 \nQ 37.796875 6.203125 41.984375 11.859375 \nQ 46.1875 17.53125 46.1875 27.296875 \nQ 46.1875 37.015625 41.984375 42.703125 \nQ 37.796875 48.390625 30.609375 48.390625 \nz\nM 30.609375 56 \nQ 42.328125 56 49.015625 48.375 \nQ 55.71875 40.765625 55.71875 27.296875 \nQ 55.71875 13.875 49.015625 6.21875 \nQ 42.328125 -1.421875 30.609375 -1.421875 \nQ 18.84375 -1.421875 12.171875 6.21875 \nQ 5.515625 13.875 5.515625 27.296875 \nQ 5.515625 40.765625 12.171875 48.375 \nQ 18.84375 56 30.609375 56 \nz\nM 30.421875 66.890625 \nL 27.640625 69.578125 \nQ 26.5625 70.5625 25.75 71.015625 \nQ 24.953125 71.484375 24.3125 71.484375 \nQ 22.46875 71.484375 21.578125 69.703125 \nQ 20.703125 67.921875 20.609375 63.921875 \nL 14.5 63.921875 \nQ 14.59375 70.515625 17.078125 74.09375 \nQ 19.578125 77.6875 24.03125 77.6875 \nQ 25.875 77.6875 27.4375 77 \nQ 29 76.3125 30.8125 74.703125 \nL 33.59375 72.015625 \nQ 34.671875 71.046875 35.46875 70.578125 \nQ 36.28125 70.125 36.921875 70.125 \nQ 38.765625 70.125 39.640625 71.90625 \nQ 40.53125 73.6875 40.625 77.6875 \nL 46.734375 77.6875 \nQ 46.625 71.09375 44.140625 67.5 \nQ 41.65625 63.921875 37.203125 63.921875 \nQ 35.359375 63.921875 33.796875 64.59375 \nQ 32.234375 65.28125 30.421875 66.890625 \nz\n\" id=\"DejaVuSans-245\"/>\n      <path d=\"M 44.28125 53.078125 \nL 44.28125 44.578125 \nQ 40.484375 46.53125 36.375 47.5 \nQ 32.28125 48.484375 27.875 48.484375 \nQ 21.1875 48.484375 17.84375 46.4375 \nQ 14.5 44.390625 14.5 40.28125 \nQ 14.5 37.15625 16.890625 35.375 \nQ 19.28125 33.59375 26.515625 31.984375 \nL 29.59375 31.296875 \nQ 39.15625 29.25 43.1875 25.515625 \nQ 47.21875 21.78125 47.21875 15.09375 \nQ 47.21875 7.46875 41.1875 3.015625 \nQ 35.15625 -1.421875 24.609375 -1.421875 \nQ 20.21875 -1.421875 15.453125 -0.5625 \nQ 10.6875 0.296875 5.421875 2 \nL 5.421875 11.28125 \nQ 10.40625 8.6875 15.234375 7.390625 \nQ 20.0625 6.109375 24.8125 6.109375 \nQ 31.15625 6.109375 34.5625 8.28125 \nQ 37.984375 10.453125 37.984375 14.40625 \nQ 37.984375 18.0625 35.515625 20.015625 \nQ 33.0625 21.96875 24.703125 23.78125 \nL 21.578125 24.515625 \nQ 13.234375 26.265625 9.515625 29.90625 \nQ 5.8125 33.546875 5.8125 39.890625 \nQ 5.8125 47.609375 11.28125 51.796875 \nQ 16.75 56 26.8125 56 \nQ 31.78125 56 36.171875 55.265625 \nQ 40.578125 54.546875 44.28125 53.078125 \nz\n\" id=\"DejaVuSans-115\"/>\n      <path d=\"M 18.109375 8.203125 \nL 18.109375 -20.796875 \nL 9.078125 -20.796875 \nL 9.078125 54.6875 \nL 18.109375 54.6875 \nL 18.109375 46.390625 \nQ 20.953125 51.265625 25.265625 53.625 \nQ 29.59375 56 35.59375 56 \nQ 45.5625 56 51.78125 48.09375 \nQ 58.015625 40.1875 58.015625 27.296875 \nQ 58.015625 14.40625 51.78125 6.484375 \nQ 45.5625 -1.421875 35.59375 -1.421875 \nQ 29.59375 -1.421875 25.265625 0.953125 \nQ 20.953125 3.328125 18.109375 8.203125 \nz\nM 48.6875 27.296875 \nQ 48.6875 37.203125 44.609375 42.84375 \nQ 40.53125 48.484375 33.40625 48.484375 \nQ 26.265625 48.484375 22.1875 42.84375 \nQ 18.109375 37.203125 18.109375 27.296875 \nQ 18.109375 17.390625 22.1875 11.75 \nQ 26.265625 6.109375 33.40625 6.109375 \nQ 40.53125 6.109375 44.609375 11.75 \nQ 48.6875 17.390625 48.6875 27.296875 \nz\n\" id=\"DejaVuSans-112\"/>\n     </defs>\n     <use xlink:href=\"#DejaVuSans-81\"/>\n     <use x=\"78.710938\" xlink:href=\"#DejaVuSans-117\"/>\n     <use x=\"142.089844\" xlink:href=\"#DejaVuSans-97\"/>\n     <use x=\"203.369141\" xlink:href=\"#DejaVuSans-110\"/>\n     <use x=\"266.748047\" xlink:href=\"#DejaVuSans-116\"/>\n     <use x=\"305.957031\" xlink:href=\"#DejaVuSans-105\"/>\n     <use x=\"333.740234\" xlink:href=\"#DejaVuSans-100\"/>\n     <use x=\"397.216797\" xlink:href=\"#DejaVuSans-97\"/>\n     <use x=\"458.496094\" xlink:href=\"#DejaVuSans-100\"/>\n     <use x=\"521.972656\" xlink:href=\"#DejaVuSans-101\"/>\n     <use x=\"583.496094\" xlink:href=\"#DejaVuSans-32\"/>\n     <use x=\"615.283203\" xlink:href=\"#DejaVuSans-100\"/>\n     <use x=\"678.759766\" xlink:href=\"#DejaVuSans-101\"/>\n     <use x=\"740.283203\" xlink:href=\"#DejaVuSans-32\"/>\n     <use x=\"772.070312\" xlink:href=\"#DejaVuSans-114\"/>\n     <use x=\"810.933594\" xlink:href=\"#DejaVuSans-101\"/>\n     <use x=\"872.457031\" xlink:href=\"#DejaVuSans-99\"/>\n     <use x=\"927.4375\" xlink:href=\"#DejaVuSans-108\"/>\n     <use x=\"955.220703\" xlink:href=\"#DejaVuSans-97\"/>\n     <use x=\"1016.5\" xlink:href=\"#DejaVuSans-109\"/>\n     <use x=\"1113.912109\" xlink:href=\"#DejaVuSans-97\"/>\n     <use x=\"1175.191406\" xlink:href=\"#DejaVuSans-231\"/>\n     <use x=\"1230.171875\" xlink:href=\"#DejaVuSans-245\"/>\n     <use x=\"1291.353516\" xlink:href=\"#DejaVuSans-101\"/>\n     <use x=\"1352.876953\" xlink:href=\"#DejaVuSans-115\"/>\n     <use x=\"1404.976562\" xlink:href=\"#DejaVuSans-32\"/>\n     <use x=\"1436.763672\" xlink:href=\"#DejaVuSans-112\"/>\n     <use x=\"1500.240234\" xlink:href=\"#DejaVuSans-111\"/>\n     <use x=\"1561.421875\" xlink:href=\"#DejaVuSans-114\"/>\n     <use x=\"1602.535156\" xlink:href=\"#DejaVuSans-32\"/>\n     <use x=\"1634.322266\" xlink:href=\"#DejaVuSans-115\"/>\n     <use x=\"1686.421875\" xlink:href=\"#DejaVuSans-101\"/>\n     <use x=\"1746.195312\" xlink:href=\"#DejaVuSans-120\"/>\n     <use x=\"1802.25\" xlink:href=\"#DejaVuSans-111\"/>\n    </g>\n   </g>\n  </g>\n </g>\n <defs>\n  <clipPath id=\"p7d0b3cbaa9\">\n   <rect height=\"326.16\" width=\"558\" x=\"7.2\" y=\"27.18375\"/>\n  </clipPath>\n </defs>\n</svg>\n",
      "image/png": "[encoded data removed]"
     },
     "metadata": {}
    }
   ],
   "source": [
    "sns.set(style = 'whitegrid')\n",
    "#sexo = datasets_2020[u'Sexo'].unique()[:-1]\n",
    "cont = datasets_2020['Sexo'].value_counts()\n",
    "fig, ax = plt.subplots(figsize = (10, 6))\n",
    "ax.spines['right'].set_visible(False)\n",
    "ax.spines['bottom'].set_visible(False)\n",
    "ax.spines['left'].set_visible(False)\n",
    "ax.spines['top'].set_visible(False)\n",
    "sns.barplot(x = ['M', 'F', 'O'], y = cont)\n",
    "for i in range(0, len(cont)):\n",
    "    plt.annotate(str(cont[i]), (i, cont[i] + 10000), ha = 'center')\n",
    "plt.title('Quantidade de reclamações por sexo', fontsize = 18)\n",
    "plt.xlabel('Sexo')\n",
    "plt.grid(False)\n",
    "plt.gca().axes.get_yaxis().set_visible(False);"
   ]
  },
  {
   "source": [
    "A **hipótese 2** é verdadeira, realmente os homens fazem mais reclamações do que as demais opções de sexo. "
   ],
   "cell_type": "markdown",
   "metadata": {}
  },
  {
   "source": [
    "## Faixa Etária de Consumidores por Sexo"
   ],
   "cell_type": "markdown",
   "metadata": {}
  },
  {
   "cell_type": "code",
   "execution_count": null,
   "metadata": {},
   "outputs": [],
   "source": [
    "datasets_2020.groupby('Sexo')['Faixa Etária'].value_counts()"
   ]
  },
  {
   "cell_type": "code",
   "execution_count": null,
   "metadata": {},
   "outputs": [],
   "source": []
  }
 ]
}