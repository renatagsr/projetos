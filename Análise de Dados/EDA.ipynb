{
 "metadata": {
  "language_info": {
   "codemirror_mode": {
    "name": "ipython",
    "version": 3
   },
   "file_extension": ".py",
   "mimetype": "text/x-python",
   "name": "python",
   "nbconvert_exporter": "python",
   "pygments_lexer": "ipython3",
   "version": "3.8.5-final"
  },
  "orig_nbformat": 2,
  "kernelspec": {
   "name": "python3",
   "display_name": "Python 3",
   "language": "python"
  }
 },
 "nbformat": 4,
 "nbformat_minor": 2,
 "cells": [
  {
   "source": [
    "# Análise Exploratória de Dados\n",
    "\n",
    "Toda fase que envolva *Data Science* é importante ter uma Análise Exploratória de Dados para que entenda o dado. Essa etapa é a que normalmente se consegue extrair diversos *insights*. Essa análise exploratória será justamente foca em geração de *insights*. Foi realizado uma vistória prévia em relação aos dados que serão utilizados para saber quais são os dados faltantes,visto isso a fonte dos dados e o foco desse *notebook* (geração de *insights*) não será realizada a limpeza de dados."
   ],
   "cell_type": "markdown",
   "metadata": {}
  },
  {
   "source": [
    "## Importando Bibliotecas"
   ],
   "cell_type": "markdown",
   "metadata": {}
  },
  {
   "cell_type": "code",
   "execution_count": 1,
   "metadata": {},
   "outputs": [
    {
     "output_type": "stream",
     "name": "stdout",
     "text": [
      "Populating the interactive namespace from numpy and matplotlib\n"
     ]
    }
   ],
   "source": [
    "import pandas as pd\n",
    "%matplotlib inline\n",
    "%pylab inline\n",
    "import matplotlib.pyplot as plt\n",
    "plt.style.use('ggplot')\n",
    "import sys\n",
    "import seaborn as sns"
   ]
  },
  {
   "source": [
    "## Carregando a Base de Dados"
   ],
   "cell_type": "markdown",
   "metadata": {}
  },
  {
   "source": [
    "Os dados utilizados foram obtidos no site [consumidor.gov](https://www.consumidor.gov.br/), na parte de [Dados Abertos](https://www.consumidor.gov.br/pages/dadosabertos/externo/). Os arquivos são disponibilizados gratuitamente e em formato csv. Para esse *notebook* os dados utilizados foram referentes ao ano de 2020, até o mês de Novembro já que quando esse *notebook* foi confeccionado apenas até esse mês estava disponível. \n",
    "\n",
    "Para dar entrada nos dados foi utilizado a biblioteca Pandas, para alguns arquivos foi necessário colocar o *encoding* para que o arquivo fosse lido de forma correta visto que o seu *encoding* é diferente do comum do Pandas. "
   ],
   "cell_type": "markdown",
   "metadata": {}
  },
  {
   "cell_type": "code",
   "execution_count": 2,
   "metadata": {},
   "outputs": [],
   "source": [
    "janeiro = pd.read_csv('/home/renata/Desktop/Cursos/projetos/Análise de Dados/2020-01.csv', encoding='latin-1', sep = ';')\n",
    "fevereiro = pd.read_csv('/home/renata/Desktop/Cursos/projetos/Análise de Dados/2020-02.csv', encoding='latin-1', sep = ';')\n",
    "marco = pd.read_csv('/home/renata/Desktop/Cursos/projetos/Análise de Dados/2020-03.csv', encoding='latin-1', sep = ';')\n",
    "abril = pd.read_csv('/home/renata/Desktop/Cursos/projetos/Análise de Dados/2020-04.csv', encoding='latin-1', sep = ';')\n",
    "maio = pd.read_csv('/home/renata/Desktop/Cursos/projetos/Análise de Dados/2020-05.csv', encoding='latin-1', sep = ';')\n",
    "junho = pd.read_csv('/home/renata/Desktop/Cursos/projetos/Análise de Dados/2020-06.csv', encoding='latin-1', sep = ';')\n",
    "julho = pd.read_csv('/home/renata/Desktop/Cursos/projetos/Análise de Dados/2020-07.csv',encoding='latin-1', sep = ';')\n",
    "agosto = pd.read_csv('/home/renata/Desktop/Cursos/projetos/Análise de Dados/2020-08.csv', sep = ';')\n",
    "setembro = pd.read_csv('/home/renata/Desktop/Cursos/projetos/Análise de Dados/2020-09.csv', sep = ';')\n",
    "outubro = pd.read_csv('/home/renata/Desktop/Cursos/projetos/Análise de Dados/2020-10.csv', sep = ';')\n",
    "novembro = pd.read_csv('/home/renata/Desktop/Cursos/projetos/Análise de Dados/2020-11.csv', sep = ';')"
   ]
  },
  {
   "source": [
    "As colunas de todos os *Datasets* são iguais, por isso não se faz necessário fazer a visualização de todos os dados antes de começar fazer a análise de dados."
   ],
   "cell_type": "markdown",
   "metadata": {}
  },
  {
   "cell_type": "code",
   "execution_count": 3,
   "metadata": {},
   "outputs": [
    {
     "output_type": "execute_result",
     "data": {
      "text/plain": [
       "  Região  UF                Cidade Sexo        Faixa Etária Data Finalização  \\\n",
       "0     S   PR              Curitiba    F  entre 31 a 40 anos       01/01/2020   \n",
       "1     S   PR  São José dos Pinhais    F  entre 21 a 30 anos       01/01/2020   \n",
       "2     SE  ES                 Serra    M  entre 41 a 50 anos       03/01/2020   \n",
       "3     SE  SP               Jundiaí    M  entre 31 a 40 anos       04/01/2020   \n",
       "4     S   RS          Porto Alegre    M  entre 61 a 70 anos       07/01/2020   \n",
       "\n",
       "   Tempo Resposta   Nome Fantasia  \\\n",
       "0            10.0        Itaucard   \n",
       "1            10.0             Tim   \n",
       "2             9.0             SKY   \n",
       "3             9.0  Americanas.com   \n",
       "4            10.0       Banco BMG   \n",
       "\n",
       "                                 Segmento de Mercado  \\\n",
       "0    Bancos, Financeiras e Administradoras de Cartão   \n",
       "1  Operadoras de Telecomunicações (Telefonia, Int...   \n",
       "2  Operadoras de Telecomunicações (Telefonia, Int...   \n",
       "3                                Comércio Eletrônico   \n",
       "4    Bancos, Financeiras e Administradoras de Cartão   \n",
       "\n",
       "                                      Área  \\\n",
       "0                     Serviços Financeiros   \n",
       "1                         Telecomunicações   \n",
       "2                         Telecomunicações   \n",
       "3  Produtos Eletrodomésticos e Eletrônicos   \n",
       "4                     Serviços Financeiros   \n",
       "\n",
       "                                             Assunto          Grupo Problema  \\\n",
       "0  Banco de Dados e Cadastros de Consumidores (SP...  Cobrança / Contestação   \n",
       "1                                     Internet Móvel       Contrato / Oferta   \n",
       "2                                  TV por Assinatura       Atendimento / SAC   \n",
       "3  Eletroportáteis ( batedeira, liquidificador, u...       Contrato / Oferta   \n",
       "4  Crédito Pessoal e Demais Empréstimos (exceto f...       Atendimento / SAC   \n",
       "\n",
       "                                            Problema   Como Comprou Contratou  \\\n",
       "0  Cobrança de tarifas, taxas, valores não previs...  SMS / Mensagem de texto   \n",
       "1  Alteração de plano/contrato sem solicitação ou...                 Internet   \n",
       "2  Dificuldade de contato / acesso a outros canai...              Loja física   \n",
       "3  Oferta não cumprida / serviço não fornecido/ v...                 Internet   \n",
       "4  SAC - Demanda não resolvida / não respondida /...              Loja física   \n",
       "\n",
       "  Procurou Empresa Respondida                 Situação Avaliação Reclamação  \\\n",
       "0                N          S  Finalizada não avaliada         Não Avaliada   \n",
       "1                N          S  Finalizada não avaliada         Não Avaliada   \n",
       "2                S          S  Finalizada não avaliada         Não Avaliada   \n",
       "3                N          S  Finalizada não avaliada         Não Avaliada   \n",
       "4                S          S  Finalizada não avaliada         Não Avaliada   \n",
       "\n",
       "   Nota do Consumidor  Total  \n",
       "0                 NaN      1  \n",
       "1                 NaN      1  \n",
       "2                 NaN      1  \n",
       "3                 NaN      1  \n",
       "4                 NaN      1  "
      ],
      "text/html": "<div>\n<style scoped>\n    .dataframe tbody tr th:only-of-type {\n        vertical-align: middle;\n    }\n\n    .dataframe tbody tr th {\n        vertical-align: top;\n    }\n\n    .dataframe thead th {\n        text-align: right;\n    }\n</style>\n<table border=\"1\" class=\"dataframe\">\n  <thead>\n    <tr style=\"text-align: right;\">\n      <th></th>\n      <th>Região</th>\n      <th>UF</th>\n      <th>Cidade</th>\n      <th>Sexo</th>\n      <th>Faixa Etária</th>\n      <th>Data Finalização</th>\n      <th>Tempo Resposta</th>\n      <th>Nome Fantasia</th>\n      <th>Segmento de Mercado</th>\n      <th>Área</th>\n      <th>Assunto</th>\n      <th>Grupo Problema</th>\n      <th>Problema</th>\n      <th>Como Comprou Contratou</th>\n      <th>Procurou Empresa</th>\n      <th>Respondida</th>\n      <th>Situação</th>\n      <th>Avaliação Reclamação</th>\n      <th>Nota do Consumidor</th>\n      <th>Total</th>\n    </tr>\n  </thead>\n  <tbody>\n    <tr>\n      <th>0</th>\n      <td>S</td>\n      <td>PR</td>\n      <td>Curitiba</td>\n      <td>F</td>\n      <td>entre 31 a 40 anos</td>\n      <td>01/01/2020</td>\n      <td>10.0</td>\n      <td>Itaucard</td>\n      <td>Bancos, Financeiras e Administradoras de Cartão</td>\n      <td>Serviços Financeiros</td>\n      <td>Banco de Dados e Cadastros de Consumidores (SP...</td>\n      <td>Cobrança / Contestação</td>\n      <td>Cobrança de tarifas, taxas, valores não previs...</td>\n      <td>SMS / Mensagem de texto</td>\n      <td>N</td>\n      <td>S</td>\n      <td>Finalizada não avaliada</td>\n      <td>Não Avaliada</td>\n      <td>NaN</td>\n      <td>1</td>\n    </tr>\n    <tr>\n      <th>1</th>\n      <td>S</td>\n      <td>PR</td>\n      <td>São José dos Pinhais</td>\n      <td>F</td>\n      <td>entre 21 a 30 anos</td>\n      <td>01/01/2020</td>\n      <td>10.0</td>\n      <td>Tim</td>\n      <td>Operadoras de Telecomunicações (Telefonia, Int...</td>\n      <td>Telecomunicações</td>\n      <td>Internet Móvel</td>\n      <td>Contrato / Oferta</td>\n      <td>Alteração de plano/contrato sem solicitação ou...</td>\n      <td>Internet</td>\n      <td>N</td>\n      <td>S</td>\n      <td>Finalizada não avaliada</td>\n      <td>Não Avaliada</td>\n      <td>NaN</td>\n      <td>1</td>\n    </tr>\n    <tr>\n      <th>2</th>\n      <td>SE</td>\n      <td>ES</td>\n      <td>Serra</td>\n      <td>M</td>\n      <td>entre 41 a 50 anos</td>\n      <td>03/01/2020</td>\n      <td>9.0</td>\n      <td>SKY</td>\n      <td>Operadoras de Telecomunicações (Telefonia, Int...</td>\n      <td>Telecomunicações</td>\n      <td>TV por Assinatura</td>\n      <td>Atendimento / SAC</td>\n      <td>Dificuldade de contato / acesso a outros canai...</td>\n      <td>Loja física</td>\n      <td>S</td>\n      <td>S</td>\n      <td>Finalizada não avaliada</td>\n      <td>Não Avaliada</td>\n      <td>NaN</td>\n      <td>1</td>\n    </tr>\n    <tr>\n      <th>3</th>\n      <td>SE</td>\n      <td>SP</td>\n      <td>Jundiaí</td>\n      <td>M</td>\n      <td>entre 31 a 40 anos</td>\n      <td>04/01/2020</td>\n      <td>9.0</td>\n      <td>Americanas.com</td>\n      <td>Comércio Eletrônico</td>\n      <td>Produtos Eletrodomésticos e Eletrônicos</td>\n      <td>Eletroportáteis ( batedeira, liquidificador, u...</td>\n      <td>Contrato / Oferta</td>\n      <td>Oferta não cumprida / serviço não fornecido/ v...</td>\n      <td>Internet</td>\n      <td>N</td>\n      <td>S</td>\n      <td>Finalizada não avaliada</td>\n      <td>Não Avaliada</td>\n      <td>NaN</td>\n      <td>1</td>\n    </tr>\n    <tr>\n      <th>4</th>\n      <td>S</td>\n      <td>RS</td>\n      <td>Porto Alegre</td>\n      <td>M</td>\n      <td>entre 61 a 70 anos</td>\n      <td>07/01/2020</td>\n      <td>10.0</td>\n      <td>Banco BMG</td>\n      <td>Bancos, Financeiras e Administradoras de Cartão</td>\n      <td>Serviços Financeiros</td>\n      <td>Crédito Pessoal e Demais Empréstimos (exceto f...</td>\n      <td>Atendimento / SAC</td>\n      <td>SAC - Demanda não resolvida / não respondida /...</td>\n      <td>Loja física</td>\n      <td>S</td>\n      <td>S</td>\n      <td>Finalizada não avaliada</td>\n      <td>Não Avaliada</td>\n      <td>NaN</td>\n      <td>1</td>\n    </tr>\n  </tbody>\n</table>\n</div>"
     },
     "metadata": {},
     "execution_count": 3
    }
   ],
   "source": [
    "janeiro.head()"
   ]
  },
  {
   "cell_type": "code",
   "execution_count": 4,
   "metadata": {},
   "outputs": [
    {
     "output_type": "stream",
     "name": "stdout",
     "text": [
      "<class 'pandas.core.frame.DataFrame'>\nRangeIndex: 74357 entries, 0 to 74356\nData columns (total 20 columns):\n #   Column                  Non-Null Count  Dtype  \n---  ------                  --------------  -----  \n 0   Região                  74357 non-null  object \n 1   UF                      74357 non-null  object \n 2   Cidade                  74357 non-null  object \n 3   Sexo                    74357 non-null  object \n 4   Faixa Etária            74357 non-null  object \n 5   Data Finalização        74357 non-null  object \n 6   Tempo Resposta          73746 non-null  float64\n 7   Nome Fantasia           74357 non-null  object \n 8   Segmento de Mercado     74357 non-null  object \n 9   Área                    74357 non-null  object \n 10  Assunto                 74357 non-null  object \n 11  Grupo Problema          74357 non-null  object \n 12  Problema                74357 non-null  object \n 13  Como Comprou Contratou  74357 non-null  object \n 14  Procurou Empresa        74357 non-null  object \n 15  Respondida              74357 non-null  object \n 16  Situação                74357 non-null  object \n 17  Avaliação Reclamação    74357 non-null  object \n 18  Nota do Consumidor      41120 non-null  float64\n 19  Total                   74357 non-null  int64  \ndtypes: float64(2), int64(1), object(17)\nmemory usage: 11.3+ MB\n"
     ]
    }
   ],
   "source": [
    "janeiro.info()"
   ]
  },
  {
   "cell_type": "code",
   "execution_count": 5,
   "metadata": {},
   "outputs": [],
   "source": [
    "datasets = [janeiro, fevereiro, marco, abril, maio, junho, julho, agosto, setembro, outubro, novembro]"
   ]
  },
  {
   "cell_type": "code",
   "execution_count": 6,
   "metadata": {},
   "outputs": [
    {
     "output_type": "execute_result",
     "data": {
      "text/plain": [
       "       Região  UF                Cidade Sexo        Faixa Etária  \\\n",
       "0          S   PR              Curitiba    F  entre 31 a 40 anos   \n",
       "1          S   PR  São José dos Pinhais    F  entre 21 a 30 anos   \n",
       "2          SE  ES                 Serra    M  entre 41 a 50 anos   \n",
       "3          SE  SP               Jundiaí    M  entre 31 a 40 anos   \n",
       "4          S   RS          Porto Alegre    M  entre 61 a 70 anos   \n",
       "...       ...  ..                   ...  ...                 ...   \n",
       "107242     N   PA            Ananindeua    F  entre 31 a 40 anos   \n",
       "107243     SE  MG            Uberlândia    M  entre 21 a 30 anos   \n",
       "107244     NE  RN               Equador    M  entre 31 a 40 anos   \n",
       "107245     SE  RJ                  Magé    M  entre 31 a 40 anos   \n",
       "107246     SE  SP             São Paulo    M  entre 31 a 40 anos   \n",
       "\n",
       "       Data Finalização  Tempo Resposta     Nome Fantasia  \\\n",
       "0            01/01/2020            10.0          Itaucard   \n",
       "1            01/01/2020            10.0               Tim   \n",
       "2            03/01/2020             9.0               SKY   \n",
       "3            04/01/2020             9.0    Americanas.com   \n",
       "4            07/01/2020            10.0         Banco BMG   \n",
       "...                 ...             ...               ...   \n",
       "107242       2020-11-30             0.0  Serasa Experian    \n",
       "107243       2020-11-30             0.0  Serasa Experian    \n",
       "107244       2020-11-30             0.0  Serasa Experian    \n",
       "107245       2020-11-30             0.0  Serasa Experian    \n",
       "107246       2020-11-30             0.0  Serasa Experian    \n",
       "\n",
       "                                      Segmento de Mercado  \\\n",
       "0         Bancos, Financeiras e Administradoras de Cartão   \n",
       "1       Operadoras de Telecomunicações (Telefonia, Int...   \n",
       "2       Operadoras de Telecomunicações (Telefonia, Int...   \n",
       "3                                     Comércio Eletrônico   \n",
       "4         Bancos, Financeiras e Administradoras de Cartão   \n",
       "...                                                   ...   \n",
       "107242        Bancos de Dados e Cadastros de Consumidores   \n",
       "107243        Bancos de Dados e Cadastros de Consumidores   \n",
       "107244        Bancos de Dados e Cadastros de Consumidores   \n",
       "107245        Bancos de Dados e Cadastros de Consumidores   \n",
       "107246        Bancos de Dados e Cadastros de Consumidores   \n",
       "\n",
       "                                           Área  \\\n",
       "0                          Serviços Financeiros   \n",
       "1                              Telecomunicações   \n",
       "2                              Telecomunicações   \n",
       "3       Produtos Eletrodomésticos e Eletrônicos   \n",
       "4                          Serviços Financeiros   \n",
       "...                                         ...   \n",
       "107242                     Serviços Financeiros   \n",
       "107243                     Serviços Financeiros   \n",
       "107244                     Serviços Financeiros   \n",
       "107245                     Serviços Financeiros   \n",
       "107246                     Serviços Financeiros   \n",
       "\n",
       "                                                  Assunto  \\\n",
       "0       Banco de Dados e Cadastros de Consumidores (SP...   \n",
       "1                                          Internet Móvel   \n",
       "2                                       TV por Assinatura   \n",
       "3       Eletroportáteis ( batedeira, liquidificador, u...   \n",
       "4       Crédito Pessoal e Demais Empréstimos (exceto f...   \n",
       "...                                                   ...   \n",
       "107242  Banco de Dados e Cadastros de Consumidores (SP...   \n",
       "107243  Banco de Dados e Cadastros de Consumidores (SP...   \n",
       "107244  Banco de Dados e Cadastros de Consumidores (SP...   \n",
       "107245  Banco de Dados e Cadastros de Consumidores (SP...   \n",
       "107246  Banco de Dados e Cadastros de Consumidores (SP...   \n",
       "\n",
       "                Grupo Problema  \\\n",
       "0       Cobrança / Contestação   \n",
       "1            Contrato / Oferta   \n",
       "2            Atendimento / SAC   \n",
       "3            Contrato / Oferta   \n",
       "4            Atendimento / SAC   \n",
       "...                        ...   \n",
       "107242              Informação   \n",
       "107243              Informação   \n",
       "107244              Informação   \n",
       "107245              Informação   \n",
       "107246              Informação   \n",
       "\n",
       "                                                 Problema  \\\n",
       "0       Cobrança de tarifas, taxas, valores não previs...   \n",
       "1       Alteração de plano/contrato sem solicitação ou...   \n",
       "2       Dificuldade de contato / acesso a outros canai...   \n",
       "3       Oferta não cumprida / serviço não fornecido/ v...   \n",
       "4       SAC - Demanda não resolvida / não respondida /...   \n",
       "...                                                   ...   \n",
       "107242  Dados pessoais ou financeiros consultados, col...   \n",
       "107243  Dados pessoais ou financeiros consultados, col...   \n",
       "107244  Dados pessoais ou financeiros consultados, col...   \n",
       "107245  Dados pessoais ou financeiros consultados, col...   \n",
       "107246  Dados pessoais ou financeiros consultados, col...   \n",
       "\n",
       "         Como Comprou Contratou Procurou Empresa Respondida  \\\n",
       "0       SMS / Mensagem de texto                N          S   \n",
       "1                      Internet                N          S   \n",
       "2                   Loja física                S          S   \n",
       "3                      Internet                N          S   \n",
       "4                   Loja física                S          S   \n",
       "...                         ...              ...        ...   \n",
       "107242                 Internet                N          S   \n",
       "107243                 Internet                N          S   \n",
       "107244                 Internet                N          S   \n",
       "107245                 Internet                N          S   \n",
       "107246                 Internet                N          S   \n",
       "\n",
       "                       Situação Avaliação Reclamação  Nota do Consumidor  \\\n",
       "0       Finalizada não avaliada         Não Avaliada                 NaN   \n",
       "1       Finalizada não avaliada         Não Avaliada                 NaN   \n",
       "2       Finalizada não avaliada         Não Avaliada                 NaN   \n",
       "3       Finalizada não avaliada         Não Avaliada                 NaN   \n",
       "4       Finalizada não avaliada         Não Avaliada                 NaN   \n",
       "...                         ...                  ...                 ...   \n",
       "107242      Finalizada avaliada            Resolvida                 5.0   \n",
       "107243      Finalizada avaliada        Não Resolvida                 3.0   \n",
       "107244      Finalizada avaliada        Não Resolvida                 1.0   \n",
       "107245      Finalizada avaliada        Não Resolvida                 2.0   \n",
       "107246      Finalizada avaliada        Não Resolvida                 1.0   \n",
       "\n",
       "        Total  \n",
       "0         1.0  \n",
       "1         1.0  \n",
       "2         1.0  \n",
       "3         1.0  \n",
       "4         1.0  \n",
       "...       ...  \n",
       "107242    NaN  \n",
       "107243    NaN  \n",
       "107244    NaN  \n",
       "107245    NaN  \n",
       "107246    NaN  \n",
       "\n",
       "[1079391 rows x 20 columns]"
      ],
      "text/html": "<div>\n<style scoped>\n    .dataframe tbody tr th:only-of-type {\n        vertical-align: middle;\n    }\n\n    .dataframe tbody tr th {\n        vertical-align: top;\n    }\n\n    .dataframe thead th {\n        text-align: right;\n    }\n</style>\n<table border=\"1\" class=\"dataframe\">\n  <thead>\n    <tr style=\"text-align: right;\">\n      <th></th>\n      <th>Região</th>\n      <th>UF</th>\n      <th>Cidade</th>\n      <th>Sexo</th>\n      <th>Faixa Etária</th>\n      <th>Data Finalização</th>\n      <th>Tempo Resposta</th>\n      <th>Nome Fantasia</th>\n      <th>Segmento de Mercado</th>\n      <th>Área</th>\n      <th>Assunto</th>\n      <th>Grupo Problema</th>\n      <th>Problema</th>\n      <th>Como Comprou Contratou</th>\n      <th>Procurou Empresa</th>\n      <th>Respondida</th>\n      <th>Situação</th>\n      <th>Avaliação Reclamação</th>\n      <th>Nota do Consumidor</th>\n      <th>Total</th>\n    </tr>\n  </thead>\n  <tbody>\n    <tr>\n      <th>0</th>\n      <td>S</td>\n      <td>PR</td>\n      <td>Curitiba</td>\n      <td>F</td>\n      <td>entre 31 a 40 anos</td>\n      <td>01/01/2020</td>\n      <td>10.0</td>\n      <td>Itaucard</td>\n      <td>Bancos, Financeiras e Administradoras de Cartão</td>\n      <td>Serviços Financeiros</td>\n      <td>Banco de Dados e Cadastros de Consumidores (SP...</td>\n      <td>Cobrança / Contestação</td>\n      <td>Cobrança de tarifas, taxas, valores não previs...</td>\n      <td>SMS / Mensagem de texto</td>\n      <td>N</td>\n      <td>S</td>\n      <td>Finalizada não avaliada</td>\n      <td>Não Avaliada</td>\n      <td>NaN</td>\n      <td>1.0</td>\n    </tr>\n    <tr>\n      <th>1</th>\n      <td>S</td>\n      <td>PR</td>\n      <td>São José dos Pinhais</td>\n      <td>F</td>\n      <td>entre 21 a 30 anos</td>\n      <td>01/01/2020</td>\n      <td>10.0</td>\n      <td>Tim</td>\n      <td>Operadoras de Telecomunicações (Telefonia, Int...</td>\n      <td>Telecomunicações</td>\n      <td>Internet Móvel</td>\n      <td>Contrato / Oferta</td>\n      <td>Alteração de plano/contrato sem solicitação ou...</td>\n      <td>Internet</td>\n      <td>N</td>\n      <td>S</td>\n      <td>Finalizada não avaliada</td>\n      <td>Não Avaliada</td>\n      <td>NaN</td>\n      <td>1.0</td>\n    </tr>\n    <tr>\n      <th>2</th>\n      <td>SE</td>\n      <td>ES</td>\n      <td>Serra</td>\n      <td>M</td>\n      <td>entre 41 a 50 anos</td>\n      <td>03/01/2020</td>\n      <td>9.0</td>\n      <td>SKY</td>\n      <td>Operadoras de Telecomunicações (Telefonia, Int...</td>\n      <td>Telecomunicações</td>\n      <td>TV por Assinatura</td>\n      <td>Atendimento / SAC</td>\n      <td>Dificuldade de contato / acesso a outros canai...</td>\n      <td>Loja física</td>\n      <td>S</td>\n      <td>S</td>\n      <td>Finalizada não avaliada</td>\n      <td>Não Avaliada</td>\n      <td>NaN</td>\n      <td>1.0</td>\n    </tr>\n    <tr>\n      <th>3</th>\n      <td>SE</td>\n      <td>SP</td>\n      <td>Jundiaí</td>\n      <td>M</td>\n      <td>entre 31 a 40 anos</td>\n      <td>04/01/2020</td>\n      <td>9.0</td>\n      <td>Americanas.com</td>\n      <td>Comércio Eletrônico</td>\n      <td>Produtos Eletrodomésticos e Eletrônicos</td>\n      <td>Eletroportáteis ( batedeira, liquidificador, u...</td>\n      <td>Contrato / Oferta</td>\n      <td>Oferta não cumprida / serviço não fornecido/ v...</td>\n      <td>Internet</td>\n      <td>N</td>\n      <td>S</td>\n      <td>Finalizada não avaliada</td>\n      <td>Não Avaliada</td>\n      <td>NaN</td>\n      <td>1.0</td>\n    </tr>\n    <tr>\n      <th>4</th>\n      <td>S</td>\n      <td>RS</td>\n      <td>Porto Alegre</td>\n      <td>M</td>\n      <td>entre 61 a 70 anos</td>\n      <td>07/01/2020</td>\n      <td>10.0</td>\n      <td>Banco BMG</td>\n      <td>Bancos, Financeiras e Administradoras de Cartão</td>\n      <td>Serviços Financeiros</td>\n      <td>Crédito Pessoal e Demais Empréstimos (exceto f...</td>\n      <td>Atendimento / SAC</td>\n      <td>SAC - Demanda não resolvida / não respondida /...</td>\n      <td>Loja física</td>\n      <td>S</td>\n      <td>S</td>\n      <td>Finalizada não avaliada</td>\n      <td>Não Avaliada</td>\n      <td>NaN</td>\n      <td>1.0</td>\n    </tr>\n    <tr>\n      <th>...</th>\n      <td>...</td>\n      <td>...</td>\n      <td>...</td>\n      <td>...</td>\n      <td>...</td>\n      <td>...</td>\n      <td>...</td>\n      <td>...</td>\n      <td>...</td>\n      <td>...</td>\n      <td>...</td>\n      <td>...</td>\n      <td>...</td>\n      <td>...</td>\n      <td>...</td>\n      <td>...</td>\n      <td>...</td>\n      <td>...</td>\n      <td>...</td>\n      <td>...</td>\n    </tr>\n    <tr>\n      <th>107242</th>\n      <td>N</td>\n      <td>PA</td>\n      <td>Ananindeua</td>\n      <td>F</td>\n      <td>entre 31 a 40 anos</td>\n      <td>2020-11-30</td>\n      <td>0.0</td>\n      <td>Serasa Experian</td>\n      <td>Bancos de Dados e Cadastros de Consumidores</td>\n      <td>Serviços Financeiros</td>\n      <td>Banco de Dados e Cadastros de Consumidores (SP...</td>\n      <td>Informação</td>\n      <td>Dados pessoais ou financeiros consultados, col...</td>\n      <td>Internet</td>\n      <td>N</td>\n      <td>S</td>\n      <td>Finalizada avaliada</td>\n      <td>Resolvida</td>\n      <td>5.0</td>\n      <td>NaN</td>\n    </tr>\n    <tr>\n      <th>107243</th>\n      <td>SE</td>\n      <td>MG</td>\n      <td>Uberlândia</td>\n      <td>M</td>\n      <td>entre 21 a 30 anos</td>\n      <td>2020-11-30</td>\n      <td>0.0</td>\n      <td>Serasa Experian</td>\n      <td>Bancos de Dados e Cadastros de Consumidores</td>\n      <td>Serviços Financeiros</td>\n      <td>Banco de Dados e Cadastros de Consumidores (SP...</td>\n      <td>Informação</td>\n      <td>Dados pessoais ou financeiros consultados, col...</td>\n      <td>Internet</td>\n      <td>N</td>\n      <td>S</td>\n      <td>Finalizada avaliada</td>\n      <td>Não Resolvida</td>\n      <td>3.0</td>\n      <td>NaN</td>\n    </tr>\n    <tr>\n      <th>107244</th>\n      <td>NE</td>\n      <td>RN</td>\n      <td>Equador</td>\n      <td>M</td>\n      <td>entre 31 a 40 anos</td>\n      <td>2020-11-30</td>\n      <td>0.0</td>\n      <td>Serasa Experian</td>\n      <td>Bancos de Dados e Cadastros de Consumidores</td>\n      <td>Serviços Financeiros</td>\n      <td>Banco de Dados e Cadastros de Consumidores (SP...</td>\n      <td>Informação</td>\n      <td>Dados pessoais ou financeiros consultados, col...</td>\n      <td>Internet</td>\n      <td>N</td>\n      <td>S</td>\n      <td>Finalizada avaliada</td>\n      <td>Não Resolvida</td>\n      <td>1.0</td>\n      <td>NaN</td>\n    </tr>\n    <tr>\n      <th>107245</th>\n      <td>SE</td>\n      <td>RJ</td>\n      <td>Magé</td>\n      <td>M</td>\n      <td>entre 31 a 40 anos</td>\n      <td>2020-11-30</td>\n      <td>0.0</td>\n      <td>Serasa Experian</td>\n      <td>Bancos de Dados e Cadastros de Consumidores</td>\n      <td>Serviços Financeiros</td>\n      <td>Banco de Dados e Cadastros de Consumidores (SP...</td>\n      <td>Informação</td>\n      <td>Dados pessoais ou financeiros consultados, col...</td>\n      <td>Internet</td>\n      <td>N</td>\n      <td>S</td>\n      <td>Finalizada avaliada</td>\n      <td>Não Resolvida</td>\n      <td>2.0</td>\n      <td>NaN</td>\n    </tr>\n    <tr>\n      <th>107246</th>\n      <td>SE</td>\n      <td>SP</td>\n      <td>São Paulo</td>\n      <td>M</td>\n      <td>entre 31 a 40 anos</td>\n      <td>2020-11-30</td>\n      <td>0.0</td>\n      <td>Serasa Experian</td>\n      <td>Bancos de Dados e Cadastros de Consumidores</td>\n      <td>Serviços Financeiros</td>\n      <td>Banco de Dados e Cadastros de Consumidores (SP...</td>\n      <td>Informação</td>\n      <td>Dados pessoais ou financeiros consultados, col...</td>\n      <td>Internet</td>\n      <td>N</td>\n      <td>S</td>\n      <td>Finalizada avaliada</td>\n      <td>Não Resolvida</td>\n      <td>1.0</td>\n      <td>NaN</td>\n    </tr>\n  </tbody>\n</table>\n<p>1079391 rows × 20 columns</p>\n</div>"
     },
     "metadata": {},
     "execution_count": 6
    }
   ],
   "source": [
    "datasets_2020 = pd.concat(datasets)\n",
    "datasets_2020"
   ]
  },
  {
   "source": [
    "Foi utilizada a função \"pd.concat()\" para concatenar todos os dados, ou seja, foi feita uma junção de todos os dados em apenas uma variável. Como foi dito anteriormente as colunas de todos os *datasets* são iguais, portanto é fácil fazer a junção de todos os meses para ter uma base de dados única ao invés de toda sempre ser necessário ler arquivo por arquivo, isso facilita muito já que a análise desejada é de todos os meses do ano e não de um em específico. \n",
    "\n",
    "A função *concat* é muito útil e fácil de ser utilizada para diversas aplicações, como por exemplo, poderíamos desejar a interseção dos dados ao invés da união de todos, para fazer isso bastaria fazer uma pequena mudanção dentro da função e seria realizado. Isso facilita muito principalmente com um grande número de dados que seria impossível de realizar essa concateção de tabelas à mão. Para saber mais sobre essa função basta consultar a sua [documentação](https://pandas.pydata.org/pandas-docs/stable/user_guide/merging.html)."
   ],
   "cell_type": "markdown",
   "metadata": {}
  },
  {
   "source": [
    "Visto que essa análise está focando em *insights* foram definidas algumas hipóteses simples para que elas possam ser validadas com dado ou não. O interessante da Análise de Dados é que a medida que se trabalha com os dados irá ter cada vez mais ideias. A geração de hipóteses é sempre importante porque dessa forma saberá o que se desea obter através dos dados e se nesses dados tem todas as informações necessárias, caso não tenha todas as informações necessárias será necessário procurar outra fonte complementar ou então - se for trabalho para uma empresa - solicitar a pessoa responsável por colher os dados. Um ponto importante é que antes de testar as hipóteses é necessário ter algumas ideias dos dados que serão utilizados, para que assim seja possível gerar as hipóteses e os resultados."
   ],
   "cell_type": "markdown",
   "metadata": {}
  },
  {
   "source": [
    "## Número de Reclamações por Estado \n",
    "\n",
    "**Hipótese 1**: Os estados da região Sudeste (região mais populosa) são os estados que mais possuem reclamações registradas.\n",
    "\n",
    "Essa Hipótese é feita com base de que se espera que os estados que tem mais pessoas também sejam os lugares que possuem maior número de reclamações. "
   ],
   "cell_type": "markdown",
   "metadata": {}
  },
  {
   "cell_type": "code",
   "execution_count": 7,
   "metadata": {},
   "outputs": [
    {
     "output_type": "execute_result",
     "data": {
      "text/plain": [
       "SP    282922\n",
       "MG    107443\n",
       "PR     98727\n",
       "RJ     93663\n",
       "RS     76797\n",
       "BA     60782\n",
       "DF     45009\n",
       "SC     42774\n",
       "GO     32063\n",
       "CE     29386\n",
       "PE     28246\n",
       "ES     27366\n",
       "MS     22461\n",
       "MA     20691\n",
       "MT     20629\n",
       "PI     18582\n",
       "PA     13244\n",
       "PB     11655\n",
       "AM     10840\n",
       "RN      8256\n",
       "AL      7065\n",
       "SE      5260\n",
       "TO      5068\n",
       "RO      4434\n",
       "AC      3238\n",
       "AP      1398\n",
       "RR      1392\n",
       "Name: UF, dtype: int64"
      ]
     },
     "metadata": {},
     "execution_count": 7
    }
   ],
   "source": [
    "datasets_2020['UF'].value_counts(ascending=False)"
   ]
  },
  {
   "source": [
    "A **Hipótese 1** é **falso**, não foi validado pelo fato de que o estado de que o terceiro estado que possui maior número de reclamações é o Paraná que não é um estado da região Sudeste. Mesmo que a hipótese não tenha sido validada é importante ver que 3 dos 4 estados da região Sudeste estão entre os quatro primeiros colocados com maior número de reclamações. "
   ],
   "cell_type": "markdown",
   "metadata": {}
  },
  {
   "source": [
    "## Quantidade de Reclamações por Sexo\n",
    "\n",
    "**Hipótese 2**: Os homens fazem mais reclamações. "
   ],
   "cell_type": "markdown",
   "metadata": {}
  },
  {
   "cell_type": "code",
   "execution_count": 8,
   "metadata": {},
   "outputs": [
    {
     "output_type": "execute_result",
     "data": {
      "text/plain": [
       "M    605094\n",
       "F    474063\n",
       "O       222\n",
       "Name: Sexo, dtype: int64"
      ]
     },
     "metadata": {},
     "execution_count": 8
    }
   ],
   "source": [
    "datasets_2020['Sexo'].value_counts()"
   ]
  },
  {
   "source": [
    "A sigla \"O\" é referente e \"outros sexos\" para aquelas pessoas que não se identificam nem com o sexo feminino nem masculino."
   ],
   "cell_type": "markdown",
   "metadata": {}
  },
  {
   "cell_type": "code",
   "execution_count": null,
   "metadata": {},
   "outputs": [],
   "source": []
  }
 ]
}